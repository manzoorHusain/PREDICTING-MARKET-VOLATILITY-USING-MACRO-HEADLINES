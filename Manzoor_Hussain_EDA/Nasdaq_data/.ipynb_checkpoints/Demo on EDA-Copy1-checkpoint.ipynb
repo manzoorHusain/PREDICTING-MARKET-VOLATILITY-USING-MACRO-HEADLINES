{
 "cells": [
  {
   "cell_type": "code",
   "execution_count": 1,
   "metadata": {},
   "outputs": [],
   "source": [
    "import pandas as pd\n",
    "import numpy as np"
   ]
  },
  {
   "cell_type": "code",
   "execution_count": 2,
   "metadata": {},
   "outputs": [],
   "source": [
    "aapl_data = pd.read_csv('HistoricalData_AAPL.csv')"
   ]
  },
  {
   "cell_type": "code",
   "execution_count": 3,
   "metadata": {},
   "outputs": [
    {
     "data": {
      "text/html": [
       "<div>\n",
       "<style scoped>\n",
       "    .dataframe tbody tr th:only-of-type {\n",
       "        vertical-align: middle;\n",
       "    }\n",
       "\n",
       "    .dataframe tbody tr th {\n",
       "        vertical-align: top;\n",
       "    }\n",
       "\n",
       "    .dataframe thead th {\n",
       "        text-align: right;\n",
       "    }\n",
       "</style>\n",
       "<table border=\"1\" class=\"dataframe\">\n",
       "  <thead>\n",
       "    <tr style=\"text-align: right;\">\n",
       "      <th></th>\n",
       "      <th>Date</th>\n",
       "      <th>Close/Last</th>\n",
       "      <th>Volume</th>\n",
       "      <th>Open</th>\n",
       "      <th>High</th>\n",
       "      <th>Low</th>\n",
       "    </tr>\n",
       "  </thead>\n",
       "  <tbody>\n",
       "    <tr>\n",
       "      <th>0</th>\n",
       "      <td>09/24/2021</td>\n",
       "      <td>$146.92</td>\n",
       "      <td>53477870</td>\n",
       "      <td>$145.66</td>\n",
       "      <td>$147.4701</td>\n",
       "      <td>$145.56</td>\n",
       "    </tr>\n",
       "    <tr>\n",
       "      <th>1</th>\n",
       "      <td>09/23/2021</td>\n",
       "      <td>$146.83</td>\n",
       "      <td>64838170</td>\n",
       "      <td>$146.65</td>\n",
       "      <td>$147.08</td>\n",
       "      <td>$145.64</td>\n",
       "    </tr>\n",
       "    <tr>\n",
       "      <th>2</th>\n",
       "      <td>09/22/2021</td>\n",
       "      <td>$145.85</td>\n",
       "      <td>76404340</td>\n",
       "      <td>$144.45</td>\n",
       "      <td>$146.43</td>\n",
       "      <td>$143.7001</td>\n",
       "    </tr>\n",
       "    <tr>\n",
       "      <th>3</th>\n",
       "      <td>09/21/2021</td>\n",
       "      <td>$143.43</td>\n",
       "      <td>75833960</td>\n",
       "      <td>$143.93</td>\n",
       "      <td>$144.6</td>\n",
       "      <td>$142.78</td>\n",
       "    </tr>\n",
       "    <tr>\n",
       "      <th>4</th>\n",
       "      <td>09/20/2021</td>\n",
       "      <td>$142.94</td>\n",
       "      <td>123478900</td>\n",
       "      <td>$143.8</td>\n",
       "      <td>$144.84</td>\n",
       "      <td>$141.27</td>\n",
       "    </tr>\n",
       "  </tbody>\n",
       "</table>\n",
       "</div>"
      ],
      "text/plain": [
       "         Date Close/Last     Volume     Open       High        Low\n",
       "0  09/24/2021    $146.92   53477870  $145.66  $147.4701    $145.56\n",
       "1  09/23/2021    $146.83   64838170  $146.65    $147.08    $145.64\n",
       "2  09/22/2021    $145.85   76404340  $144.45    $146.43  $143.7001\n",
       "3  09/21/2021    $143.43   75833960  $143.93     $144.6    $142.78\n",
       "4  09/20/2021    $142.94  123478900   $143.8    $144.84    $141.27"
      ]
     },
     "execution_count": 3,
     "metadata": {},
     "output_type": "execute_result"
    }
   ],
   "source": [
    "aapl_data.head()"
   ]
  },
  {
   "cell_type": "code",
   "execution_count": 4,
   "metadata": {},
   "outputs": [
    {
     "data": {
      "text/plain": [
       "(126, 6)"
      ]
     },
     "execution_count": 4,
     "metadata": {},
     "output_type": "execute_result"
    }
   ],
   "source": [
    "aapl_data.shape"
   ]
  },
  {
   "cell_type": "code",
   "execution_count": 5,
   "metadata": {},
   "outputs": [
    {
     "data": {
      "text/plain": [
       "Date          0\n",
       "Close/Last    0\n",
       "Volume        0\n",
       "Open          0\n",
       "High          0\n",
       "Low           0\n",
       "dtype: int64"
      ]
     },
     "execution_count": 5,
     "metadata": {},
     "output_type": "execute_result"
    }
   ],
   "source": [
    "aapl_data.isnull().sum()\n",
    "# there is no null data"
   ]
  },
  {
   "cell_type": "code",
   "execution_count": 6,
   "metadata": {},
   "outputs": [
    {
     "data": {
      "text/plain": [
       "Date          0\n",
       "Close/Last    0\n",
       "Volume        0\n",
       "Open          0\n",
       "High          0\n",
       "Low           0\n",
       "dtype: int64"
      ]
     },
     "execution_count": 6,
     "metadata": {},
     "output_type": "execute_result"
    }
   ],
   "source": [
    "aapl_data.isna().sum()"
   ]
  },
  {
   "cell_type": "markdown",
   "metadata": {},
   "source": [
    "## Checking Data Types\n"
   ]
  },
  {
   "cell_type": "code",
   "execution_count": 7,
   "metadata": {},
   "outputs": [
    {
     "data": {
      "text/plain": [
       "Date          object\n",
       "Close/Last    object\n",
       "Volume         int64\n",
       "Open          object\n",
       "High          object\n",
       "Low           object\n",
       "dtype: object"
      ]
     },
     "execution_count": 7,
     "metadata": {},
     "output_type": "execute_result"
    }
   ],
   "source": [
    "aapl_data.dtypes"
   ]
  },
  {
   "cell_type": "code",
   "execution_count": 8,
   "metadata": {},
   "outputs": [],
   "source": [
    "df = pd.DataFrame(aapl_data)"
   ]
  },
  {
   "cell_type": "code",
   "execution_count": 9,
   "metadata": {},
   "outputs": [
    {
     "data": {
      "text/html": [
       "<div>\n",
       "<style scoped>\n",
       "    .dataframe tbody tr th:only-of-type {\n",
       "        vertical-align: middle;\n",
       "    }\n",
       "\n",
       "    .dataframe tbody tr th {\n",
       "        vertical-align: top;\n",
       "    }\n",
       "\n",
       "    .dataframe thead th {\n",
       "        text-align: right;\n",
       "    }\n",
       "</style>\n",
       "<table border=\"1\" class=\"dataframe\">\n",
       "  <thead>\n",
       "    <tr style=\"text-align: right;\">\n",
       "      <th></th>\n",
       "      <th>Date</th>\n",
       "      <th>Close/Last</th>\n",
       "      <th>Volume</th>\n",
       "      <th>Open</th>\n",
       "      <th>High</th>\n",
       "      <th>Low</th>\n",
       "    </tr>\n",
       "  </thead>\n",
       "  <tbody>\n",
       "    <tr>\n",
       "      <th>0</th>\n",
       "      <td>09/24/2021</td>\n",
       "      <td>$146.92</td>\n",
       "      <td>53477870</td>\n",
       "      <td>$145.66</td>\n",
       "      <td>$147.4701</td>\n",
       "      <td>$145.56</td>\n",
       "    </tr>\n",
       "    <tr>\n",
       "      <th>1</th>\n",
       "      <td>09/23/2021</td>\n",
       "      <td>$146.83</td>\n",
       "      <td>64838170</td>\n",
       "      <td>$146.65</td>\n",
       "      <td>$147.08</td>\n",
       "      <td>$145.64</td>\n",
       "    </tr>\n",
       "  </tbody>\n",
       "</table>\n",
       "</div>"
      ],
      "text/plain": [
       "         Date Close/Last    Volume     Open       High      Low\n",
       "0  09/24/2021    $146.92  53477870  $145.66  $147.4701  $145.56\n",
       "1  09/23/2021    $146.83  64838170  $146.65    $147.08  $145.64"
      ]
     },
     "execution_count": 9,
     "metadata": {},
     "output_type": "execute_result"
    }
   ],
   "source": [
    "df[:2].head()"
   ]
  },
  {
   "cell_type": "code",
   "execution_count": 10,
   "metadata": {},
   "outputs": [
    {
     "data": {
      "text/html": [
       "<div>\n",
       "<style scoped>\n",
       "    .dataframe tbody tr th:only-of-type {\n",
       "        vertical-align: middle;\n",
       "    }\n",
       "\n",
       "    .dataframe tbody tr th {\n",
       "        vertical-align: top;\n",
       "    }\n",
       "\n",
       "    .dataframe thead th {\n",
       "        text-align: right;\n",
       "    }\n",
       "</style>\n",
       "<table border=\"1\" class=\"dataframe\">\n",
       "  <thead>\n",
       "    <tr style=\"text-align: right;\">\n",
       "      <th></th>\n",
       "      <th>Date</th>\n",
       "      <th>Volume</th>\n",
       "    </tr>\n",
       "  </thead>\n",
       "  <tbody>\n",
       "    <tr>\n",
       "      <th>0</th>\n",
       "      <td>09/24/2021</td>\n",
       "      <td>53477870</td>\n",
       "    </tr>\n",
       "    <tr>\n",
       "      <th>1</th>\n",
       "      <td>09/23/2021</td>\n",
       "      <td>64838170</td>\n",
       "    </tr>\n",
       "    <tr>\n",
       "      <th>2</th>\n",
       "      <td>09/22/2021</td>\n",
       "      <td>76404340</td>\n",
       "    </tr>\n",
       "    <tr>\n",
       "      <th>3</th>\n",
       "      <td>09/21/2021</td>\n",
       "      <td>75833960</td>\n",
       "    </tr>\n",
       "    <tr>\n",
       "      <th>4</th>\n",
       "      <td>09/20/2021</td>\n",
       "      <td>123478900</td>\n",
       "    </tr>\n",
       "  </tbody>\n",
       "</table>\n",
       "</div>"
      ],
      "text/plain": [
       "         Date     Volume\n",
       "0  09/24/2021   53477870\n",
       "1  09/23/2021   64838170\n",
       "2  09/22/2021   76404340\n",
       "3  09/21/2021   75833960\n",
       "4  09/20/2021  123478900"
      ]
     },
     "execution_count": 10,
     "metadata": {},
     "output_type": "execute_result"
    }
   ],
   "source": [
    "df[['Date','Volume']].head()\n",
    "# aapl_data[['Date','Volume']].head() # both works"
   ]
  },
  {
   "cell_type": "code",
   "execution_count": 11,
   "metadata": {},
   "outputs": [],
   "source": [
    "low_list = []\n",
    "low_list = list(df['Low'])"
   ]
  },
  {
   "cell_type": "code",
   "execution_count": 12,
   "metadata": {},
   "outputs": [],
   "source": [
    "import string"
   ]
  },
  {
   "cell_type": "code",
   "execution_count": 13,
   "metadata": {},
   "outputs": [
    {
     "ename": "TypeError",
     "evalue": "translate() takes exactly one argument (2 given)",
     "output_type": "error",
     "traceback": [
      "\u001b[1;31m---------------------------------------------------------------------------\u001b[0m",
      "\u001b[1;31mTypeError\u001b[0m                                 Traceback (most recent call last)",
      "\u001b[1;32m<ipython-input-13-18911c0987ef>\u001b[0m in \u001b[0;36m<module>\u001b[1;34m\u001b[0m\n\u001b[0;32m      1\u001b[0m \u001b[1;32mfor\u001b[0m \u001b[0mi\u001b[0m \u001b[1;32min\u001b[0m \u001b[0mlow_list\u001b[0m\u001b[1;33m:\u001b[0m\u001b[1;33m\u001b[0m\u001b[1;33m\u001b[0m\u001b[0m\n\u001b[1;32m----> 2\u001b[1;33m     \u001b[0mi\u001b[0m \u001b[1;33m=\u001b[0m \u001b[0mi\u001b[0m\u001b[1;33m.\u001b[0m\u001b[0mtranslate\u001b[0m\u001b[1;33m(\u001b[0m\u001b[1;32mNone\u001b[0m\u001b[1;33m,\u001b[0m\u001b[1;34m\"$#\"\u001b[0m\u001b[1;33m)\u001b[0m\u001b[1;33m\u001b[0m\u001b[1;33m\u001b[0m\u001b[0m\n\u001b[0m",
      "\u001b[1;31mTypeError\u001b[0m: translate() takes exactly one argument (2 given)"
     ]
    }
   ],
   "source": [
    "for i in low_list:\n",
    "    i = i.translate(None,\"$#\")"
   ]
  },
  {
   "cell_type": "code",
   "execution_count": 14,
   "metadata": {},
   "outputs": [
    {
     "name": "stdout",
     "output_type": "stream",
     "text": [
      "['$145.56', '$145.64', '$143.7001', '$142.78', '$141.27', '$145.76', '$147.221', '$146.37', '$146.91', '$148.75', '$148.7', '$153.95', '$153.975', '$154.39', '$153.09', '$152.4', '$152.34', '$151.29', '$148.61', '$146.83', '$147.51', '$147.8', '$149.15', '$147.89', '$146.78', '$144.5', '$146.15', '$149.09', '$146.47', '$148.27', '$145.84', '$145.53', '$145.3', '$145.52', '$145.63', '$146.17', '$146.28', '$145.18', '$145.25', '$144.11', '$144.58', '$142.54', '$145.55', '$147.7', '$146.92', '$145.81', '$144.63', '$142.96', '$141.67', '$145.88', '$147.09', '$147.68', '$143.63', '$144', '$142.6522', '$140.665', '$142.66', '$140.07', '$137.745', '$135.76', '$135.87', '$134.35', '$133.35', '$132.81', '$132.93', '$133.23', '$131.62', '$129.21', '$130.24', '$129.65', '$128.461', '$129.39', '$127.07', '$126.1', '$125.94', '$126.52', '$126.2101', '$124.8321', '$123.85', '$123.13', '$124.05', '$123.94', '$124.55', '$125.08', '$126.42', '$126.32', '$125.94', '$125.21', '$125.1', '$122.86', '$124.78', '$125.17', '$125.85', '$124.26', '$122.25', '$122.77', '$126.81', '$129.475', '$127.13', '$127.97', '$126.7', '$131.83', '$131.065', '$132.45', '$133.08', '$134.11', '$133.56', '$132.16', '$131.41', '$131.3001', '$131.81', '$133.34', '$133.28', '$133.64', '$131.655', '$131.93', '$130.63', '$129.47', '$128.52', '$125.14', '$125.65', '$123.07', '$122.49', '$121.15', '$118.86', '$120.7299']\n",
      "<class 'list'>\n",
      "126\n"
     ]
    }
   ],
   "source": [
    "print(low_list)\n",
    "print(type(low_list))\n",
    "print(len(low_list))"
   ]
  },
  {
   "cell_type": "code",
   "execution_count": 39,
   "metadata": {},
   "outputs": [],
   "source": [
    "result = []\n",
    "for i in low_list:\n",
    "#     result = map(lambda Element: Element.translate(None, \"$\"), low_list) \n",
    "    i = i.translate."
   ]
  },
  {
   "cell_type": "code",
   "execution_count": 40,
   "metadata": {},
   "outputs": [
    {
     "name": "stdout",
     "output_type": "stream",
     "text": [
      "<map object at 0x0000019B207E28E0>\n"
     ]
    }
   ],
   "source": [
    "print(result)"
   ]
  },
  {
   "cell_type": "code",
   "execution_count": 42,
   "metadata": {},
   "outputs": [
    {
     "name": "stdout",
     "output_type": "stream",
     "text": [
      "<map object at 0x0000019B2082B340>\n"
     ]
    }
   ],
   "source": [
    "SYMBOLS = '${}()[].,:;+-*/&|<>=~1234567890'\n",
    "def myFunction(exList):\n",
    "    result = map(lambda Element: Element.translate(None, SYMBOLS).strip(), exList)  \n",
    "    return result\n",
    "\n",
    "\n",
    "print(myFunction(low_list))"
   ]
  },
  {
   "cell_type": "code",
   "execution_count": 44,
   "metadata": {},
   "outputs": [
    {
     "name": "stdout",
     "output_type": "stream",
     "text": [
      "['$145.56', '$145.64', '$143.7001', '$142.78']\n"
     ]
    }
   ],
   "source": [
    "print(low_list[:4])"
   ]
  },
  {
   "cell_type": "code",
   "execution_count": 57,
   "metadata": {
    "scrolled": true
   },
   "outputs": [],
   "source": [
    "new_low_list = []\n",
    "for i in low_list:\n",
    "#     print(type(i))\n",
    "        i = i.translate(str.maketrans('','','$'))\n",
    "#         print(i)\n",
    "    \n",
    "        new_low_list.append(float(i))\n",
    "    \n",
    "#     text = text.translate(str.maketrans('','',string.punctuation))\n"
   ]
  },
  {
   "cell_type": "code",
   "execution_count": 48,
   "metadata": {},
   "outputs": [
    {
     "name": "stdout",
     "output_type": "stream",
     "text": [
      "['$145.56', '$145.64', '$143.7001', '$142.78', '$141.27']\n"
     ]
    }
   ],
   "source": [
    "print(low_list[:5])"
   ]
  },
  {
   "cell_type": "code",
   "execution_count": 58,
   "metadata": {},
   "outputs": [
    {
     "name": "stdout",
     "output_type": "stream",
     "text": [
      "<class 'float'>\n"
     ]
    }
   ],
   "source": [
    "print(type(new_low_list[1]))"
   ]
  },
  {
   "cell_type": "code",
   "execution_count": 63,
   "metadata": {},
   "outputs": [
    {
     "ename": "SyntaxError",
     "evalue": "unexpected EOF while parsing (<ipython-input-63-61cf2b4c4d0b>, line 4)",
     "output_type": "error",
     "traceback": [
      "\u001b[1;36m  File \u001b[1;32m\"<ipython-input-63-61cf2b4c4d0b>\"\u001b[1;36m, line \u001b[1;32m4\u001b[0m\n\u001b[1;33m    #         print(i)\u001b[0m\n\u001b[1;37m                      ^\u001b[0m\n\u001b[1;31mSyntaxError\u001b[0m\u001b[1;31m:\u001b[0m unexpected EOF while parsing\n"
     ]
    }
   ],
   "source": [
    "for index, row in df.iterrows():\n",
    "#     print(row['Date'].head(), row['Low'])\n",
    "#       for i in row['Date']:\n",
    "# #         print(i)"
   ]
  },
  {
   "cell_type": "code",
   "execution_count": 80,
   "metadata": {},
   "outputs": [
    {
     "name": "stdout",
     "output_type": "stream",
     "text": [
      "09/24/2021\n",
      "146.83\n",
      "143.93\n",
      "144.84\n",
      "145.76\n"
     ]
    }
   ],
   "source": [
    "count = 0\n",
    "for index, row in df.iterrows():\n",
    "    count+=1\n",
    "#     print(index,row)\n",
    "#     print(row[index])\n",
    "#     if type(row[index]) == 'int':\n",
    "    if isinstance(row[index],int):\n",
    "#         print(\"yes\")\n",
    "        continue\n",
    "        \n",
    "    else:\n",
    "#         print(\"No\")\n",
    "        row[index] = row[index].translate(str.maketrans('','','$'))\n",
    "    print(row[index])\n",
    "    if count > 5:\n",
    "        break\n",
    "    \n",
    "    "
   ]
  },
  {
   "cell_type": "code",
   "execution_count": 78,
   "metadata": {},
   "outputs": [
    {
     "data": {
      "text/html": [
       "<div>\n",
       "<style scoped>\n",
       "    .dataframe tbody tr th:only-of-type {\n",
       "        vertical-align: middle;\n",
       "    }\n",
       "\n",
       "    .dataframe tbody tr th {\n",
       "        vertical-align: top;\n",
       "    }\n",
       "\n",
       "    .dataframe thead th {\n",
       "        text-align: right;\n",
       "    }\n",
       "</style>\n",
       "<table border=\"1\" class=\"dataframe\">\n",
       "  <thead>\n",
       "    <tr style=\"text-align: right;\">\n",
       "      <th></th>\n",
       "      <th>Date</th>\n",
       "      <th>Close/Last</th>\n",
       "      <th>Volume</th>\n",
       "      <th>Open</th>\n",
       "      <th>High</th>\n",
       "      <th>Low</th>\n",
       "    </tr>\n",
       "  </thead>\n",
       "  <tbody>\n",
       "    <tr>\n",
       "      <th>0</th>\n",
       "      <td>09/24/2021</td>\n",
       "      <td>$146.92</td>\n",
       "      <td>53477870</td>\n",
       "      <td>$145.66</td>\n",
       "      <td>$147.4701</td>\n",
       "      <td>$145.56</td>\n",
       "    </tr>\n",
       "    <tr>\n",
       "      <th>1</th>\n",
       "      <td>09/23/2021</td>\n",
       "      <td>$146.83</td>\n",
       "      <td>64838170</td>\n",
       "      <td>$146.65</td>\n",
       "      <td>$147.08</td>\n",
       "      <td>$145.64</td>\n",
       "    </tr>\n",
       "    <tr>\n",
       "      <th>2</th>\n",
       "      <td>09/22/2021</td>\n",
       "      <td>$145.85</td>\n",
       "      <td>76404340</td>\n",
       "      <td>$144.45</td>\n",
       "      <td>$146.43</td>\n",
       "      <td>$143.7001</td>\n",
       "    </tr>\n",
       "    <tr>\n",
       "      <th>3</th>\n",
       "      <td>09/21/2021</td>\n",
       "      <td>$143.43</td>\n",
       "      <td>75833960</td>\n",
       "      <td>$143.93</td>\n",
       "      <td>$144.6</td>\n",
       "      <td>$142.78</td>\n",
       "    </tr>\n",
       "    <tr>\n",
       "      <th>4</th>\n",
       "      <td>09/20/2021</td>\n",
       "      <td>$142.94</td>\n",
       "      <td>123478900</td>\n",
       "      <td>$143.8</td>\n",
       "      <td>$144.84</td>\n",
       "      <td>$141.27</td>\n",
       "    </tr>\n",
       "  </tbody>\n",
       "</table>\n",
       "</div>"
      ],
      "text/plain": [
       "         Date Close/Last     Volume     Open       High        Low\n",
       "0  09/24/2021    $146.92   53477870  $145.66  $147.4701    $145.56\n",
       "1  09/23/2021    $146.83   64838170  $146.65    $147.08    $145.64\n",
       "2  09/22/2021    $145.85   76404340  $144.45    $146.43  $143.7001\n",
       "3  09/21/2021    $143.43   75833960  $143.93     $144.6    $142.78\n",
       "4  09/20/2021    $142.94  123478900   $143.8    $144.84    $141.27"
      ]
     },
     "execution_count": 78,
     "metadata": {},
     "output_type": "execute_result"
    }
   ],
   "source": [
    "df.head()"
   ]
  },
  {
   "cell_type": "code",
   "execution_count": 15,
   "metadata": {},
   "outputs": [],
   "source": [
    "new_Colse_last = []\n",
    "new_open = []\n",
    "new_high = []\n",
    "new_low = []"
   ]
  },
  {
   "cell_type": "code",
   "execution_count": null,
   "metadata": {},
   "outputs": [],
   "source": []
  }
 ],
 "metadata": {
  "kernelspec": {
   "display_name": "Python 3",
   "language": "python",
   "name": "python3"
  },
  "language_info": {
   "codemirror_mode": {
    "name": "ipython",
    "version": 3
   },
   "file_extension": ".py",
   "mimetype": "text/x-python",
   "name": "python",
   "nbconvert_exporter": "python",
   "pygments_lexer": "ipython3",
   "version": "3.8.5"
  }
 },
 "nbformat": 4,
 "nbformat_minor": 4
}
