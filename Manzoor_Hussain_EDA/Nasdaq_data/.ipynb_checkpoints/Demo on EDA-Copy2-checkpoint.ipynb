{
 "cells": [
  {
   "cell_type": "code",
   "execution_count": 258,
   "metadata": {},
   "outputs": [],
   "source": [
    "import pandas as pd\n",
    "import numpy as np\n",
    "import datetime  as dt\n",
    "pd.plotting.register_matplotlib_converters()\n",
    "import matplotlib.pyplot as plt\n",
    "%matplotlib inline\n",
    "import seaborn as sns"
   ]
  },
  {
   "cell_type": "code",
   "execution_count": 259,
   "metadata": {},
   "outputs": [],
   "source": [
    "aapl_data = pd.read_csv('HistoricalData_AAPL.csv')"
   ]
  },
  {
   "cell_type": "code",
   "execution_count": 260,
   "metadata": {},
   "outputs": [],
   "source": [
    "# aapl_data.head()"
   ]
  },
  {
   "cell_type": "code",
   "execution_count": 261,
   "metadata": {},
   "outputs": [
    {
     "data": {
      "text/plain": [
       "(126, 6)"
      ]
     },
     "execution_count": 261,
     "metadata": {},
     "output_type": "execute_result"
    }
   ],
   "source": [
    "aapl_data.shape"
   ]
  },
  {
   "cell_type": "code",
   "execution_count": 262,
   "metadata": {},
   "outputs": [],
   "source": [
    "# aapl_data.isnull().sum()\n",
    "# there is no null data"
   ]
  },
  {
   "cell_type": "code",
   "execution_count": 263,
   "metadata": {},
   "outputs": [],
   "source": [
    "# aapl_data.isna().sum()"
   ]
  },
  {
   "cell_type": "markdown",
   "metadata": {},
   "source": [
    "## Checking Data Types\n"
   ]
  },
  {
   "cell_type": "code",
   "execution_count": 264,
   "metadata": {},
   "outputs": [],
   "source": [
    "# aapl_data.dtypes"
   ]
  },
  {
   "cell_type": "code",
   "execution_count": 265,
   "metadata": {},
   "outputs": [],
   "source": [
    "low_list = []\n",
    "date_list = []\n",
    "closeLast_list = []\n",
    "volume_list = []\n",
    "open_list = []\n",
    "high_list = []\n",
    "\n",
    "month_list = []\n",
    "day_list = []\n",
    "year_list = []\n",
    "# low_list = list(df['Low'])\n",
    "# date_list = list(df['Date'])\n",
    "# closeLast_list = list(df['Close/Last'])\n",
    "# volume_list = list(df['Volume'])\n",
    "# open_list = list(df['Open'])\n",
    "# high_list = list(df['Low'])\n",
    "\n",
    "# with aapl_data columns\n",
    "low_list = list(aapl_data['Low'])\n",
    "date_list = list(aapl_data['Date'])\n",
    "closeLast_list = list(aapl_data['Close/Last'])\n",
    "volume_list = list(aapl_data['Volume'])\n",
    "open_list = list(aapl_data['Open'])\n",
    "high_list = list(aapl_data['Low'])"
   ]
  },
  {
   "cell_type": "code",
   "execution_count": 266,
   "metadata": {},
   "outputs": [],
   "source": [
    "\n",
    "\n",
    "month_list = list(aapl_data['Date'].map(lambda x: pd.to_datetime(x).month))\n",
    "day_list = list(aapl_data['Date'].map(lambda x: pd.to_datetime(x).day))\n",
    "year_list = list(aapl_data['Date'].map(lambda x: pd.to_datetime(x).year))"
   ]
  },
  {
   "cell_type": "code",
   "execution_count": 267,
   "metadata": {},
   "outputs": [],
   "source": [
    "\n",
    "date_list = pd.to_datetime(date_list, format=\"%m/%d/%Y\")"
   ]
  },
  {
   "cell_type": "code",
   "execution_count": 268,
   "metadata": {},
   "outputs": [
    {
     "name": "stdout",
     "output_type": "stream",
     "text": [
      "<class 'pandas.core.indexes.datetimes.DatetimeIndex'>\n"
     ]
    }
   ],
   "source": [
    "print(type(date_list))"
   ]
  },
  {
   "cell_type": "code",
   "execution_count": null,
   "metadata": {},
   "outputs": [],
   "source": []
  },
  {
   "cell_type": "code",
   "execution_count": 269,
   "metadata": {},
   "outputs": [],
   "source": [
    "def remove_dollar(lst):\n",
    "    new_list = []\n",
    "    for i in lst:\n",
    "        i = i.translate(str.maketrans('','','$'))\n",
    "        new_list.append(float(i))\n",
    "    return new_list\n",
    "\n",
    "\n",
    "# print(myFunction(low_list))\n",
    "low_list = remove_dollar(low_list)\n",
    "closeLast_list = remove_dollar(closeLast_list)\n",
    "open_list = remove_dollar(open_list)\n",
    "high_list = remove_dollar(high_list)\n"
   ]
  },
  {
   "cell_type": "code",
   "execution_count": 270,
   "metadata": {},
   "outputs": [],
   "source": [
    "# print(type(date_list[1])) # date column data type\n",
    "# print(type(closeLast_list[1])) # close/last column data type\n",
    "# print(type(volume_list[1]))# volume column data type\n",
    "# print(type(open_list[1])) # open column data type\n",
    "# print(type(high_list[1])) # high column data type\n",
    "# print(type(low_list[1])) # low column data type\n"
   ]
  },
  {
   "cell_type": "code",
   "execution_count": 271,
   "metadata": {
    "scrolled": false
   },
   "outputs": [],
   "source": [
    "# aapl_data.head()"
   ]
  },
  {
   "cell_type": "markdown",
   "metadata": {},
   "source": [
    "## No need to this function (to convert str to data)"
   ]
  },
  {
   "cell_type": "code",
   "execution_count": 272,
   "metadata": {},
   "outputs": [],
   "source": [
    "# def str_to_date(lst):\n",
    "#     dates_list = []\n",
    "# #     dates_list = [dt.datetime.strftime(date, '\"%m/%d/%Y\"').date() for date in lst]\n",
    "#     dates_list = [dt.datetime.strptime(date, '%m/%d/%Y').date().strftime('%d-%m-%Y') for date in lst]\n",
    "# #     dt_str = datetime.strptime(testeddate,'%m/%d/%Y').strftime('%Y-%m-%d %H:%M:%S') \n",
    "#     for d in dates_list:\n",
    "#         dat,month,year = d.strip('-')\n",
    "#         d = \n",
    "#     return dates_list\n",
    "# date_list = str_to_date(date_list)\n"
   ]
  },
  {
   "cell_type": "code",
   "execution_count": 273,
   "metadata": {},
   "outputs": [],
   "source": [
    "# aapl_df.head()"
   ]
  },
  {
   "cell_type": "markdown",
   "metadata": {},
   "source": [
    "## Creating DataFrame from lists"
   ]
  },
  {
   "cell_type": "code",
   "execution_count": 274,
   "metadata": {},
   "outputs": [],
   "source": [
    "aapl_df = pd.DataFrame(list(zip(date_list, day_list,month_list,year_list,closeLast_list,volume_list,open_list,high_list,low_list)),\n",
    "               columns =['Date','Day','Month','Year', 'Close/Last','Volume','Open','High','Low'])\n",
    "\n",
    "# low_list = []\n",
    "# date_list = []\n",
    "# closeLast_list = []\n",
    "# volume_list = []\n",
    "# open_list = []\n",
    "# high_list = []"
   ]
  },
  {
   "cell_type": "code",
   "execution_count": 275,
   "metadata": {},
   "outputs": [
    {
     "data": {
      "text/html": [
       "<div>\n",
       "<style scoped>\n",
       "    .dataframe tbody tr th:only-of-type {\n",
       "        vertical-align: middle;\n",
       "    }\n",
       "\n",
       "    .dataframe tbody tr th {\n",
       "        vertical-align: top;\n",
       "    }\n",
       "\n",
       "    .dataframe thead th {\n",
       "        text-align: right;\n",
       "    }\n",
       "</style>\n",
       "<table border=\"1\" class=\"dataframe\">\n",
       "  <thead>\n",
       "    <tr style=\"text-align: right;\">\n",
       "      <th></th>\n",
       "      <th>Date</th>\n",
       "      <th>Day</th>\n",
       "      <th>Month</th>\n",
       "      <th>Year</th>\n",
       "      <th>Close/Last</th>\n",
       "      <th>Volume</th>\n",
       "      <th>Open</th>\n",
       "      <th>High</th>\n",
       "      <th>Low</th>\n",
       "    </tr>\n",
       "  </thead>\n",
       "  <tbody>\n",
       "    <tr>\n",
       "      <th>0</th>\n",
       "      <td>2021-09-24</td>\n",
       "      <td>24</td>\n",
       "      <td>9</td>\n",
       "      <td>2021</td>\n",
       "      <td>146.92</td>\n",
       "      <td>53477870</td>\n",
       "      <td>145.66</td>\n",
       "      <td>145.5600</td>\n",
       "      <td>145.5600</td>\n",
       "    </tr>\n",
       "    <tr>\n",
       "      <th>1</th>\n",
       "      <td>2021-09-23</td>\n",
       "      <td>23</td>\n",
       "      <td>9</td>\n",
       "      <td>2021</td>\n",
       "      <td>146.83</td>\n",
       "      <td>64838170</td>\n",
       "      <td>146.65</td>\n",
       "      <td>145.6400</td>\n",
       "      <td>145.6400</td>\n",
       "    </tr>\n",
       "    <tr>\n",
       "      <th>2</th>\n",
       "      <td>2021-09-22</td>\n",
       "      <td>22</td>\n",
       "      <td>9</td>\n",
       "      <td>2021</td>\n",
       "      <td>145.85</td>\n",
       "      <td>76404340</td>\n",
       "      <td>144.45</td>\n",
       "      <td>143.7001</td>\n",
       "      <td>143.7001</td>\n",
       "    </tr>\n",
       "    <tr>\n",
       "      <th>3</th>\n",
       "      <td>2021-09-21</td>\n",
       "      <td>21</td>\n",
       "      <td>9</td>\n",
       "      <td>2021</td>\n",
       "      <td>143.43</td>\n",
       "      <td>75833960</td>\n",
       "      <td>143.93</td>\n",
       "      <td>142.7800</td>\n",
       "      <td>142.7800</td>\n",
       "    </tr>\n",
       "    <tr>\n",
       "      <th>4</th>\n",
       "      <td>2021-09-20</td>\n",
       "      <td>20</td>\n",
       "      <td>9</td>\n",
       "      <td>2021</td>\n",
       "      <td>142.94</td>\n",
       "      <td>123478900</td>\n",
       "      <td>143.80</td>\n",
       "      <td>141.2700</td>\n",
       "      <td>141.2700</td>\n",
       "    </tr>\n",
       "  </tbody>\n",
       "</table>\n",
       "</div>"
      ],
      "text/plain": [
       "        Date  Day  Month  Year  Close/Last     Volume    Open      High  \\\n",
       "0 2021-09-24   24      9  2021      146.92   53477870  145.66  145.5600   \n",
       "1 2021-09-23   23      9  2021      146.83   64838170  146.65  145.6400   \n",
       "2 2021-09-22   22      9  2021      145.85   76404340  144.45  143.7001   \n",
       "3 2021-09-21   21      9  2021      143.43   75833960  143.93  142.7800   \n",
       "4 2021-09-20   20      9  2021      142.94  123478900  143.80  141.2700   \n",
       "\n",
       "        Low  \n",
       "0  145.5600  \n",
       "1  145.6400  \n",
       "2  143.7001  \n",
       "3  142.7800  \n",
       "4  141.2700  "
      ]
     },
     "execution_count": 275,
     "metadata": {},
     "output_type": "execute_result"
    }
   ],
   "source": [
    "aapl_df.head()"
   ]
  },
  {
   "cell_type": "code",
   "execution_count": 276,
   "metadata": {},
   "outputs": [
    {
     "data": {
      "text/html": [
       "<div>\n",
       "<style scoped>\n",
       "    .dataframe tbody tr th:only-of-type {\n",
       "        vertical-align: middle;\n",
       "    }\n",
       "\n",
       "    .dataframe tbody tr th {\n",
       "        vertical-align: top;\n",
       "    }\n",
       "\n",
       "    .dataframe thead th {\n",
       "        text-align: right;\n",
       "    }\n",
       "</style>\n",
       "<table border=\"1\" class=\"dataframe\">\n",
       "  <thead>\n",
       "    <tr style=\"text-align: right;\">\n",
       "      <th></th>\n",
       "      <th>Day</th>\n",
       "      <th>Month</th>\n",
       "      <th>Year</th>\n",
       "      <th>Close/Last</th>\n",
       "      <th>Volume</th>\n",
       "      <th>Open</th>\n",
       "      <th>High</th>\n",
       "      <th>Low</th>\n",
       "    </tr>\n",
       "  </thead>\n",
       "  <tbody>\n",
       "    <tr>\n",
       "      <th>count</th>\n",
       "      <td>126.000000</td>\n",
       "      <td>126.000000</td>\n",
       "      <td>126.0</td>\n",
       "      <td>126.000000</td>\n",
       "      <td>1.260000e+02</td>\n",
       "      <td>126.000000</td>\n",
       "      <td>126.000000</td>\n",
       "      <td>126.000000</td>\n",
       "    </tr>\n",
       "    <tr>\n",
       "      <th>mean</th>\n",
       "      <td>15.968254</td>\n",
       "      <td>6.357143</td>\n",
       "      <td>2021.0</td>\n",
       "      <td>137.912183</td>\n",
       "      <td>8.195846e+07</td>\n",
       "      <td>137.784643</td>\n",
       "      <td>136.649813</td>\n",
       "      <td>136.649813</td>\n",
       "    </tr>\n",
       "    <tr>\n",
       "      <th>std</th>\n",
       "      <td>8.728745</td>\n",
       "      <td>1.736499</td>\n",
       "      <td>0.0</td>\n",
       "      <td>9.971587</td>\n",
       "      <td>2.150422e+07</td>\n",
       "      <td>10.043779</td>\n",
       "      <td>9.864231</td>\n",
       "      <td>9.864231</td>\n",
       "    </tr>\n",
       "    <tr>\n",
       "      <th>min</th>\n",
       "      <td>1.000000</td>\n",
       "      <td>3.000000</td>\n",
       "      <td>2021.0</td>\n",
       "      <td>119.900000</td>\n",
       "      <td>4.639767e+07</td>\n",
       "      <td>120.110000</td>\n",
       "      <td>118.860000</td>\n",
       "      <td>118.860000</td>\n",
       "    </tr>\n",
       "    <tr>\n",
       "      <th>25%</th>\n",
       "      <td>9.000000</td>\n",
       "      <td>5.000000</td>\n",
       "      <td>2021.0</td>\n",
       "      <td>127.950000</td>\n",
       "      <td>6.623812e+07</td>\n",
       "      <td>128.155000</td>\n",
       "      <td>126.875000</td>\n",
       "      <td>126.875000</td>\n",
       "    </tr>\n",
       "    <tr>\n",
       "      <th>50%</th>\n",
       "      <td>16.000000</td>\n",
       "      <td>6.000000</td>\n",
       "      <td>2021.0</td>\n",
       "      <td>134.810000</td>\n",
       "      <td>7.844256e+07</td>\n",
       "      <td>135.015000</td>\n",
       "      <td>133.875000</td>\n",
       "      <td>133.875000</td>\n",
       "    </tr>\n",
       "    <tr>\n",
       "      <th>75%</th>\n",
       "      <td>23.000000</td>\n",
       "      <td>8.000000</td>\n",
       "      <td>2021.0</td>\n",
       "      <td>146.822500</td>\n",
       "      <td>9.401102e+07</td>\n",
       "      <td>146.897500</td>\n",
       "      <td>145.797500</td>\n",
       "      <td>145.797500</td>\n",
       "    </tr>\n",
       "    <tr>\n",
       "      <th>max</th>\n",
       "      <td>31.000000</td>\n",
       "      <td>9.000000</td>\n",
       "      <td>2021.0</td>\n",
       "      <td>156.690000</td>\n",
       "      <td>1.511010e+08</td>\n",
       "      <td>156.980000</td>\n",
       "      <td>154.390000</td>\n",
       "      <td>154.390000</td>\n",
       "    </tr>\n",
       "  </tbody>\n",
       "</table>\n",
       "</div>"
      ],
      "text/plain": [
       "              Day       Month    Year  Close/Last        Volume        Open  \\\n",
       "count  126.000000  126.000000   126.0  126.000000  1.260000e+02  126.000000   \n",
       "mean    15.968254    6.357143  2021.0  137.912183  8.195846e+07  137.784643   \n",
       "std      8.728745    1.736499     0.0    9.971587  2.150422e+07   10.043779   \n",
       "min      1.000000    3.000000  2021.0  119.900000  4.639767e+07  120.110000   \n",
       "25%      9.000000    5.000000  2021.0  127.950000  6.623812e+07  128.155000   \n",
       "50%     16.000000    6.000000  2021.0  134.810000  7.844256e+07  135.015000   \n",
       "75%     23.000000    8.000000  2021.0  146.822500  9.401102e+07  146.897500   \n",
       "max     31.000000    9.000000  2021.0  156.690000  1.511010e+08  156.980000   \n",
       "\n",
       "             High         Low  \n",
       "count  126.000000  126.000000  \n",
       "mean   136.649813  136.649813  \n",
       "std      9.864231    9.864231  \n",
       "min    118.860000  118.860000  \n",
       "25%    126.875000  126.875000  \n",
       "50%    133.875000  133.875000  \n",
       "75%    145.797500  145.797500  \n",
       "max    154.390000  154.390000  "
      ]
     },
     "execution_count": 276,
     "metadata": {},
     "output_type": "execute_result"
    }
   ],
   "source": [
    "aapl_df.describe()"
   ]
  },
  {
   "cell_type": "code",
   "execution_count": 277,
   "metadata": {},
   "outputs": [
    {
     "data": {
      "text/plain": [
       "Date          0\n",
       "Day           0\n",
       "Month         0\n",
       "Year          0\n",
       "Close/Last    0\n",
       "Volume        0\n",
       "Open          0\n",
       "High          0\n",
       "Low           0\n",
       "dtype: int64"
      ]
     },
     "execution_count": 277,
     "metadata": {},
     "output_type": "execute_result"
    }
   ],
   "source": [
    "aapl_df.isnull().sum()"
   ]
  },
  {
   "cell_type": "code",
   "execution_count": 278,
   "metadata": {},
   "outputs": [
    {
     "data": {
      "text/plain": [
       "Date          0\n",
       "Close/Last    0\n",
       "Volume        0\n",
       "Open          0\n",
       "High          0\n",
       "Low           0\n",
       "dtype: int64"
      ]
     },
     "execution_count": 278,
     "metadata": {},
     "output_type": "execute_result"
    }
   ],
   "source": [
    "aapl_data.isna().sum()"
   ]
  },
  {
   "cell_type": "code",
   "execution_count": 279,
   "metadata": {},
   "outputs": [
    {
     "data": {
      "text/plain": [
       "8    22\n",
       "6    22\n",
       "7    21\n",
       "4    21\n",
       "5    20\n",
       "9    17\n",
       "3     3\n",
       "Name: Month, dtype: int64"
      ]
     },
     "execution_count": 279,
     "metadata": {},
     "output_type": "execute_result"
    }
   ],
   "source": [
    "aapl_df['Month'].value_counts()"
   ]
  },
  {
   "cell_type": "markdown",
   "metadata": {},
   "source": [
    "## Data Visualization"
   ]
  },
  {
   "cell_type": "code",
   "execution_count": 280,
   "metadata": {},
   "outputs": [],
   "source": [
    "\n",
    "pd.plotting.register_matplotlib_converters()\n",
    "import matplotlib.pyplot as plt\n",
    "%matplotlib inline\n",
    "import seaborn as sns"
   ]
  },
  {
   "cell_type": "code",
   "execution_count": 281,
   "metadata": {},
   "outputs": [
    {
     "data": {
      "text/plain": [
       "<AxesSubplot:>"
      ]
     },
     "execution_count": 281,
     "metadata": {},
     "output_type": "execute_result"
    },
    {
     "data": {
      "image/png": "[encoded data removed]",
      "text/plain": [
       "<Figure size 360x360 with 1 Axes>"
      ]
     },
     "metadata": {
      "needs_background": "light"
     },
     "output_type": "display_data"
    }
   ],
   "source": [
    "# Set the width and height of the figure\n",
    "plt.figure(figsize=(5,5))\n",
    "\n",
    "# sns.lineplot(data=aapl_df['Close/Last'],label=\"kdfd\")\n",
    "# sns.lineplot(data=aapl_df['Volume'],label=\"dkfjd\")\n",
    "# sns.lineplot(data=aapl_df['Open'])\n",
    "# sns.lineplot(data=aapl_df['High'])\n",
    "sns.lineplot(data=aapl_df)\n",
    "# plt.xlabel(\"Date\")\n"
   ]
  },
  {
   "cell_type": "markdown",
   "metadata": {},
   "source": [
    "### Average Low values accorting to month"
   ]
  },
  {
   "cell_type": "code",
   "execution_count": 282,
   "metadata": {},
   "outputs": [
    {
     "data": {
      "text/plain": [
       "<BarContainer object of 7 artists>"
      ]
     },
     "execution_count": 282,
     "metadata": {},
     "output_type": "execute_result"
    },
    {
     "data": {
      "image/png": "[encoded data removed]",
      "text/plain": [
       "<Figure size 360x360 with 1 Axes>"
      ]
     },
     "metadata": {
      "needs_background": "light"
     },
     "output_type": "display_data"
    }
   ],
   "source": [
    "plt.figure(figsize=(5,5))\n",
    "plt.bar((aapl_df['Month'].value_counts().keys()),(aapl_df.groupby('Month')['Low'].mean()),color='g')"
   ]
  },
  {
   "cell_type": "markdown",
   "metadata": {},
   "source": [
    "### Average High values according to month"
   ]
  },
  {
   "cell_type": "code",
   "execution_count": 283,
   "metadata": {},
   "outputs": [
    {
     "data": {
      "text/plain": [
       "<BarContainer object of 7 artists>"
      ]
     },
     "execution_count": 283,
     "metadata": {},
     "output_type": "execute_result"
    },
    {
     "data": {
      "image/png": "[encoded data removed]",
      "text/plain": [
       "<Figure size 360x360 with 1 Axes>"
      ]
     },
     "metadata": {
      "needs_background": "light"
     },
     "output_type": "display_data"
    }
   ],
   "source": [
    "plt.figure(figsize=(5,5))\n",
    "plt.bar((aapl_df['Month'].value_counts().keys()),(aapl_df.groupby('Month')['High'].mean()),color='r')"
   ]
  },
  {
   "cell_type": "markdown",
   "metadata": {},
   "source": [
    "### Max Low values according to month"
   ]
  },
  {
   "cell_type": "code",
   "execution_count": 284,
   "metadata": {},
   "outputs": [
    {
     "data": {
      "text/plain": [
       "<BarContainer object of 7 artists>"
      ]
     },
     "execution_count": 284,
     "metadata": {},
     "output_type": "execute_result"
    },
    {
     "data": {
      "image/png": "[encoded data removed]",
      "text/plain": [
       "<Figure size 360x360 with 1 Axes>"
      ]
     },
     "metadata": {
      "needs_background": "light"
     },
     "output_type": "display_data"
    }
   ],
   "source": [
    "plt.figure(figsize=(5,5))\n",
    "plt.bar((aapl_df['Month'].value_counts().keys()),(aapl_df.groupby('Month')['Low'].max()),color='b')"
   ]
  },
  {
   "cell_type": "markdown",
   "metadata": {},
   "source": [
    "### Max High values according to month"
   ]
  },
  {
   "cell_type": "code",
   "execution_count": 285,
   "metadata": {},
   "outputs": [
    {
     "data": {
      "text/plain": [
       "<BarContainer object of 7 artists>"
      ]
     },
     "execution_count": 285,
     "metadata": {},
     "output_type": "execute_result"
    },
    {
     "data": {
      "image/png": "[encoded data removed]",
      "text/plain": [
       "<Figure size 360x360 with 1 Axes>"
      ]
     },
     "metadata": {
      "needs_background": "light"
     },
     "output_type": "display_data"
    }
   ],
   "source": [
    "plt.figure(figsize=(5,5))\n",
    "plt.bar((aapl_df['Month'].value_counts().keys()),(aapl_df.groupby('Month')['High'].max()),color='y')"
   ]
  },
  {
   "cell_type": "markdown",
   "metadata": {},
   "source": [
    "### Why it is not showing all columns in chart (upper cell)"
   ]
  },
  {
   "cell_type": "code",
   "execution_count": null,
   "metadata": {},
   "outputs": [],
   "source": []
  },
  {
   "cell_type": "code",
   "execution_count": 286,
   "metadata": {},
   "outputs": [
    {
     "name": "stdout",
     "output_type": "stream",
     "text": [
      "<class 'numpy.float64'>\n"
     ]
    }
   ],
   "source": [
    "print(type(aapl_df['Low'][1]))"
   ]
  },
  {
   "cell_type": "code",
   "execution_count": 287,
   "metadata": {},
   "outputs": [
    {
     "data": {
      "text/plain": [
       "145.64"
      ]
     },
     "execution_count": 287,
     "metadata": {},
     "output_type": "execute_result"
    }
   ],
   "source": [
    "aapl_df['Low'][1]"
   ]
  },
  {
   "cell_type": "code",
   "execution_count": 288,
   "metadata": {},
   "outputs": [
    {
     "name": "stdout",
     "output_type": "stream",
     "text": [
      "<class 'pandas._libs.tslibs.timestamps.Timestamp'>\n",
      "<class 'float'>\n",
      "<class 'int'>\n",
      "<class 'float'>\n",
      "<class 'float'>\n",
      "<class 'float'>\n"
     ]
    }
   ],
   "source": [
    "print(type(date_list[1])) # date column data type\n",
    "print(type(closeLast_list[1])) # close/last column data type\n",
    "print(type(volume_list[1]))# volume column data type\n",
    "print(type(open_list[1])) # open column data type\n",
    "print(type(high_list[1])) # high column data type\n",
    "print(type(low_list[1])) # low column data type"
   ]
  },
  {
   "cell_type": "markdown",
   "metadata": {},
   "source": [
    "#### What is volume?\n",
    "no of shares traded on a particular day"
   ]
  },
  {
   "cell_type": "code",
   "execution_count": 289,
   "metadata": {},
   "outputs": [
    {
     "data": {
      "text/plain": [
       "81958456.42857143"
      ]
     },
     "execution_count": 289,
     "metadata": {},
     "output_type": "execute_result"
    }
   ],
   "source": [
    "aapl_data['Volume'].mean()"
   ]
  },
  {
   "cell_type": "code",
   "execution_count": 290,
   "metadata": {},
   "outputs": [
    {
     "data": {
      "text/plain": [
       "137.7846428571429"
      ]
     },
     "execution_count": 290,
     "metadata": {},
     "output_type": "execute_result"
    }
   ],
   "source": [
    "aapl_df['Open'].mean()"
   ]
  },
  {
   "cell_type": "code",
   "execution_count": 291,
   "metadata": {},
   "outputs": [
    {
     "data": {
      "text/plain": [
       "137.7846428571429"
      ]
     },
     "execution_count": 291,
     "metadata": {},
     "output_type": "execute_result"
    }
   ],
   "source": [
    "aapl_df['Open'].mean()"
   ]
  },
  {
   "cell_type": "code",
   "execution_count": 292,
   "metadata": {},
   "outputs": [
    {
     "data": {
      "text/plain": [
       "21504217.55766876"
      ]
     },
     "execution_count": 292,
     "metadata": {},
     "output_type": "execute_result"
    }
   ],
   "source": [
    "aapl_df['Volume'].std()"
   ]
  },
  {
   "cell_type": "code",
   "execution_count": 293,
   "metadata": {},
   "outputs": [
    {
     "data": {
      "text/html": [
       "<div>\n",
       "<style scoped>\n",
       "    .dataframe tbody tr th:only-of-type {\n",
       "        vertical-align: middle;\n",
       "    }\n",
       "\n",
       "    .dataframe tbody tr th {\n",
       "        vertical-align: top;\n",
       "    }\n",
       "\n",
       "    .dataframe thead th {\n",
       "        text-align: right;\n",
       "    }\n",
       "</style>\n",
       "<table border=\"1\" class=\"dataframe\">\n",
       "  <thead>\n",
       "    <tr style=\"text-align: right;\">\n",
       "      <th></th>\n",
       "      <th>Date</th>\n",
       "      <th>Day</th>\n",
       "      <th>Month</th>\n",
       "      <th>Year</th>\n",
       "      <th>Close/Last</th>\n",
       "      <th>Volume</th>\n",
       "      <th>Open</th>\n",
       "      <th>High</th>\n",
       "      <th>Low</th>\n",
       "    </tr>\n",
       "  </thead>\n",
       "  <tbody>\n",
       "    <tr>\n",
       "      <th>0</th>\n",
       "      <td>2021-09-24</td>\n",
       "      <td>24</td>\n",
       "      <td>9</td>\n",
       "      <td>2021</td>\n",
       "      <td>146.92</td>\n",
       "      <td>53477870</td>\n",
       "      <td>145.66</td>\n",
       "      <td>145.5600</td>\n",
       "      <td>145.5600</td>\n",
       "    </tr>\n",
       "    <tr>\n",
       "      <th>1</th>\n",
       "      <td>2021-09-23</td>\n",
       "      <td>23</td>\n",
       "      <td>9</td>\n",
       "      <td>2021</td>\n",
       "      <td>146.83</td>\n",
       "      <td>64838170</td>\n",
       "      <td>146.65</td>\n",
       "      <td>145.6400</td>\n",
       "      <td>145.6400</td>\n",
       "    </tr>\n",
       "    <tr>\n",
       "      <th>2</th>\n",
       "      <td>2021-09-22</td>\n",
       "      <td>22</td>\n",
       "      <td>9</td>\n",
       "      <td>2021</td>\n",
       "      <td>145.85</td>\n",
       "      <td>76404340</td>\n",
       "      <td>144.45</td>\n",
       "      <td>143.7001</td>\n",
       "      <td>143.7001</td>\n",
       "    </tr>\n",
       "    <tr>\n",
       "      <th>3</th>\n",
       "      <td>2021-09-21</td>\n",
       "      <td>21</td>\n",
       "      <td>9</td>\n",
       "      <td>2021</td>\n",
       "      <td>143.43</td>\n",
       "      <td>75833960</td>\n",
       "      <td>143.93</td>\n",
       "      <td>142.7800</td>\n",
       "      <td>142.7800</td>\n",
       "    </tr>\n",
       "    <tr>\n",
       "      <th>4</th>\n",
       "      <td>2021-09-20</td>\n",
       "      <td>20</td>\n",
       "      <td>9</td>\n",
       "      <td>2021</td>\n",
       "      <td>142.94</td>\n",
       "      <td>123478900</td>\n",
       "      <td>143.80</td>\n",
       "      <td>141.2700</td>\n",
       "      <td>141.2700</td>\n",
       "    </tr>\n",
       "  </tbody>\n",
       "</table>\n",
       "</div>"
      ],
      "text/plain": [
       "        Date  Day  Month  Year  Close/Last     Volume    Open      High  \\\n",
       "0 2021-09-24   24      9  2021      146.92   53477870  145.66  145.5600   \n",
       "1 2021-09-23   23      9  2021      146.83   64838170  146.65  145.6400   \n",
       "2 2021-09-22   22      9  2021      145.85   76404340  144.45  143.7001   \n",
       "3 2021-09-21   21      9  2021      143.43   75833960  143.93  142.7800   \n",
       "4 2021-09-20   20      9  2021      142.94  123478900  143.80  141.2700   \n",
       "\n",
       "        Low  \n",
       "0  145.5600  \n",
       "1  145.6400  \n",
       "2  143.7001  \n",
       "3  142.7800  \n",
       "4  141.2700  "
      ]
     },
     "execution_count": 293,
     "metadata": {},
     "output_type": "execute_result"
    }
   ],
   "source": [
    "aapl_df.head()"
   ]
  },
  {
   "cell_type": "code",
   "execution_count": 294,
   "metadata": {},
   "outputs": [
    {
     "data": {
      "text/plain": [
       "Text(0, 0.5, 'Arrival delay (in minutes)')"
      ]
     },
     "execution_count": 294,
     "metadata": {},
     "output_type": "execute_result"
    },
    {
     "data": {
      "image/png": "[encoded data removed]",
      "text/plain": [
       "<Figure size 720x432 with 1 Axes>"
      ]
     },
     "metadata": {
      "needs_background": "light"
     },
     "output_type": "display_data"
    }
   ],
   "source": [
    "plt.figure(figsize=(10,6))\n",
    "sns.barplot(x=aapl_data.Date, y=aapl_df['Close/Last'])\n",
    "\n",
    "# Add label for vertical axis\n",
    "plt.ylabel(\"Arrival delay (in minutes)\")"
   ]
  },
  {
   "cell_type": "code",
   "execution_count": null,
   "metadata": {},
   "outputs": [],
   "source": []
  },
  {
   "cell_type": "code",
   "execution_count": 295,
   "metadata": {},
   "outputs": [
    {
     "data": {
      "text/plain": [
       "Date          03/29/2021\n",
       "Close/Last        $119.9\n",
       "Volume          46397670\n",
       "Open             $120.11\n",
       "High           $120.4031\n",
       "Low              $118.86\n",
       "dtype: object"
      ]
     },
     "execution_count": 295,
     "metadata": {},
     "output_type": "execute_result"
    }
   ],
   "source": [
    "aapl_data.min()"
   ]
  },
  {
   "cell_type": "code",
   "execution_count": 296,
   "metadata": {},
   "outputs": [
    {
     "data": {
      "text/html": [
       "<div>\n",
       "<style scoped>\n",
       "    .dataframe tbody tr th:only-of-type {\n",
       "        vertical-align: middle;\n",
       "    }\n",
       "\n",
       "    .dataframe tbody tr th {\n",
       "        vertical-align: top;\n",
       "    }\n",
       "\n",
       "    .dataframe thead th {\n",
       "        text-align: right;\n",
       "    }\n",
       "</style>\n",
       "<table border=\"1\" class=\"dataframe\">\n",
       "  <thead>\n",
       "    <tr style=\"text-align: right;\">\n",
       "      <th></th>\n",
       "      <th>Day</th>\n",
       "      <th>Month</th>\n",
       "      <th>Year</th>\n",
       "      <th>Close/Last</th>\n",
       "      <th>Volume</th>\n",
       "      <th>Open</th>\n",
       "      <th>High</th>\n",
       "      <th>Low</th>\n",
       "    </tr>\n",
       "  </thead>\n",
       "  <tbody>\n",
       "    <tr>\n",
       "      <th>count</th>\n",
       "      <td>126.000000</td>\n",
       "      <td>126.000000</td>\n",
       "      <td>126.0</td>\n",
       "      <td>126.000000</td>\n",
       "      <td>1.260000e+02</td>\n",
       "      <td>126.000000</td>\n",
       "      <td>126.000000</td>\n",
       "      <td>126.000000</td>\n",
       "    </tr>\n",
       "    <tr>\n",
       "      <th>mean</th>\n",
       "      <td>15.968254</td>\n",
       "      <td>6.357143</td>\n",
       "      <td>2021.0</td>\n",
       "      <td>137.912183</td>\n",
       "      <td>8.195846e+07</td>\n",
       "      <td>137.784643</td>\n",
       "      <td>136.649813</td>\n",
       "      <td>136.649813</td>\n",
       "    </tr>\n",
       "    <tr>\n",
       "      <th>std</th>\n",
       "      <td>8.728745</td>\n",
       "      <td>1.736499</td>\n",
       "      <td>0.0</td>\n",
       "      <td>9.971587</td>\n",
       "      <td>2.150422e+07</td>\n",
       "      <td>10.043779</td>\n",
       "      <td>9.864231</td>\n",
       "      <td>9.864231</td>\n",
       "    </tr>\n",
       "    <tr>\n",
       "      <th>min</th>\n",
       "      <td>1.000000</td>\n",
       "      <td>3.000000</td>\n",
       "      <td>2021.0</td>\n",
       "      <td>119.900000</td>\n",
       "      <td>4.639767e+07</td>\n",
       "      <td>120.110000</td>\n",
       "      <td>118.860000</td>\n",
       "      <td>118.860000</td>\n",
       "    </tr>\n",
       "    <tr>\n",
       "      <th>25%</th>\n",
       "      <td>9.000000</td>\n",
       "      <td>5.000000</td>\n",
       "      <td>2021.0</td>\n",
       "      <td>127.950000</td>\n",
       "      <td>6.623812e+07</td>\n",
       "      <td>128.155000</td>\n",
       "      <td>126.875000</td>\n",
       "      <td>126.875000</td>\n",
       "    </tr>\n",
       "    <tr>\n",
       "      <th>50%</th>\n",
       "      <td>16.000000</td>\n",
       "      <td>6.000000</td>\n",
       "      <td>2021.0</td>\n",
       "      <td>134.810000</td>\n",
       "      <td>7.844256e+07</td>\n",
       "      <td>135.015000</td>\n",
       "      <td>133.875000</td>\n",
       "      <td>133.875000</td>\n",
       "    </tr>\n",
       "    <tr>\n",
       "      <th>75%</th>\n",
       "      <td>23.000000</td>\n",
       "      <td>8.000000</td>\n",
       "      <td>2021.0</td>\n",
       "      <td>146.822500</td>\n",
       "      <td>9.401102e+07</td>\n",
       "      <td>146.897500</td>\n",
       "      <td>145.797500</td>\n",
       "      <td>145.797500</td>\n",
       "    </tr>\n",
       "    <tr>\n",
       "      <th>max</th>\n",
       "      <td>31.000000</td>\n",
       "      <td>9.000000</td>\n",
       "      <td>2021.0</td>\n",
       "      <td>156.690000</td>\n",
       "      <td>1.511010e+08</td>\n",
       "      <td>156.980000</td>\n",
       "      <td>154.390000</td>\n",
       "      <td>154.390000</td>\n",
       "    </tr>\n",
       "  </tbody>\n",
       "</table>\n",
       "</div>"
      ],
      "text/plain": [
       "              Day       Month    Year  Close/Last        Volume        Open  \\\n",
       "count  126.000000  126.000000   126.0  126.000000  1.260000e+02  126.000000   \n",
       "mean    15.968254    6.357143  2021.0  137.912183  8.195846e+07  137.784643   \n",
       "std      8.728745    1.736499     0.0    9.971587  2.150422e+07   10.043779   \n",
       "min      1.000000    3.000000  2021.0  119.900000  4.639767e+07  120.110000   \n",
       "25%      9.000000    5.000000  2021.0  127.950000  6.623812e+07  128.155000   \n",
       "50%     16.000000    6.000000  2021.0  134.810000  7.844256e+07  135.015000   \n",
       "75%     23.000000    8.000000  2021.0  146.822500  9.401102e+07  146.897500   \n",
       "max     31.000000    9.000000  2021.0  156.690000  1.511010e+08  156.980000   \n",
       "\n",
       "             High         Low  \n",
       "count  126.000000  126.000000  \n",
       "mean   136.649813  136.649813  \n",
       "std      9.864231    9.864231  \n",
       "min    118.860000  118.860000  \n",
       "25%    126.875000  126.875000  \n",
       "50%    133.875000  133.875000  \n",
       "75%    145.797500  145.797500  \n",
       "max    154.390000  154.390000  "
      ]
     },
     "execution_count": 296,
     "metadata": {},
     "output_type": "execute_result"
    }
   ],
   "source": [
    "aapl_df.describe()"
   ]
  },
  {
   "cell_type": "code",
   "execution_count": 297,
   "metadata": {},
   "outputs": [
    {
     "data": {
      "text/html": [
       "<div>\n",
       "<style scoped>\n",
       "    .dataframe tbody tr th:only-of-type {\n",
       "        vertical-align: middle;\n",
       "    }\n",
       "\n",
       "    .dataframe tbody tr th {\n",
       "        vertical-align: top;\n",
       "    }\n",
       "\n",
       "    .dataframe thead th {\n",
       "        text-align: right;\n",
       "    }\n",
       "</style>\n",
       "<table border=\"1\" class=\"dataframe\">\n",
       "  <thead>\n",
       "    <tr style=\"text-align: right;\">\n",
       "      <th></th>\n",
       "      <th>Volume</th>\n",
       "    </tr>\n",
       "  </thead>\n",
       "  <tbody>\n",
       "    <tr>\n",
       "      <th>count</th>\n",
       "      <td>1.260000e+02</td>\n",
       "    </tr>\n",
       "    <tr>\n",
       "      <th>mean</th>\n",
       "      <td>8.195846e+07</td>\n",
       "    </tr>\n",
       "    <tr>\n",
       "      <th>std</th>\n",
       "      <td>2.150422e+07</td>\n",
       "    </tr>\n",
       "    <tr>\n",
       "      <th>min</th>\n",
       "      <td>4.639767e+07</td>\n",
       "    </tr>\n",
       "    <tr>\n",
       "      <th>25%</th>\n",
       "      <td>6.623812e+07</td>\n",
       "    </tr>\n",
       "    <tr>\n",
       "      <th>50%</th>\n",
       "      <td>7.844256e+07</td>\n",
       "    </tr>\n",
       "    <tr>\n",
       "      <th>75%</th>\n",
       "      <td>9.401102e+07</td>\n",
       "    </tr>\n",
       "    <tr>\n",
       "      <th>max</th>\n",
       "      <td>1.511010e+08</td>\n",
       "    </tr>\n",
       "  </tbody>\n",
       "</table>\n",
       "</div>"
      ],
      "text/plain": [
       "             Volume\n",
       "count  1.260000e+02\n",
       "mean   8.195846e+07\n",
       "std    2.150422e+07\n",
       "min    4.639767e+07\n",
       "25%    6.623812e+07\n",
       "50%    7.844256e+07\n",
       "75%    9.401102e+07\n",
       "max    1.511010e+08"
      ]
     },
     "execution_count": 297,
     "metadata": {},
     "output_type": "execute_result"
    }
   ],
   "source": [
    "aapl_data.describe()"
   ]
  },
  {
   "cell_type": "code",
   "execution_count": 298,
   "metadata": {},
   "outputs": [
    {
     "data": {
      "text/plain": [
       "Date          2021-03-29 00:00:00\n",
       "Day                             1\n",
       "Month                           3\n",
       "Year                         2021\n",
       "Close/Last                  119.9\n",
       "Volume                   46397670\n",
       "Open                       120.11\n",
       "High                       118.86\n",
       "Low                        118.86\n",
       "dtype: object"
      ]
     },
     "execution_count": 298,
     "metadata": {},
     "output_type": "execute_result"
    }
   ],
   "source": [
    "aapl_df.min()"
   ]
  },
  {
   "cell_type": "code",
   "execution_count": 299,
   "metadata": {},
   "outputs": [
    {
     "data": {
      "text/plain": [
       "2021-05-04    1\n",
       "2021-05-19    1\n",
       "2021-07-30    1\n",
       "2021-06-29    1\n",
       "2021-04-28    1\n",
       "             ..\n",
       "2021-08-11    1\n",
       "2021-06-10    1\n",
       "2021-05-10    1\n",
       "2021-04-09    1\n",
       "2021-08-12    1\n",
       "Name: Date, Length: 126, dtype: int64"
      ]
     },
     "execution_count": 299,
     "metadata": {},
     "output_type": "execute_result"
    }
   ],
   "source": [
    "aapl_df['Date'].value_counts()"
   ]
  },
  {
   "cell_type": "markdown",
   "metadata": {},
   "source": [
    "## Working on matplotlib"
   ]
  },
  {
   "cell_type": "code",
   "execution_count": 300,
   "metadata": {},
   "outputs": [],
   "source": [
    "# relation b/w volume and low\n",
    "x1 = aapl_df.Low\n",
    "x2 = aapl_data.High"
   ]
  },
  {
   "cell_type": "code",
   "execution_count": 301,
   "metadata": {},
   "outputs": [],
   "source": [
    "y = aapl_data['Volume']"
   ]
  },
  {
   "cell_type": "code",
   "execution_count": 302,
   "metadata": {},
   "outputs": [
    {
     "data": {
      "image/png": "[encoded data removed]",
      "text/plain": [
       "<Figure size 432x288 with 1 Axes>"
      ]
     },
     "metadata": {
      "needs_background": "light"
     },
     "output_type": "display_data"
    }
   ],
   "source": [
    "plt.title(\"Relationship among high/Low and volume\")\n",
    "plt.xlabel(\"Low\")\n",
    "plt.ylabel(\"Volume\")\n",
    "plt.plot(x1,y,color=\"g\")\n",
    "# plt.plot(x2,y,color=\"r\")\n",
    "plt.show()"
   ]
  },
  {
   "cell_type": "code",
   "execution_count": 303,
   "metadata": {},
   "outputs": [
    {
     "data": {
      "image/png": "[encoded data removed]",
      "text/plain": [
       "<Figure size 432x288 with 1 Axes>"
      ]
     },
     "metadata": {
      "needs_background": "light"
     },
     "output_type": "display_data"
    }
   ],
   "source": [
    "plt.title(\"Relationship among high and volume\")\n",
    "plt.xlabel(\"High\")\n",
    "plt.ylabel(\"Volume\")\n",
    "plt.plot(x2,y,color=\"r\")\n",
    "# plt.plot(x2,y,color=\"r\")\n",
    "plt.show()"
   ]
  },
  {
   "cell_type": "code",
   "execution_count": 304,
   "metadata": {},
   "outputs": [
    {
     "data": {
      "image/png": "[encoded data removed]",
      "text/plain": [
       "<Figure size 432x288 with 1 Axes>"
      ]
     },
     "metadata": {
      "needs_background": "light"
     },
     "output_type": "display_data"
    }
   ],
   "source": [
    "# using subplot\n",
    "plt.title(\"Relationship among high/Low and volume\")\n",
    "plt.xlabel(\"Low\")\n",
    "plt.ylabel(\"Volume\")\n",
    "plt.subplot(1,2,1)\n",
    "plt.plot(x1,y,color=\"g\")\n",
    "plt.plot(x2,y,color=\"r\")\n",
    "plt.subplot(2,1,2)\n",
    "plt.show()"
   ]
  },
  {
   "cell_type": "code",
   "execution_count": 305,
   "metadata": {},
   "outputs": [
    {
     "data": {
      "text/plain": [
       "count    126.000000\n",
       "mean     136.649813\n",
       "std        9.864231\n",
       "min      118.860000\n",
       "25%      126.875000\n",
       "50%      133.875000\n",
       "75%      145.797500\n",
       "max      154.390000\n",
       "Name: Low, dtype: float64"
      ]
     },
     "execution_count": 305,
     "metadata": {},
     "output_type": "execute_result"
    }
   ],
   "source": [
    "x1.describe()"
   ]
  },
  {
   "cell_type": "code",
   "execution_count": 309,
   "metadata": {},
   "outputs": [
    {
     "data": {
      "text/plain": [
       "[<matplotlib.lines.Line2D at 0x20c40dbb670>]"
      ]
     },
     "execution_count": 309,
     "metadata": {},
     "output_type": "execute_result"
    },
    {
     "data": {
      "image/png": "[encoded data removed]",
      "text/plain": [
       "<Figure size 360x360 with 1 Axes>"
      ]
     },
     "metadata": {
      "needs_background": "light"
     },
     "output_type": "display_data"
    }
   ],
   "source": [
    "plt.figure(figsize=(5,5))\n",
    "plt.plot(aapl_df.groupby('Month')['High'].max())"
   ]
  },
  {
   "cell_type": "code",
   "execution_count": 310,
   "metadata": {},
   "outputs": [
    {
     "data": {
      "text/plain": [
       "[<matplotlib.lines.Line2D at 0x20c40e12670>]"
      ]
     },
     "execution_count": 310,
     "metadata": {},
     "output_type": "execute_result"
    },
    {
     "data": {
      "image/png": "[encoded data removed]",
      "text/plain": [
       "<Figure size 360x360 with 1 Axes>"
      ]
     },
     "metadata": {
      "needs_background": "light"
     },
     "output_type": "display_data"
    }
   ],
   "source": [
    "plt.figure(figsize=(5,5))\n",
    "plt.plot(aapl_df.groupby('Month')['High'].mean())"
   ]
  },
  {
   "cell_type": "code",
   "execution_count": 311,
   "metadata": {},
   "outputs": [
    {
     "data": {
      "text/plain": [
       "[<matplotlib.lines.Line2D at 0x20c40e649a0>]"
      ]
     },
     "execution_count": 311,
     "metadata": {},
     "output_type": "execute_result"
    },
    {
     "data": {
      "image/png": "[encoded data removed]",
      "text/plain": [
       "<Figure size 360x360 with 1 Axes>"
      ]
     },
     "metadata": {
      "needs_background": "light"
     },
     "output_type": "display_data"
    }
   ],
   "source": [
    "plt.figure(figsize=(5,5))\n",
    "plt.plot(aapl_df.groupby('Month')['High'].min())"
   ]
  },
  {
   "cell_type": "code",
   "execution_count": 313,
   "metadata": {},
   "outputs": [
    {
     "data": {
      "text/html": [
       "<div>\n",
       "<style scoped>\n",
       "    .dataframe tbody tr th:only-of-type {\n",
       "        vertical-align: middle;\n",
       "    }\n",
       "\n",
       "    .dataframe tbody tr th {\n",
       "        vertical-align: top;\n",
       "    }\n",
       "\n",
       "    .dataframe thead th {\n",
       "        text-align: right;\n",
       "    }\n",
       "</style>\n",
       "<table border=\"1\" class=\"dataframe\">\n",
       "  <thead>\n",
       "    <tr style=\"text-align: right;\">\n",
       "      <th></th>\n",
       "      <th>Day</th>\n",
       "      <th>Year</th>\n",
       "      <th>Close/Last</th>\n",
       "      <th>Volume</th>\n",
       "      <th>Open</th>\n",
       "      <th>High</th>\n",
       "      <th>Low</th>\n",
       "    </tr>\n",
       "    <tr>\n",
       "      <th>Month</th>\n",
       "      <th></th>\n",
       "      <th></th>\n",
       "      <th></th>\n",
       "      <th></th>\n",
       "      <th></th>\n",
       "      <th></th>\n",
       "      <th></th>\n",
       "    </tr>\n",
       "  </thead>\n",
       "  <tbody>\n",
       "    <tr>\n",
       "      <th>3</th>\n",
       "      <td>30.000000</td>\n",
       "      <td>2021.0</td>\n",
       "      <td>121.146667</td>\n",
       "      <td>9.493831e+07</td>\n",
       "      <td>121.136667</td>\n",
       "      <td>120.246633</td>\n",
       "      <td>120.246633</td>\n",
       "    </tr>\n",
       "    <tr>\n",
       "      <th>4</th>\n",
       "      <td>16.714286</td>\n",
       "      <td>2021.0</td>\n",
       "      <td>131.812619</td>\n",
       "      <td>8.999794e+07</td>\n",
       "      <td>131.672381</td>\n",
       "      <td>130.464767</td>\n",
       "      <td>130.464767</td>\n",
       "    </tr>\n",
       "    <tr>\n",
       "      <th>5</th>\n",
       "      <td>15.500000</td>\n",
       "      <td>2021.0</td>\n",
       "      <td>126.784000</td>\n",
       "      <td>8.559035e+07</td>\n",
       "      <td>127.034750</td>\n",
       "      <td>125.823750</td>\n",
       "      <td>125.823750</td>\n",
       "    </tr>\n",
       "    <tr>\n",
       "      <th>6</th>\n",
       "      <td>15.318182</td>\n",
       "      <td>2021.0</td>\n",
       "      <td>129.958636</td>\n",
       "      <td>7.302682e+07</td>\n",
       "      <td>129.489545</td>\n",
       "      <td>128.761509</td>\n",
       "      <td>128.761509</td>\n",
       "    </tr>\n",
       "    <tr>\n",
       "      <th>7</th>\n",
       "      <td>16.571429</td>\n",
       "      <td>2021.0</td>\n",
       "      <td>145.139524</td>\n",
       "      <td>9.138705e+07</td>\n",
       "      <td>144.569762</td>\n",
       "      <td>143.538200</td>\n",
       "      <td>143.538200</td>\n",
       "    </tr>\n",
       "    <tr>\n",
       "      <th>8</th>\n",
       "      <td>15.954545</td>\n",
       "      <td>2021.0</td>\n",
       "      <td>148.177727</td>\n",
       "      <td>6.651373e+07</td>\n",
       "      <td>147.850682</td>\n",
       "      <td>146.865455</td>\n",
       "      <td>146.865455</td>\n",
       "    </tr>\n",
       "    <tr>\n",
       "      <th>9</th>\n",
       "      <td>13.235294</td>\n",
       "      <td>2021.0</td>\n",
       "      <td>149.577647</td>\n",
       "      <td>8.536274e+07</td>\n",
       "      <td>150.246471</td>\n",
       "      <td>148.400359</td>\n",
       "      <td>148.400359</td>\n",
       "    </tr>\n",
       "  </tbody>\n",
       "</table>\n",
       "</div>"
      ],
      "text/plain": [
       "             Day    Year  Close/Last        Volume        Open        High  \\\n",
       "Month                                                                        \n",
       "3      30.000000  2021.0  121.146667  9.493831e+07  121.136667  120.246633   \n",
       "4      16.714286  2021.0  131.812619  8.999794e+07  131.672381  130.464767   \n",
       "5      15.500000  2021.0  126.784000  8.559035e+07  127.034750  125.823750   \n",
       "6      15.318182  2021.0  129.958636  7.302682e+07  129.489545  128.761509   \n",
       "7      16.571429  2021.0  145.139524  9.138705e+07  144.569762  143.538200   \n",
       "8      15.954545  2021.0  148.177727  6.651373e+07  147.850682  146.865455   \n",
       "9      13.235294  2021.0  149.577647  8.536274e+07  150.246471  148.400359   \n",
       "\n",
       "              Low  \n",
       "Month              \n",
       "3      120.246633  \n",
       "4      130.464767  \n",
       "5      125.823750  \n",
       "6      128.761509  \n",
       "7      143.538200  \n",
       "8      146.865455  \n",
       "9      148.400359  "
      ]
     },
     "execution_count": 313,
     "metadata": {},
     "output_type": "execute_result"
    }
   ],
   "source": [
    "aapl_df.groupby('Month').mean()"
   ]
  },
  {
   "cell_type": "code",
   "execution_count": 317,
   "metadata": {},
   "outputs": [
    {
     "name": "stdout",
     "output_type": "stream",
     "text": [
      "          Date  Day  Month  Year  Close/Last    Volume    Open    High     Low\n",
      "13  2021-09-07    7      9  2021      156.69  82278260  154.97  154.39  154.39\n",
      "17  2021-08-31   31      8  2021      151.83  86453120  152.66  151.29  151.29\n",
      "43  2021-07-26   26      7  2021      148.99  72434090  148.27  147.70  147.70\n",
      "60  2021-06-30   30      6  2021      136.96  63261390  136.17  135.87  135.87\n",
      "101 2021-05-03    3      5  2021      132.54  75135100  132.04  131.83  131.83\n",
      "105 2021-04-27   27      4  2021      134.39  66015800  135.01  134.11  134.11\n"
     ]
    }
   ],
   "source": [
    "lowest_values = aapl_df.groupby('Month')['Low'].transform('max') == aapl_df['Low']\n",
    "print(aapl_df[lowest_values][:-1])"
   ]
  },
  {
   "cell_type": "code",
   "execution_count": 325,
   "metadata": {},
   "outputs": [
    {
     "name": "stdout",
     "output_type": "stream",
     "text": [
      "              Low                \n",
      "             mean     min     max\n",
      "Month                            \n",
      "3      120.246633  118.86  121.15\n",
      "4      130.464767  122.49  134.11\n",
      "5      125.823750  122.25  131.83\n",
      "6      128.761509  123.13  135.87\n",
      "7      143.538200  135.76  147.70\n",
      "8      146.865455  144.50  151.29\n",
      "9      148.400359  141.27  154.39\n"
     ]
    }
   ],
   "source": [
    "aapl_low_column = aapl_df.groupby('Month').agg({'Low': ['mean', 'min', 'max']})\n",
    "print(aapl_low_column)"
   ]
  },
  {
   "cell_type": "code",
   "execution_count": 326,
   "metadata": {},
   "outputs": [
    {
     "name": "stdout",
     "output_type": "stream",
     "text": [
      "             High                \n",
      "             mean     min     max\n",
      "Month                            \n",
      "3      120.246633  118.86  121.15\n",
      "4      130.464767  122.49  134.11\n",
      "5      125.823750  122.25  131.83\n",
      "6      128.761509  123.13  135.87\n",
      "7      143.538200  135.76  147.70\n",
      "8      146.865455  144.50  151.29\n",
      "9      148.400359  141.27  154.39\n"
     ]
    }
   ],
   "source": [
    "aapl_high_column = aapl_df.groupby('Month').agg({'High': ['mean', 'min', 'max']})\n",
    "print(aapl_high_column)"
   ]
  },
  {
   "cell_type": "code",
   "execution_count": 328,
   "metadata": {},
   "outputs": [
    {
     "data": {
      "text/plain": [
       "Month\n",
       "3    120.246633\n",
       "4    130.464767\n",
       "5    125.823750\n",
       "6    128.761509\n",
       "7    143.538200\n",
       "8    146.865455\n",
       "9    148.400359\n",
       "Name: Low, dtype: float64"
      ]
     },
     "execution_count": 328,
     "metadata": {},
     "output_type": "execute_result"
    }
   ],
   "source": [
    "aapl_df.groupby('Month')['Low'].mean()"
   ]
  },
  {
   "cell_type": "code",
   "execution_count": 329,
   "metadata": {},
   "outputs": [
    {
     "data": {
      "text/plain": [
       "Month\n",
       "3    120.246633\n",
       "4    130.464767\n",
       "5    125.823750\n",
       "6    128.761509\n",
       "7    143.538200\n",
       "8    146.865455\n",
       "9    148.400359\n",
       "Name: High, dtype: float64"
      ]
     },
     "execution_count": 329,
     "metadata": {},
     "output_type": "execute_result"
    }
   ],
   "source": [
    "aapl_df.groupby('Month')['High'].mean()"
   ]
  },
  {
   "cell_type": "code",
   "execution_count": 331,
   "metadata": {},
   "outputs": [
    {
     "name": "stdout",
     "output_type": "stream",
     "text": [
      "             Volume                     \n",
      "               mean       min        max\n",
      "Month                                   \n",
      "3      9.493831e+07  80819200  118323800\n",
      "4      8.999794e+07  66015800  151101000\n",
      "5      8.559035e+07  56575920  137564700\n",
      "6      7.302682e+07  53522370  108953300\n",
      "7      9.138705e+07  52485780  127050800\n",
      "8      6.651373e+07  46397670  103558800\n",
      "9      8.536274e+07  53477870  140893200\n"
     ]
    }
   ],
   "source": [
    "aapl_volume_column = aapl_df.groupby('Month').agg({'Volume': ['mean', 'min', 'max']})\n",
    "print(aapl_volume_column)"
   ]
  },
  {
   "cell_type": "code",
   "execution_count": 349,
   "metadata": {},
   "outputs": [
    {
     "data": {
      "text/html": [
       "<div>\n",
       "<style scoped>\n",
       "    .dataframe tbody tr th:only-of-type {\n",
       "        vertical-align: middle;\n",
       "    }\n",
       "\n",
       "    .dataframe tbody tr th {\n",
       "        vertical-align: top;\n",
       "    }\n",
       "\n",
       "    .dataframe thead th {\n",
       "        text-align: right;\n",
       "    }\n",
       "</style>\n",
       "<table border=\"1\" class=\"dataframe\">\n",
       "  <thead>\n",
       "    <tr style=\"text-align: right;\">\n",
       "      <th></th>\n",
       "      <th>Volume</th>\n",
       "      <th>Open</th>\n",
       "      <th>High</th>\n",
       "      <th>Low</th>\n",
       "    </tr>\n",
       "    <tr>\n",
       "      <th>Month</th>\n",
       "      <th></th>\n",
       "      <th></th>\n",
       "      <th></th>\n",
       "      <th></th>\n",
       "    </tr>\n",
       "  </thead>\n",
       "  <tbody>\n",
       "    <tr>\n",
       "      <th>3</th>\n",
       "      <td>80819200</td>\n",
       "      <td>120.11</td>\n",
       "      <td>118.86</td>\n",
       "      <td>118.86</td>\n",
       "    </tr>\n",
       "    <tr>\n",
       "      <th>4</th>\n",
       "      <td>66015800</td>\n",
       "      <td>123.66</td>\n",
       "      <td>122.49</td>\n",
       "      <td>122.49</td>\n",
       "    </tr>\n",
       "    <tr>\n",
       "      <th>5</th>\n",
       "      <td>56575920</td>\n",
       "      <td>123.16</td>\n",
       "      <td>122.25</td>\n",
       "      <td>122.25</td>\n",
       "    </tr>\n",
       "    <tr>\n",
       "      <th>6</th>\n",
       "      <td>53522370</td>\n",
       "      <td>124.07</td>\n",
       "      <td>123.13</td>\n",
       "      <td>123.13</td>\n",
       "    </tr>\n",
       "    <tr>\n",
       "      <th>7</th>\n",
       "      <td>52485780</td>\n",
       "      <td>136.60</td>\n",
       "      <td>135.76</td>\n",
       "      <td>135.76</td>\n",
       "    </tr>\n",
       "    <tr>\n",
       "      <th>8</th>\n",
       "      <td>46397670</td>\n",
       "      <td>145.03</td>\n",
       "      <td>144.50</td>\n",
       "      <td>144.50</td>\n",
       "    </tr>\n",
       "    <tr>\n",
       "      <th>9</th>\n",
       "      <td>53477870</td>\n",
       "      <td>143.80</td>\n",
       "      <td>141.27</td>\n",
       "      <td>141.27</td>\n",
       "    </tr>\n",
       "  </tbody>\n",
       "</table>\n",
       "</div>"
      ],
      "text/plain": [
       "         Volume    Open    High     Low\n",
       "Month                                  \n",
       "3      80819200  120.11  118.86  118.86\n",
       "4      66015800  123.66  122.49  122.49\n",
       "5      56575920  123.16  122.25  122.25\n",
       "6      53522370  124.07  123.13  123.13\n",
       "7      52485780  136.60  135.76  135.76\n",
       "8      46397670  145.03  144.50  144.50\n",
       "9      53477870  143.80  141.27  141.27"
      ]
     },
     "execution_count": 349,
     "metadata": {},
     "output_type": "execute_result"
    }
   ],
   "source": [
    "# (aapl_df[['Volume','Open','High','Low']]).groupby('Month').min(axis=1)\n",
    "ddf = aapl_df[['Volume','Open','High','Low','Month']]\n",
    "ddf.groupby('Month').min()\n",
    "# (aapl_df.loc[['Volume','Open','High','Low']]).groupby('Month').min(axis=1)"
   ]
  },
  {
   "cell_type": "code",
   "execution_count": 351,
   "metadata": {},
   "outputs": [
    {
     "data": {
      "text/html": [
       "<div>\n",
       "<style scoped>\n",
       "    .dataframe tbody tr th:only-of-type {\n",
       "        vertical-align: middle;\n",
       "    }\n",
       "\n",
       "    .dataframe tbody tr th {\n",
       "        vertical-align: top;\n",
       "    }\n",
       "\n",
       "    .dataframe thead th {\n",
       "        text-align: right;\n",
       "    }\n",
       "</style>\n",
       "<table border=\"1\" class=\"dataframe\">\n",
       "  <thead>\n",
       "    <tr style=\"text-align: right;\">\n",
       "      <th></th>\n",
       "      <th>Close/Last</th>\n",
       "      <th>Volume</th>\n",
       "      <th>Open</th>\n",
       "      <th>High</th>\n",
       "      <th>Low</th>\n",
       "    </tr>\n",
       "    <tr>\n",
       "      <th>Month</th>\n",
       "      <th></th>\n",
       "      <th></th>\n",
       "      <th></th>\n",
       "      <th></th>\n",
       "      <th></th>\n",
       "    </tr>\n",
       "  </thead>\n",
       "  <tbody>\n",
       "    <tr>\n",
       "      <th>3</th>\n",
       "      <td>119.90</td>\n",
       "      <td>80819200</td>\n",
       "      <td>120.11</td>\n",
       "      <td>118.86</td>\n",
       "      <td>118.86</td>\n",
       "    </tr>\n",
       "    <tr>\n",
       "      <th>4</th>\n",
       "      <td>123.00</td>\n",
       "      <td>66015800</td>\n",
       "      <td>123.66</td>\n",
       "      <td>122.49</td>\n",
       "      <td>122.49</td>\n",
       "    </tr>\n",
       "    <tr>\n",
       "      <th>5</th>\n",
       "      <td>122.77</td>\n",
       "      <td>56575920</td>\n",
       "      <td>123.16</td>\n",
       "      <td>122.25</td>\n",
       "      <td>122.25</td>\n",
       "    </tr>\n",
       "    <tr>\n",
       "      <th>6</th>\n",
       "      <td>123.54</td>\n",
       "      <td>53522370</td>\n",
       "      <td>124.07</td>\n",
       "      <td>123.13</td>\n",
       "      <td>123.13</td>\n",
       "    </tr>\n",
       "    <tr>\n",
       "      <th>7</th>\n",
       "      <td>137.27</td>\n",
       "      <td>52485780</td>\n",
       "      <td>136.60</td>\n",
       "      <td>135.76</td>\n",
       "      <td>135.76</td>\n",
       "    </tr>\n",
       "    <tr>\n",
       "      <th>8</th>\n",
       "      <td>145.52</td>\n",
       "      <td>46397670</td>\n",
       "      <td>145.03</td>\n",
       "      <td>144.50</td>\n",
       "      <td>144.50</td>\n",
       "    </tr>\n",
       "    <tr>\n",
       "      <th>9</th>\n",
       "      <td>142.94</td>\n",
       "      <td>53477870</td>\n",
       "      <td>143.80</td>\n",
       "      <td>141.27</td>\n",
       "      <td>141.27</td>\n",
       "    </tr>\n",
       "  </tbody>\n",
       "</table>\n",
       "</div>"
      ],
      "text/plain": [
       "       Close/Last    Volume    Open    High     Low\n",
       "Month                                              \n",
       "3          119.90  80819200  120.11  118.86  118.86\n",
       "4          123.00  66015800  123.66  122.49  122.49\n",
       "5          122.77  56575920  123.16  122.25  122.25\n",
       "6          123.54  53522370  124.07  123.13  123.13\n",
       "7          137.27  52485780  136.60  135.76  135.76\n",
       "8          145.52  46397670  145.03  144.50  144.50\n",
       "9          142.94  53477870  143.80  141.27  141.27"
      ]
     },
     "execution_count": 351,
     "metadata": {},
     "output_type": "execute_result"
    }
   ],
   "source": [
    "aapl_df[['Close/Last','Volume','Open','High','Low','Month']].groupby('Month').min()"
   ]
  },
  {
   "cell_type": "code",
   "execution_count": null,
   "metadata": {},
   "outputs": [],
   "source": []
  }
 ],
 "metadata": {
  "kernelspec": {
   "display_name": "Python 3",
   "language": "python",
   "name": "python3"
  },
  "language_info": {
   "codemirror_mode": {
    "name": "ipython",
    "version": 3
   },
   "file_extension": ".py",
   "mimetype": "text/x-python",
   "name": "python",
   "nbconvert_exporter": "python",
   "pygments_lexer": "ipython3",
   "version": "3.8.5"
  }
 },
 "nbformat": 4,
 "nbformat_minor": 4
}
