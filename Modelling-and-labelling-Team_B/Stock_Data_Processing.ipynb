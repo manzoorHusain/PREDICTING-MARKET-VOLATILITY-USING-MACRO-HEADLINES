{
 "cells": [
  {
   "cell_type": "markdown",
   "metadata": {},
   "source": [
    "# Stock data  preprocessing , labelling  and mapping \n",
    "# The following codes were applied on all 5 companies (1 company per run)  and then saved output for each company was saved in folder (Labeled_Data_modeling):\n",
    "## By: Hadeel Sameh"
   ]
  },
  {
   "cell_type": "code",
   "execution_count": 1,
   "metadata": {
    "scrolled": true
   },
   "outputs": [],
   "source": [
    "import pandas as pd\n",
    "df=pd.read_csv('Fainancial_data/HistoricalData_IBM.csv')"
   ]
  },
  {
   "cell_type": "code",
   "execution_count": 2,
   "metadata": {
    "scrolled": true
   },
   "outputs": [
    {
     "data": {
      "text/html": [
       "<div>\n",
       "<style scoped>\n",
       "    .dataframe tbody tr th:only-of-type {\n",
       "        vertical-align: middle;\n",
       "    }\n",
       "\n",
       "    .dataframe tbody tr th {\n",
       "        vertical-align: top;\n",
       "    }\n",
       "\n",
       "    .dataframe thead th {\n",
       "        text-align: right;\n",
       "    }\n",
       "</style>\n",
       "<table border=\"1\" class=\"dataframe\">\n",
       "  <thead>\n",
       "    <tr style=\"text-align: right;\">\n",
       "      <th></th>\n",
       "      <th>Date</th>\n",
       "      <th>Close/Last</th>\n",
       "      <th>Volume</th>\n",
       "      <th>Open</th>\n",
       "      <th>High</th>\n",
       "      <th>Low</th>\n",
       "    </tr>\n",
       "  </thead>\n",
       "  <tbody>\n",
       "    <tr>\n",
       "      <td>0</td>\n",
       "      <td>10/06/2021</td>\n",
       "      <td>$142.36</td>\n",
       "      <td>5328433</td>\n",
       "      <td>$142.48</td>\n",
       "      <td>$143.37</td>\n",
       "      <td>$140.89</td>\n",
       "    </tr>\n",
       "    <tr>\n",
       "      <td>1</td>\n",
       "      <td>10/05/2021</td>\n",
       "      <td>$143.15</td>\n",
       "      <td>6976648</td>\n",
       "      <td>$144.75</td>\n",
       "      <td>$145</td>\n",
       "      <td>$142.64</td>\n",
       "    </tr>\n",
       "    <tr>\n",
       "      <td>2</td>\n",
       "      <td>10/04/2021</td>\n",
       "      <td>$144.11</td>\n",
       "      <td>7351128</td>\n",
       "      <td>$142.74</td>\n",
       "      <td>$146</td>\n",
       "      <td>$142.3501</td>\n",
       "    </tr>\n",
       "    <tr>\n",
       "      <td>3</td>\n",
       "      <td>10/01/2021</td>\n",
       "      <td>$143.32</td>\n",
       "      <td>6604064</td>\n",
       "      <td>$141</td>\n",
       "      <td>$143.97</td>\n",
       "      <td>$140.37</td>\n",
       "    </tr>\n",
       "    <tr>\n",
       "      <td>4</td>\n",
       "      <td>09/30/2021</td>\n",
       "      <td>$138.93</td>\n",
       "      <td>5824431</td>\n",
       "      <td>$140</td>\n",
       "      <td>$140.57</td>\n",
       "      <td>$138.5</td>\n",
       "    </tr>\n",
       "  </tbody>\n",
       "</table>\n",
       "</div>"
      ],
      "text/plain": [
       "         Date Close/Last   Volume     Open     High        Low\n",
       "0  10/06/2021    $142.36  5328433  $142.48  $143.37    $140.89\n",
       "1  10/05/2021    $143.15  6976648  $144.75     $145    $142.64\n",
       "2  10/04/2021    $144.11  7351128  $142.74     $146  $142.3501\n",
       "3  10/01/2021    $143.32  6604064     $141  $143.97    $140.37\n",
       "4  09/30/2021    $138.93  5824431     $140  $140.57     $138.5"
      ]
     },
     "execution_count": 2,
     "metadata": {},
     "output_type": "execute_result"
    }
   ],
   "source": [
    "df.head()"
   ]
  },
  {
   "cell_type": "code",
   "execution_count": 3,
   "metadata": {
    "scrolled": false
   },
   "outputs": [
    {
     "name": "stdout",
     "output_type": "stream",
     "text": [
      "<class 'pandas.core.frame.DataFrame'>\n",
      "RangeIndex: 128 entries, 0 to 127\n",
      "Data columns (total 6 columns):\n",
      "Date          128 non-null object\n",
      "Close/Last    128 non-null object\n",
      "Volume        128 non-null int64\n",
      "Open          128 non-null object\n",
      "High          128 non-null object\n",
      "Low           128 non-null object\n",
      "dtypes: int64(1), object(5)\n",
      "memory usage: 6.1+ KB\n"
     ]
    }
   ],
   "source": [
    "df.info()"
   ]
  },
  {
   "cell_type": "markdown",
   "metadata": {},
   "source": [
    "## Inserting Weekend days:"
   ]
  },
  {
   "cell_type": "code",
   "execution_count": 4,
   "metadata": {},
   "outputs": [],
   "source": [
    "df.set_index('Date',drop=True,inplace=True)\n",
    "df.index = pd.DatetimeIndex(df.index)\n",
    "d = pd.date_range(df.index.min(), df.index.max(), freq='D')\n",
    "df = df.reindex(d)\n",
    "df['Date'] = pd.DatetimeIndex(df.index)"
   ]
  },
  {
   "cell_type": "code",
   "execution_count": 5,
   "metadata": {},
   "outputs": [],
   "source": [
    "df.reset_index(drop=True, inplace=True)"
   ]
  },
  {
   "cell_type": "code",
   "execution_count": 6,
   "metadata": {
    "scrolled": true
   },
   "outputs": [
    {
     "name": "stdout",
     "output_type": "stream",
     "text": [
      "does column Close/Last has null values? True\n",
      "does column Volume has null values? True\n",
      "does column Open has null values? True\n",
      "does column High has null values? True\n",
      "does column Low has null values? True\n",
      "does column Date has null values? False\n"
     ]
    }
   ],
   "source": [
    "a=[]\n",
    "a=df.columns\n",
    "for i in a:\n",
    "    print(f'does column {i} has null values? {df[i].isnull().any()}')\n"
   ]
  },
  {
   "cell_type": "markdown",
   "metadata": {},
   "source": [
    "## removing dollar sign and coverting columns to numerical:"
   ]
  },
  {
   "cell_type": "code",
   "execution_count": 7,
   "metadata": {},
   "outputs": [],
   "source": [
    "#make date column the first\n",
    "first_column = df.pop('Date')\n",
    "df.insert(0, 'Date', first_column)"
   ]
  },
  {
   "cell_type": "code",
   "execution_count": 8,
   "metadata": {},
   "outputs": [],
   "source": [
    "string_col=['Date','Close/Last','Open','High','Low']\n",
    "for col in string_col:\n",
    "    df[col] = df[col].map(lambda x: str(x).replace('$',''))"
   ]
  },
  {
   "cell_type": "code",
   "execution_count": 9,
   "metadata": {},
   "outputs": [],
   "source": [
    "string_2_float=['Close/Last','Open','High','Low']\n",
    "for col in string_2_float:\n",
    "    df[col] = df[col].apply(float)"
   ]
  },
  {
   "cell_type": "markdown",
   "metadata": {},
   "source": [
    "## filling null values :"
   ]
  },
  {
   "cell_type": "code",
   "execution_count": 10,
   "metadata": {},
   "outputs": [],
   "source": [
    "import numpy as np\n",
    "rows=np.arange(3,182) \n",
    "null_col=['High','Close/Last','Open','Low','Volume']\n",
    "for i in null_col:\n",
    "    for k in rows:\n",
    "        df[i] = df[i].fillna(np.mean((df[i][k-1]+df[i][k+1])/2))\n",
    "        "
   ]
  },
  {
   "cell_type": "markdown",
   "metadata": {},
   "source": [
    "### the result:"
   ]
  },
  {
   "cell_type": "code",
   "execution_count": 11,
   "metadata": {},
   "outputs": [
    {
     "data": {
      "text/html": [
       "<div>\n",
       "<style scoped>\n",
       "    .dataframe tbody tr th:only-of-type {\n",
       "        vertical-align: middle;\n",
       "    }\n",
       "\n",
       "    .dataframe tbody tr th {\n",
       "        vertical-align: top;\n",
       "    }\n",
       "\n",
       "    .dataframe thead th {\n",
       "        text-align: right;\n",
       "    }\n",
       "</style>\n",
       "<table border=\"1\" class=\"dataframe\">\n",
       "  <thead>\n",
       "    <tr style=\"text-align: right;\">\n",
       "      <th></th>\n",
       "      <th>Date</th>\n",
       "      <th>Close/Last</th>\n",
       "      <th>Volume</th>\n",
       "      <th>Open</th>\n",
       "      <th>High</th>\n",
       "      <th>Low</th>\n",
       "    </tr>\n",
       "  </thead>\n",
       "  <tbody>\n",
       "    <tr>\n",
       "      <td>0</td>\n",
       "      <td>2021-04-07</td>\n",
       "      <td>134.93</td>\n",
       "      <td>2976136.0</td>\n",
       "      <td>133.8400</td>\n",
       "      <td>134.9400</td>\n",
       "      <td>133.780</td>\n",
       "    </tr>\n",
       "    <tr>\n",
       "      <td>1</td>\n",
       "      <td>2021-04-08</td>\n",
       "      <td>135.12</td>\n",
       "      <td>4087228.0</td>\n",
       "      <td>134.5700</td>\n",
       "      <td>135.6299</td>\n",
       "      <td>134.160</td>\n",
       "    </tr>\n",
       "    <tr>\n",
       "      <td>2</td>\n",
       "      <td>2021-04-09</td>\n",
       "      <td>135.73</td>\n",
       "      <td>3023916.0</td>\n",
       "      <td>134.8700</td>\n",
       "      <td>135.7400</td>\n",
       "      <td>134.710</td>\n",
       "    </tr>\n",
       "    <tr>\n",
       "      <td>3</td>\n",
       "      <td>2021-04-10</td>\n",
       "      <td>133.61</td>\n",
       "      <td>4811004.0</td>\n",
       "      <td>133.1625</td>\n",
       "      <td>134.0750</td>\n",
       "      <td>132.185</td>\n",
       "    </tr>\n",
       "    <tr>\n",
       "      <td>4</td>\n",
       "      <td>2021-04-11</td>\n",
       "      <td>133.61</td>\n",
       "      <td>4811004.0</td>\n",
       "      <td>133.1625</td>\n",
       "      <td>134.0750</td>\n",
       "      <td>132.185</td>\n",
       "    </tr>\n",
       "  </tbody>\n",
       "</table>\n",
       "</div>"
      ],
      "text/plain": [
       "         Date  Close/Last     Volume      Open      High      Low\n",
       "0  2021-04-07      134.93  2976136.0  133.8400  134.9400  133.780\n",
       "1  2021-04-08      135.12  4087228.0  134.5700  135.6299  134.160\n",
       "2  2021-04-09      135.73  3023916.0  134.8700  135.7400  134.710\n",
       "3  2021-04-10      133.61  4811004.0  133.1625  134.0750  132.185\n",
       "4  2021-04-11      133.61  4811004.0  133.1625  134.0750  132.185"
      ]
     },
     "execution_count": 11,
     "metadata": {},
     "output_type": "execute_result"
    }
   ],
   "source": [
    "df['Date'] = pd.to_datetime(df['Date']).dt.date\n",
    "df.head()"
   ]
  },
  {
   "cell_type": "code",
   "execution_count": 12,
   "metadata": {
    "scrolled": true
   },
   "outputs": [
    {
     "name": "stdout",
     "output_type": "stream",
     "text": [
      "does column Close/Last has null values? False\n",
      "does column Volume has null values? False\n",
      "does column Open has null values? False\n",
      "does column High has null values? False\n",
      "does column Low has null values? False\n",
      "does column Date has null values? False\n"
     ]
    }
   ],
   "source": [
    "for i in a:\n",
    "    print(f'does column {i} has null values? {df[i].isnull().any()}')"
   ]
  },
  {
   "cell_type": "code",
   "execution_count": 13,
   "metadata": {
    "scrolled": false
   },
   "outputs": [
    {
     "name": "stdout",
     "output_type": "stream",
     "text": [
      "<class 'pandas.core.frame.DataFrame'>\n",
      "RangeIndex: 183 entries, 0 to 182\n",
      "Data columns (total 6 columns):\n",
      "Date          183 non-null object\n",
      "Close/Last    183 non-null float64\n",
      "Volume        183 non-null float64\n",
      "Open          183 non-null float64\n",
      "High          183 non-null float64\n",
      "Low           183 non-null float64\n",
      "dtypes: float64(5), object(1)\n",
      "memory usage: 8.7+ KB\n"
     ]
    }
   ],
   "source": [
    "df.info()"
   ]
  },
  {
   "cell_type": "markdown",
   "metadata": {},
   "source": [
    "# Labeling :"
   ]
  },
  {
   "cell_type": "markdown",
   "metadata": {},
   "source": [
    "# A) For Binary classification:\n",
    "##  \n",
    "## 1/for Same day approach:"
   ]
  },
  {
   "cell_type": "code",
   "execution_count": 14,
   "metadata": {
    "scrolled": true
   },
   "outputs": [
    {
     "name": "stderr",
     "output_type": "stream",
     "text": [
      "C:\\Users\\Hadeel\\Anaconda3\\lib\\site-packages\\ipykernel_launcher.py:3: SettingWithCopyWarning: \n",
      "A value is trying to be set on a copy of a slice from a DataFrame\n",
      "\n",
      "See the caveats in the documentation: http://pandas.pydata.org/pandas-docs/stable/user_guide/indexing.html#returning-a-view-versus-a-copy\n",
      "  This is separate from the ipykernel package so we can avoid doing imports until\n"
     ]
    }
   ],
   "source": [
    "df['SameDay_Binary']=0\n",
    "for i in range(183):\n",
    "    df['SameDay_Binary'][i]=int(np.sign(df['Close/Last'][i]-df['Open'][i]))"
   ]
  },
  {
   "cell_type": "markdown",
   "metadata": {},
   "source": [
    "## 2/Previous day approach :"
   ]
  },
  {
   "cell_type": "code",
   "execution_count": 15,
   "metadata": {
    "scrolled": true
   },
   "outputs": [
    {
     "name": "stderr",
     "output_type": "stream",
     "text": [
      "C:\\Users\\Hadeel\\Anaconda3\\lib\\site-packages\\ipykernel_launcher.py:6: SettingWithCopyWarning: \n",
      "A value is trying to be set on a copy of a slice from a DataFrame\n",
      "\n",
      "See the caveats in the documentation: http://pandas.pydata.org/pandas-docs/stable/user_guide/indexing.html#returning-a-view-versus-a-copy\n",
      "  \n",
      "C:\\Users\\Hadeel\\Anaconda3\\lib\\site-packages\\ipykernel_launcher.py:4: SettingWithCopyWarning: \n",
      "A value is trying to be set on a copy of a slice from a DataFrame\n",
      "\n",
      "See the caveats in the documentation: http://pandas.pydata.org/pandas-docs/stable/user_guide/indexing.html#returning-a-view-versus-a-copy\n",
      "  after removing the cwd from sys.path.\n"
     ]
    }
   ],
   "source": [
    "df['PreviousDay_Binary']=0\n",
    "for i in range(183):\n",
    "    try:\n",
    "        df['PreviousDay_Binary'][i]=int(np.sign(df['Close/Last'][i]-df['Close/Last'][i-1]))\n",
    "    except KeyError:\n",
    "        df['PreviousDay_Binary'][i]=int(np.sign(df['Close/Last'][i]-np.mean(df['Close/Last'])))\n",
    "        "
   ]
  },
  {
   "cell_type": "markdown",
   "metadata": {},
   "source": [
    "### result :"
   ]
  },
  {
   "cell_type": "code",
   "execution_count": 16,
   "metadata": {
    "scrolled": true
   },
   "outputs": [
    {
     "name": "stdout",
     "output_type": "stream",
     "text": [
      "<class 'pandas.core.frame.DataFrame'>\n",
      "RangeIndex: 183 entries, 0 to 182\n",
      "Data columns (total 8 columns):\n",
      "Date                  183 non-null object\n",
      "Close/Last            183 non-null float64\n",
      "Volume                183 non-null float64\n",
      "Open                  183 non-null float64\n",
      "High                  183 non-null float64\n",
      "Low                   183 non-null float64\n",
      "SameDay_Binary        183 non-null int64\n",
      "PreviousDay_Binary    183 non-null int64\n",
      "dtypes: float64(5), int64(2), object(1)\n",
      "memory usage: 11.6+ KB\n"
     ]
    }
   ],
   "source": [
    "df.info()"
   ]
  },
  {
   "cell_type": "code",
   "execution_count": 17,
   "metadata": {
    "scrolled": true
   },
   "outputs": [
    {
     "data": {
      "text/html": [
       "<div>\n",
       "<style scoped>\n",
       "    .dataframe tbody tr th:only-of-type {\n",
       "        vertical-align: middle;\n",
       "    }\n",
       "\n",
       "    .dataframe tbody tr th {\n",
       "        vertical-align: top;\n",
       "    }\n",
       "\n",
       "    .dataframe thead th {\n",
       "        text-align: right;\n",
       "    }\n",
       "</style>\n",
       "<table border=\"1\" class=\"dataframe\">\n",
       "  <thead>\n",
       "    <tr style=\"text-align: right;\">\n",
       "      <th></th>\n",
       "      <th>Date</th>\n",
       "      <th>Close/Last</th>\n",
       "      <th>Volume</th>\n",
       "      <th>Open</th>\n",
       "      <th>High</th>\n",
       "      <th>Low</th>\n",
       "      <th>SameDay_Binary</th>\n",
       "      <th>PreviousDay_Binary</th>\n",
       "    </tr>\n",
       "  </thead>\n",
       "  <tbody>\n",
       "    <tr>\n",
       "      <td>0</td>\n",
       "      <td>2021-04-07</td>\n",
       "      <td>134.93</td>\n",
       "      <td>2976136.0</td>\n",
       "      <td>133.8400</td>\n",
       "      <td>134.9400</td>\n",
       "      <td>133.780</td>\n",
       "      <td>1</td>\n",
       "      <td>-1</td>\n",
       "    </tr>\n",
       "    <tr>\n",
       "      <td>1</td>\n",
       "      <td>2021-04-08</td>\n",
       "      <td>135.12</td>\n",
       "      <td>4087228.0</td>\n",
       "      <td>134.5700</td>\n",
       "      <td>135.6299</td>\n",
       "      <td>134.160</td>\n",
       "      <td>1</td>\n",
       "      <td>1</td>\n",
       "    </tr>\n",
       "    <tr>\n",
       "      <td>2</td>\n",
       "      <td>2021-04-09</td>\n",
       "      <td>135.73</td>\n",
       "      <td>3023916.0</td>\n",
       "      <td>134.8700</td>\n",
       "      <td>135.7400</td>\n",
       "      <td>134.710</td>\n",
       "      <td>1</td>\n",
       "      <td>1</td>\n",
       "    </tr>\n",
       "    <tr>\n",
       "      <td>3</td>\n",
       "      <td>2021-04-10</td>\n",
       "      <td>133.61</td>\n",
       "      <td>4811004.0</td>\n",
       "      <td>133.1625</td>\n",
       "      <td>134.0750</td>\n",
       "      <td>132.185</td>\n",
       "      <td>1</td>\n",
       "      <td>-1</td>\n",
       "    </tr>\n",
       "    <tr>\n",
       "      <td>4</td>\n",
       "      <td>2021-04-11</td>\n",
       "      <td>133.61</td>\n",
       "      <td>4811004.0</td>\n",
       "      <td>133.1625</td>\n",
       "      <td>134.0750</td>\n",
       "      <td>132.185</td>\n",
       "      <td>1</td>\n",
       "      <td>0</td>\n",
       "    </tr>\n",
       "  </tbody>\n",
       "</table>\n",
       "</div>"
      ],
      "text/plain": [
       "         Date  Close/Last     Volume      Open      High      Low  \\\n",
       "0  2021-04-07      134.93  2976136.0  133.8400  134.9400  133.780   \n",
       "1  2021-04-08      135.12  4087228.0  134.5700  135.6299  134.160   \n",
       "2  2021-04-09      135.73  3023916.0  134.8700  135.7400  134.710   \n",
       "3  2021-04-10      133.61  4811004.0  133.1625  134.0750  132.185   \n",
       "4  2021-04-11      133.61  4811004.0  133.1625  134.0750  132.185   \n",
       "\n",
       "   SameDay_Binary  PreviousDay_Binary  \n",
       "0               1                  -1  \n",
       "1               1                   1  \n",
       "2               1                   1  \n",
       "3               1                  -1  \n",
       "4               1                   0  "
      ]
     },
     "execution_count": 17,
     "metadata": {},
     "output_type": "execute_result"
    }
   ],
   "source": [
    "df.head()"
   ]
  },
  {
   "cell_type": "markdown",
   "metadata": {},
   "source": [
    "### Mapping labels to (0 and 1)"
   ]
  },
  {
   "cell_type": "code",
   "execution_count": 18,
   "metadata": {},
   "outputs": [],
   "source": [
    "df.loc[df['SameDay_Binary'] > 0,'SameDay_Binary']=1\n",
    "df.loc[df['SameDay_Binary'] <= 0,'SameDay_Binary']=0\n",
    "df.loc[df['PreviousDay_Binary'] > 0,'PreviousDay_Binary']=1\n",
    "df.loc[df['PreviousDay_Binary'] <= 0,'PreviousDay_Binary']=0"
   ]
  },
  {
   "cell_type": "code",
   "execution_count": 19,
   "metadata": {},
   "outputs": [
    {
     "data": {
      "text/html": [
       "<div>\n",
       "<style scoped>\n",
       "    .dataframe tbody tr th:only-of-type {\n",
       "        vertical-align: middle;\n",
       "    }\n",
       "\n",
       "    .dataframe tbody tr th {\n",
       "        vertical-align: top;\n",
       "    }\n",
       "\n",
       "    .dataframe thead th {\n",
       "        text-align: right;\n",
       "    }\n",
       "</style>\n",
       "<table border=\"1\" class=\"dataframe\">\n",
       "  <thead>\n",
       "    <tr style=\"text-align: right;\">\n",
       "      <th></th>\n",
       "      <th>Date</th>\n",
       "      <th>Close/Last</th>\n",
       "      <th>Volume</th>\n",
       "      <th>Open</th>\n",
       "      <th>High</th>\n",
       "      <th>Low</th>\n",
       "      <th>SameDay_Binary</th>\n",
       "      <th>PreviousDay_Binary</th>\n",
       "    </tr>\n",
       "  </thead>\n",
       "  <tbody>\n",
       "    <tr>\n",
       "      <td>0</td>\n",
       "      <td>2021-04-07</td>\n",
       "      <td>134.93</td>\n",
       "      <td>2976136.0</td>\n",
       "      <td>133.8400</td>\n",
       "      <td>134.9400</td>\n",
       "      <td>133.780</td>\n",
       "      <td>1</td>\n",
       "      <td>0</td>\n",
       "    </tr>\n",
       "    <tr>\n",
       "      <td>1</td>\n",
       "      <td>2021-04-08</td>\n",
       "      <td>135.12</td>\n",
       "      <td>4087228.0</td>\n",
       "      <td>134.5700</td>\n",
       "      <td>135.6299</td>\n",
       "      <td>134.160</td>\n",
       "      <td>1</td>\n",
       "      <td>1</td>\n",
       "    </tr>\n",
       "    <tr>\n",
       "      <td>2</td>\n",
       "      <td>2021-04-09</td>\n",
       "      <td>135.73</td>\n",
       "      <td>3023916.0</td>\n",
       "      <td>134.8700</td>\n",
       "      <td>135.7400</td>\n",
       "      <td>134.710</td>\n",
       "      <td>1</td>\n",
       "      <td>1</td>\n",
       "    </tr>\n",
       "    <tr>\n",
       "      <td>3</td>\n",
       "      <td>2021-04-10</td>\n",
       "      <td>133.61</td>\n",
       "      <td>4811004.0</td>\n",
       "      <td>133.1625</td>\n",
       "      <td>134.0750</td>\n",
       "      <td>132.185</td>\n",
       "      <td>1</td>\n",
       "      <td>0</td>\n",
       "    </tr>\n",
       "    <tr>\n",
       "      <td>4</td>\n",
       "      <td>2021-04-11</td>\n",
       "      <td>133.61</td>\n",
       "      <td>4811004.0</td>\n",
       "      <td>133.1625</td>\n",
       "      <td>134.0750</td>\n",
       "      <td>132.185</td>\n",
       "      <td>1</td>\n",
       "      <td>0</td>\n",
       "    </tr>\n",
       "  </tbody>\n",
       "</table>\n",
       "</div>"
      ],
      "text/plain": [
       "         Date  Close/Last     Volume      Open      High      Low  \\\n",
       "0  2021-04-07      134.93  2976136.0  133.8400  134.9400  133.780   \n",
       "1  2021-04-08      135.12  4087228.0  134.5700  135.6299  134.160   \n",
       "2  2021-04-09      135.73  3023916.0  134.8700  135.7400  134.710   \n",
       "3  2021-04-10      133.61  4811004.0  133.1625  134.0750  132.185   \n",
       "4  2021-04-11      133.61  4811004.0  133.1625  134.0750  132.185   \n",
       "\n",
       "   SameDay_Binary  PreviousDay_Binary  \n",
       "0               1                   0  \n",
       "1               1                   1  \n",
       "2               1                   1  \n",
       "3               1                   0  \n",
       "4               1                   0  "
      ]
     },
     "execution_count": 19,
     "metadata": {},
     "output_type": "execute_result"
    }
   ],
   "source": [
    "df.head()"
   ]
  },
  {
   "cell_type": "markdown",
   "metadata": {},
   "source": [
    "# B) Percentage Change technique:\n",
    "##         \n",
    "## 1)Same day approach :"
   ]
  },
  {
   "cell_type": "code",
   "execution_count": 20,
   "metadata": {},
   "outputs": [
    {
     "name": "stderr",
     "output_type": "stream",
     "text": [
      "C:\\Users\\Hadeel\\Anaconda3\\lib\\site-packages\\ipykernel_launcher.py:3: SettingWithCopyWarning: \n",
      "A value is trying to be set on a copy of a slice from a DataFrame\n",
      "\n",
      "See the caveats in the documentation: http://pandas.pydata.org/pandas-docs/stable/user_guide/indexing.html#returning-a-view-versus-a-copy\n",
      "  This is separate from the ipykernel package so we can avoid doing imports until\n"
     ]
    }
   ],
   "source": [
    "df['SameDay_Percentage']=0.0\n",
    "for i in range(183):\n",
    "    df['SameDay_Percentage'][i]=((df['Close/Last'][i]-df['Open'][i])/df['Open'][i])*100"
   ]
  },
  {
   "cell_type": "markdown",
   "metadata": {},
   "source": [
    "## 2) Previous day percentage :"
   ]
  },
  {
   "cell_type": "code",
   "execution_count": 21,
   "metadata": {
    "scrolled": true
   },
   "outputs": [
    {
     "name": "stderr",
     "output_type": "stream",
     "text": [
      "C:\\Users\\Hadeel\\Anaconda3\\lib\\site-packages\\ipykernel_launcher.py:6: SettingWithCopyWarning: \n",
      "A value is trying to be set on a copy of a slice from a DataFrame\n",
      "\n",
      "See the caveats in the documentation: http://pandas.pydata.org/pandas-docs/stable/user_guide/indexing.html#returning-a-view-versus-a-copy\n",
      "  \n",
      "C:\\Users\\Hadeel\\Anaconda3\\lib\\site-packages\\ipykernel_launcher.py:4: SettingWithCopyWarning: \n",
      "A value is trying to be set on a copy of a slice from a DataFrame\n",
      "\n",
      "See the caveats in the documentation: http://pandas.pydata.org/pandas-docs/stable/user_guide/indexing.html#returning-a-view-versus-a-copy\n",
      "  after removing the cwd from sys.path.\n"
     ]
    }
   ],
   "source": [
    "df['PreviousDay_Percentage']=0.0\n",
    "for i in range(183):\n",
    "    try:\n",
    "        df['PreviousDay_Percentage'][i]=(((df['Close/Last'][i]-df['Open'][i-1])/df['Open'][i-1])*100)\n",
    "    except KeyError:\n",
    "        df['PreviousDay_Percentage'][i]=(((df['Close/Last'][i]-np.mean(df['Open']))/np.mean(df['Open']))*100)\n",
    "        "
   ]
  },
  {
   "cell_type": "markdown",
   "metadata": {},
   "source": [
    "### retult:"
   ]
  },
  {
   "cell_type": "code",
   "execution_count": 22,
   "metadata": {},
   "outputs": [
    {
     "data": {
      "text/html": [
       "<div>\n",
       "<style scoped>\n",
       "    .dataframe tbody tr th:only-of-type {\n",
       "        vertical-align: middle;\n",
       "    }\n",
       "\n",
       "    .dataframe tbody tr th {\n",
       "        vertical-align: top;\n",
       "    }\n",
       "\n",
       "    .dataframe thead th {\n",
       "        text-align: right;\n",
       "    }\n",
       "</style>\n",
       "<table border=\"1\" class=\"dataframe\">\n",
       "  <thead>\n",
       "    <tr style=\"text-align: right;\">\n",
       "      <th></th>\n",
       "      <th>Date</th>\n",
       "      <th>Close/Last</th>\n",
       "      <th>Volume</th>\n",
       "      <th>Open</th>\n",
       "      <th>High</th>\n",
       "      <th>Low</th>\n",
       "      <th>SameDay_Binary</th>\n",
       "      <th>PreviousDay_Binary</th>\n",
       "      <th>SameDay_Percentage</th>\n",
       "      <th>PreviousDay_Percentage</th>\n",
       "    </tr>\n",
       "  </thead>\n",
       "  <tbody>\n",
       "    <tr>\n",
       "      <td>0</td>\n",
       "      <td>2021-04-07</td>\n",
       "      <td>134.93</td>\n",
       "      <td>2976136.0</td>\n",
       "      <td>133.8400</td>\n",
       "      <td>134.9400</td>\n",
       "      <td>133.780</td>\n",
       "      <td>1</td>\n",
       "      <td>0</td>\n",
       "      <td>0.814405</td>\n",
       "      <td>-3.004140</td>\n",
       "    </tr>\n",
       "    <tr>\n",
       "      <td>1</td>\n",
       "      <td>2021-04-08</td>\n",
       "      <td>135.12</td>\n",
       "      <td>4087228.0</td>\n",
       "      <td>134.5700</td>\n",
       "      <td>135.6299</td>\n",
       "      <td>134.160</td>\n",
       "      <td>1</td>\n",
       "      <td>1</td>\n",
       "      <td>0.408709</td>\n",
       "      <td>0.956366</td>\n",
       "    </tr>\n",
       "    <tr>\n",
       "      <td>2</td>\n",
       "      <td>2021-04-09</td>\n",
       "      <td>135.73</td>\n",
       "      <td>3023916.0</td>\n",
       "      <td>134.8700</td>\n",
       "      <td>135.7400</td>\n",
       "      <td>134.710</td>\n",
       "      <td>1</td>\n",
       "      <td>1</td>\n",
       "      <td>0.637651</td>\n",
       "      <td>0.862005</td>\n",
       "    </tr>\n",
       "    <tr>\n",
       "      <td>3</td>\n",
       "      <td>2021-04-10</td>\n",
       "      <td>133.61</td>\n",
       "      <td>4811004.0</td>\n",
       "      <td>133.1625</td>\n",
       "      <td>134.0750</td>\n",
       "      <td>132.185</td>\n",
       "      <td>1</td>\n",
       "      <td>0</td>\n",
       "      <td>0.336056</td>\n",
       "      <td>-0.934233</td>\n",
       "    </tr>\n",
       "    <tr>\n",
       "      <td>4</td>\n",
       "      <td>2021-04-11</td>\n",
       "      <td>133.61</td>\n",
       "      <td>4811004.0</td>\n",
       "      <td>133.1625</td>\n",
       "      <td>134.0750</td>\n",
       "      <td>132.185</td>\n",
       "      <td>1</td>\n",
       "      <td>0</td>\n",
       "      <td>0.336056</td>\n",
       "      <td>0.336056</td>\n",
       "    </tr>\n",
       "    <tr>\n",
       "      <td>5</td>\n",
       "      <td>2021-04-12</td>\n",
       "      <td>134.59</td>\n",
       "      <td>3753959.0</td>\n",
       "      <td>135.0200</td>\n",
       "      <td>135.3700</td>\n",
       "      <td>133.850</td>\n",
       "      <td>0</td>\n",
       "      <td>1</td>\n",
       "      <td>-0.318471</td>\n",
       "      <td>1.071998</td>\n",
       "    </tr>\n",
       "    <tr>\n",
       "      <td>6</td>\n",
       "      <td>2021-04-13</td>\n",
       "      <td>131.18</td>\n",
       "      <td>8033530.0</td>\n",
       "      <td>133.0000</td>\n",
       "      <td>133.6200</td>\n",
       "      <td>130.380</td>\n",
       "      <td>0</td>\n",
       "      <td>0</td>\n",
       "      <td>-1.368421</td>\n",
       "      <td>-2.844023</td>\n",
       "    </tr>\n",
       "    <tr>\n",
       "      <td>7</td>\n",
       "      <td>2021-04-14</td>\n",
       "      <td>132.63</td>\n",
       "      <td>5868049.0</td>\n",
       "      <td>131.3050</td>\n",
       "      <td>132.7800</td>\n",
       "      <td>130.520</td>\n",
       "      <td>1</td>\n",
       "      <td>1</td>\n",
       "      <td>1.009101</td>\n",
       "      <td>-0.278195</td>\n",
       "    </tr>\n",
       "    <tr>\n",
       "      <td>8</td>\n",
       "      <td>2021-04-15</td>\n",
       "      <td>132.58</td>\n",
       "      <td>3883955.0</td>\n",
       "      <td>133.2800</td>\n",
       "      <td>133.8700</td>\n",
       "      <td>132.220</td>\n",
       "      <td>0</td>\n",
       "      <td>0</td>\n",
       "      <td>-0.525210</td>\n",
       "      <td>0.971022</td>\n",
       "    </tr>\n",
       "    <tr>\n",
       "      <td>9</td>\n",
       "      <td>2021-04-16</td>\n",
       "      <td>133.59</td>\n",
       "      <td>5291756.0</td>\n",
       "      <td>133.0000</td>\n",
       "      <td>134.1000</td>\n",
       "      <td>132.950</td>\n",
       "      <td>1</td>\n",
       "      <td>1</td>\n",
       "      <td>0.443609</td>\n",
       "      <td>0.232593</td>\n",
       "    </tr>\n",
       "  </tbody>\n",
       "</table>\n",
       "</div>"
      ],
      "text/plain": [
       "         Date  Close/Last     Volume      Open      High      Low  \\\n",
       "0  2021-04-07      134.93  2976136.0  133.8400  134.9400  133.780   \n",
       "1  2021-04-08      135.12  4087228.0  134.5700  135.6299  134.160   \n",
       "2  2021-04-09      135.73  3023916.0  134.8700  135.7400  134.710   \n",
       "3  2021-04-10      133.61  4811004.0  133.1625  134.0750  132.185   \n",
       "4  2021-04-11      133.61  4811004.0  133.1625  134.0750  132.185   \n",
       "5  2021-04-12      134.59  3753959.0  135.0200  135.3700  133.850   \n",
       "6  2021-04-13      131.18  8033530.0  133.0000  133.6200  130.380   \n",
       "7  2021-04-14      132.63  5868049.0  131.3050  132.7800  130.520   \n",
       "8  2021-04-15      132.58  3883955.0  133.2800  133.8700  132.220   \n",
       "9  2021-04-16      133.59  5291756.0  133.0000  134.1000  132.950   \n",
       "\n",
       "   SameDay_Binary  PreviousDay_Binary  SameDay_Percentage  \\\n",
       "0               1                   0            0.814405   \n",
       "1               1                   1            0.408709   \n",
       "2               1                   1            0.637651   \n",
       "3               1                   0            0.336056   \n",
       "4               1                   0            0.336056   \n",
       "5               0                   1           -0.318471   \n",
       "6               0                   0           -1.368421   \n",
       "7               1                   1            1.009101   \n",
       "8               0                   0           -0.525210   \n",
       "9               1                   1            0.443609   \n",
       "\n",
       "   PreviousDay_Percentage  \n",
       "0               -3.004140  \n",
       "1                0.956366  \n",
       "2                0.862005  \n",
       "3               -0.934233  \n",
       "4                0.336056  \n",
       "5                1.071998  \n",
       "6               -2.844023  \n",
       "7               -0.278195  \n",
       "8                0.971022  \n",
       "9                0.232593  "
      ]
     },
     "execution_count": 22,
     "metadata": {},
     "output_type": "execute_result"
    }
   ],
   "source": [
    "df.head(10)"
   ]
  },
  {
   "cell_type": "markdown",
   "metadata": {},
   "source": [
    "### mapping to (0,1,-1):"
   ]
  },
  {
   "cell_type": "code",
   "execution_count": 23,
   "metadata": {},
   "outputs": [],
   "source": [
    "df.loc[df['SameDay_Percentage'] > 0.5,'SameDay_Percentage']=1\n",
    "df.loc[df['SameDay_Percentage'] < -0.5,'SameDay_Percentage']=-1\n",
    "df['SameDay_Percentage']=np.where(((df['SameDay_Percentage'] >= -0.5))&(df['SameDay_Percentage'] <=0.5),0,df['SameDay_Percentage'])\n",
    "df.loc[df['PreviousDay_Percentage'] > 0.5,'PreviousDay_Percentage']=1\n",
    "df.loc[df['PreviousDay_Percentage'] < -0.5,'PreviousDay_Percentage']=-1\n",
    "df['PreviousDay_Percentage']=np.where(((df['PreviousDay_Percentage'] >= -0.5))&(df['PreviousDay_Percentage'] <=0.5),0,df['PreviousDay_Percentage'])"
   ]
  },
  {
   "cell_type": "code",
   "execution_count": 24,
   "metadata": {},
   "outputs": [],
   "source": [
    "df['PreviousDay_Percentage'] = df['PreviousDay_Percentage'].apply(int)\n",
    "df['SameDay_Percentage'] = df['SameDay_Percentage'].apply(int)\n"
   ]
  },
  {
   "cell_type": "code",
   "execution_count": 25,
   "metadata": {},
   "outputs": [],
   "source": [
    "df.drop([172,173,174,175,176,177,178,179,180,181,182],axis=0,inplace=True)"
   ]
  },
  {
   "cell_type": "markdown",
   "metadata": {},
   "source": [
    "# Saving processed and labeled dataframe to csv file for modeling purpose :"
   ]
  },
  {
   "cell_type": "code",
   "execution_count": 26,
   "metadata": {},
   "outputs": [],
   "source": [
    "df.to_csv('IBM_modeling_data.csv')"
   ]
  }
 ],
 "metadata": {
  "kernelspec": {
   "display_name": "Python 3",
   "language": "python",
   "name": "python3"
  },
  "language_info": {
   "codemirror_mode": {
    "name": "ipython",
    "version": 3
   },
   "file_extension": ".py",
   "mimetype": "text/x-python",
   "name": "python",
   "nbconvert_exporter": "python",
   "pygments_lexer": "ipython3",
   "version": "3.7.4"
  }
 },
 "nbformat": 4,
 "nbformat_minor": 2
}
