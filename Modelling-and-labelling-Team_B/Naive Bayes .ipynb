{
 "cells": [
  {
   "cell_type": "markdown",
   "metadata": {},
   "source": [
    "<h1 style=\"text-align:center;color:blue\"> Prediction With Naive Bayes Algorithm</h1>\n"
   ]
  },
  {
   "cell_type": "markdown",
   "metadata": {},
   "source": [
    "###  Importing Libraries"
   ]
  },
  {
   "cell_type": "code",
   "execution_count": 17,
   "metadata": {},
   "outputs": [],
   "source": [
    "import pandas as pd\n",
    "from sklearn.model_selection import train_test_split\n",
    "from sklearn.naive_bayes import GaussianNB\n",
    "from sklearn.metrics import confusion_matrix\n",
    "from sklearn.metrics import classification_report"
   ]
  },
  {
   "cell_type": "markdown",
   "metadata": {},
   "source": [
    "###  Importing Datasets"
   ]
  },
  {
   "cell_type": "code",
   "execution_count": 18,
   "metadata": {},
   "outputs": [],
   "source": [
    "AAPL_df=pd.read_csv('Labeled_Data_modeling/AAPL_modeling_data.csv',index_col = 0)\n",
    "AMZN_df=pd.read_csv('Labeled_Data_modeling/AMZN_modeling_data.csv',index_col = 0)\n",
    "IBM_df=pd.read_csv('Labeled_Data_modeling/IBM_modeling_data.csv',index_col = 0)\n",
    "MSFT_df=pd.read_csv('Labeled_Data_modeling/MSFT_modeling_data.csv',index_col = 0)\n",
    "TSLA_df=pd.read_csv('Labeled_Data_modeling/TSLA_modeling_data.csv',index_col = 0)\n"
   ]
  },
  {
   "cell_type": "markdown",
   "metadata": {},
   "source": [
    "<h1 style=\"text-align:center;color:red\"> APPLE</h1>"
   ]
  },
  {
   "cell_type": "code",
   "execution_count": 3,
   "metadata": {
    "scrolled": true
   },
   "outputs": [
    {
     "data": {
      "text/html": [
       "<div>\n",
       "<style scoped>\n",
       "    .dataframe tbody tr th:only-of-type {\n",
       "        vertical-align: middle;\n",
       "    }\n",
       "\n",
       "    .dataframe tbody tr th {\n",
       "        vertical-align: top;\n",
       "    }\n",
       "\n",
       "    .dataframe thead th {\n",
       "        text-align: right;\n",
       "    }\n",
       "</style>\n",
       "<table border=\"1\" class=\"dataframe\">\n",
       "  <thead>\n",
       "    <tr style=\"text-align: right;\">\n",
       "      <th></th>\n",
       "      <th>Date</th>\n",
       "      <th>Close/Last</th>\n",
       "      <th>Volume</th>\n",
       "      <th>Open</th>\n",
       "      <th>High</th>\n",
       "      <th>Low</th>\n",
       "      <th>SameDay_Binary</th>\n",
       "      <th>PreviousDay_Binary</th>\n",
       "      <th>SameDay_Percentage</th>\n",
       "      <th>PreviousDay_Percentage</th>\n",
       "    </tr>\n",
       "  </thead>\n",
       "  <tbody>\n",
       "    <tr>\n",
       "      <td>0</td>\n",
       "      <td>2021-04-07</td>\n",
       "      <td>127.900</td>\n",
       "      <td>83466720.0</td>\n",
       "      <td>125.83</td>\n",
       "      <td>127.920</td>\n",
       "      <td>125.1400</td>\n",
       "      <td>1</td>\n",
       "      <td>0</td>\n",
       "      <td>1</td>\n",
       "      <td>-1</td>\n",
       "    </tr>\n",
       "    <tr>\n",
       "      <td>1</td>\n",
       "      <td>2021-04-08</td>\n",
       "      <td>130.360</td>\n",
       "      <td>88844590.0</td>\n",
       "      <td>128.95</td>\n",
       "      <td>130.390</td>\n",
       "      <td>128.5200</td>\n",
       "      <td>1</td>\n",
       "      <td>1</td>\n",
       "      <td>1</td>\n",
       "      <td>1</td>\n",
       "    </tr>\n",
       "    <tr>\n",
       "      <td>2</td>\n",
       "      <td>2021-04-09</td>\n",
       "      <td>132.995</td>\n",
       "      <td>106686700.0</td>\n",
       "      <td>129.80</td>\n",
       "      <td>133.040</td>\n",
       "      <td>129.4700</td>\n",
       "      <td>1</td>\n",
       "      <td>1</td>\n",
       "      <td>1</td>\n",
       "      <td>1</td>\n",
       "    </tr>\n",
       "    <tr>\n",
       "      <td>3</td>\n",
       "      <td>2021-04-10</td>\n",
       "      <td>131.635</td>\n",
       "      <td>89321380.0</td>\n",
       "      <td>133.73</td>\n",
       "      <td>133.925</td>\n",
       "      <td>131.1425</td>\n",
       "      <td>0</td>\n",
       "      <td>0</td>\n",
       "      <td>-1</td>\n",
       "      <td>1</td>\n",
       "    </tr>\n",
       "    <tr>\n",
       "      <td>4</td>\n",
       "      <td>2021-04-11</td>\n",
       "      <td>131.635</td>\n",
       "      <td>89321380.0</td>\n",
       "      <td>133.73</td>\n",
       "      <td>133.925</td>\n",
       "      <td>131.1425</td>\n",
       "      <td>0</td>\n",
       "      <td>0</td>\n",
       "      <td>-1</td>\n",
       "      <td>-1</td>\n",
       "    </tr>\n",
       "  </tbody>\n",
       "</table>\n",
       "</div>"
      ],
      "text/plain": [
       "         Date  Close/Last       Volume    Open     High       Low  \\\n",
       "0  2021-04-07     127.900   83466720.0  125.83  127.920  125.1400   \n",
       "1  2021-04-08     130.360   88844590.0  128.95  130.390  128.5200   \n",
       "2  2021-04-09     132.995  106686700.0  129.80  133.040  129.4700   \n",
       "3  2021-04-10     131.635   89321380.0  133.73  133.925  131.1425   \n",
       "4  2021-04-11     131.635   89321380.0  133.73  133.925  131.1425   \n",
       "\n",
       "   SameDay_Binary  PreviousDay_Binary  SameDay_Percentage  \\\n",
       "0               1                   0                   1   \n",
       "1               1                   1                   1   \n",
       "2               1                   1                   1   \n",
       "3               0                   0                  -1   \n",
       "4               0                   0                  -1   \n",
       "\n",
       "   PreviousDay_Percentage  \n",
       "0                      -1  \n",
       "1                       1  \n",
       "2                       1  \n",
       "3                       1  \n",
       "4                      -1  "
      ]
     },
     "execution_count": 3,
     "metadata": {},
     "output_type": "execute_result"
    }
   ],
   "source": [
    "AAPL_df.head()"
   ]
  },
  {
   "cell_type": "code",
   "execution_count": 4,
   "metadata": {},
   "outputs": [
    {
     "data": {
      "text/plain": [
       "(172, 10)"
      ]
     },
     "execution_count": 4,
     "metadata": {},
     "output_type": "execute_result"
    }
   ],
   "source": [
    "AAPL_df.shape"
   ]
  },
  {
   "cell_type": "code",
   "execution_count": 5,
   "metadata": {},
   "outputs": [],
   "source": [
    "AAPL_df[\"day\"] = AAPL_df['Date'].map(lambda x: pd.to_datetime(x).day)\n",
    "AAPL_df[\"month\"] = AAPL_df['Date'].map(lambda x: pd.to_datetime(x).month)\n",
    "AAPL_df[\"year\"] = AAPL_df['Date'].map(lambda x: pd.to_datetime(x).year)"
   ]
  },
  {
   "cell_type": "code",
   "execution_count": 6,
   "metadata": {},
   "outputs": [
    {
     "data": {
      "text/html": [
       "<div>\n",
       "<style scoped>\n",
       "    .dataframe tbody tr th:only-of-type {\n",
       "        vertical-align: middle;\n",
       "    }\n",
       "\n",
       "    .dataframe tbody tr th {\n",
       "        vertical-align: top;\n",
       "    }\n",
       "\n",
       "    .dataframe thead th {\n",
       "        text-align: right;\n",
       "    }\n",
       "</style>\n",
       "<table border=\"1\" class=\"dataframe\">\n",
       "  <thead>\n",
       "    <tr style=\"text-align: right;\">\n",
       "      <th></th>\n",
       "      <th>Date</th>\n",
       "      <th>Close/Last</th>\n",
       "      <th>Volume</th>\n",
       "      <th>Open</th>\n",
       "      <th>High</th>\n",
       "      <th>Low</th>\n",
       "      <th>SameDay_Binary</th>\n",
       "      <th>PreviousDay_Binary</th>\n",
       "      <th>SameDay_Percentage</th>\n",
       "      <th>PreviousDay_Percentage</th>\n",
       "      <th>day</th>\n",
       "      <th>month</th>\n",
       "      <th>year</th>\n",
       "    </tr>\n",
       "  </thead>\n",
       "  <tbody>\n",
       "    <tr>\n",
       "      <td>0</td>\n",
       "      <td>2021-04-07</td>\n",
       "      <td>127.900</td>\n",
       "      <td>83466720.0</td>\n",
       "      <td>125.83</td>\n",
       "      <td>127.920</td>\n",
       "      <td>125.1400</td>\n",
       "      <td>1</td>\n",
       "      <td>0</td>\n",
       "      <td>1</td>\n",
       "      <td>-1</td>\n",
       "      <td>7</td>\n",
       "      <td>4</td>\n",
       "      <td>2021</td>\n",
       "    </tr>\n",
       "    <tr>\n",
       "      <td>1</td>\n",
       "      <td>2021-04-08</td>\n",
       "      <td>130.360</td>\n",
       "      <td>88844590.0</td>\n",
       "      <td>128.95</td>\n",
       "      <td>130.390</td>\n",
       "      <td>128.5200</td>\n",
       "      <td>1</td>\n",
       "      <td>1</td>\n",
       "      <td>1</td>\n",
       "      <td>1</td>\n",
       "      <td>8</td>\n",
       "      <td>4</td>\n",
       "      <td>2021</td>\n",
       "    </tr>\n",
       "    <tr>\n",
       "      <td>2</td>\n",
       "      <td>2021-04-09</td>\n",
       "      <td>132.995</td>\n",
       "      <td>106686700.0</td>\n",
       "      <td>129.80</td>\n",
       "      <td>133.040</td>\n",
       "      <td>129.4700</td>\n",
       "      <td>1</td>\n",
       "      <td>1</td>\n",
       "      <td>1</td>\n",
       "      <td>1</td>\n",
       "      <td>9</td>\n",
       "      <td>4</td>\n",
       "      <td>2021</td>\n",
       "    </tr>\n",
       "    <tr>\n",
       "      <td>3</td>\n",
       "      <td>2021-04-10</td>\n",
       "      <td>131.635</td>\n",
       "      <td>89321380.0</td>\n",
       "      <td>133.73</td>\n",
       "      <td>133.925</td>\n",
       "      <td>131.1425</td>\n",
       "      <td>0</td>\n",
       "      <td>0</td>\n",
       "      <td>-1</td>\n",
       "      <td>1</td>\n",
       "      <td>10</td>\n",
       "      <td>4</td>\n",
       "      <td>2021</td>\n",
       "    </tr>\n",
       "    <tr>\n",
       "      <td>4</td>\n",
       "      <td>2021-04-11</td>\n",
       "      <td>131.635</td>\n",
       "      <td>89321380.0</td>\n",
       "      <td>133.73</td>\n",
       "      <td>133.925</td>\n",
       "      <td>131.1425</td>\n",
       "      <td>0</td>\n",
       "      <td>0</td>\n",
       "      <td>-1</td>\n",
       "      <td>-1</td>\n",
       "      <td>11</td>\n",
       "      <td>4</td>\n",
       "      <td>2021</td>\n",
       "    </tr>\n",
       "  </tbody>\n",
       "</table>\n",
       "</div>"
      ],
      "text/plain": [
       "         Date  Close/Last       Volume    Open     High       Low  \\\n",
       "0  2021-04-07     127.900   83466720.0  125.83  127.920  125.1400   \n",
       "1  2021-04-08     130.360   88844590.0  128.95  130.390  128.5200   \n",
       "2  2021-04-09     132.995  106686700.0  129.80  133.040  129.4700   \n",
       "3  2021-04-10     131.635   89321380.0  133.73  133.925  131.1425   \n",
       "4  2021-04-11     131.635   89321380.0  133.73  133.925  131.1425   \n",
       "\n",
       "   SameDay_Binary  PreviousDay_Binary  SameDay_Percentage  \\\n",
       "0               1                   0                   1   \n",
       "1               1                   1                   1   \n",
       "2               1                   1                   1   \n",
       "3               0                   0                  -1   \n",
       "4               0                   0                  -1   \n",
       "\n",
       "   PreviousDay_Percentage  day  month  year  \n",
       "0                      -1    7      4  2021  \n",
       "1                       1    8      4  2021  \n",
       "2                       1    9      4  2021  \n",
       "3                       1   10      4  2021  \n",
       "4                      -1   11      4  2021  "
      ]
     },
     "execution_count": 6,
     "metadata": {},
     "output_type": "execute_result"
    }
   ],
   "source": [
    "AAPL_df.head()"
   ]
  },
  {
   "cell_type": "code",
   "execution_count": 7,
   "metadata": {},
   "outputs": [],
   "source": [
    "AAPL_X_classification=AAPL_df[['day','month']]\n",
    "AAPL_X_regression=AAPL_df.drop([\"Open\",\"Close/Last\",\"SameDay_Binary\",\"PreviousDay_Binary\",\"SameDay_Percentage\",\"PreviousDay_Percentage\",\"year\",\"Date\"],axis =1 )\n",
    "AAPL_Y_Binary_sameDay = AAPL_df[\"SameDay_Binary\"]\n",
    "AAPL_Y_Binary_previousDay = AAPL_df[\"PreviousDay_Binary\"]\n",
    "AAPL_Y_Percentage_sameDay = AAPL_df[\"SameDay_Percentage\"]\n",
    "AAPL_Y_Percentage_previousDay = AAPL_df[\"PreviousDay_Percentage\"]"
   ]
  },
  {
   "cell_type": "code",
   "execution_count": 8,
   "metadata": {},
   "outputs": [
    {
     "name": "stdout",
     "output_type": "stream",
     "text": [
      "Classification\n",
      "   day  month\n",
      "0    7      4\n",
      "\n",
      "Regression\n",
      "       Volume    High     Low  day  month\n",
      "0  83466720.0  127.92  125.14    7      4\n",
      "\n",
      "Binary Same day\n",
      "0    1\n",
      "Name: SameDay_Binary, dtype: int64\n",
      "\n",
      "Binary Previous Day\n",
      "0    0\n",
      "Name: PreviousDay_Binary, dtype: int64\n",
      "\n",
      "Percentage Same Day\n",
      "0    1\n",
      "Name: SameDay_Percentage, dtype: int64\n",
      "\n",
      "Percentage Previous Day\n",
      "0   -1\n",
      "Name: PreviousDay_Percentage, dtype: int64\n"
     ]
    }
   ],
   "source": [
    "print(\"Classification\")\n",
    "print(AAPL_X_classification.head(1))\n",
    "print()\n",
    "print(\"Regression\")\n",
    "print(AAPL_X_regression.head(1))\n",
    "print()\n",
    "print(\"Binary Same day\")\n",
    "print(AAPL_Y_Binary_sameDay.head(1))\n",
    "print()\n",
    "print(\"Binary Previous Day\")\n",
    "print(AAPL_Y_Binary_previousDay.head(1))\n",
    "print()\n",
    "print(\"Percentage Same Day\")\n",
    "print(AAPL_Y_Percentage_sameDay.head(1))\n",
    "print()\n",
    "print(\"Percentage Previous Day\")\n",
    "print(AAPL_Y_Percentage_previousDay.head(1))"
   ]
  },
  {
   "cell_type": "code",
   "execution_count": 9,
   "metadata": {},
   "outputs": [
    {
     "data": {
      "text/plain": [
       "Date                      0\n",
       "Close/Last                0\n",
       "Volume                    0\n",
       "Open                      0\n",
       "High                      0\n",
       "Low                       0\n",
       "SameDay_Binary            0\n",
       "PreviousDay_Binary        0\n",
       "SameDay_Percentage        0\n",
       "PreviousDay_Percentage    0\n",
       "day                       0\n",
       "month                     0\n",
       "year                      0\n",
       "dtype: int64"
      ]
     },
     "execution_count": 9,
     "metadata": {},
     "output_type": "execute_result"
    }
   ],
   "source": [
    "AAPL_df.isna().sum()"
   ]
  },
  {
   "cell_type": "code",
   "execution_count": 10,
   "metadata": {},
   "outputs": [
    {
     "data": {
      "text/plain": [
       "Date                      0\n",
       "Close/Last                0\n",
       "Volume                    0\n",
       "Open                      0\n",
       "High                      0\n",
       "Low                       0\n",
       "SameDay_Binary            0\n",
       "PreviousDay_Binary        0\n",
       "SameDay_Percentage        0\n",
       "PreviousDay_Percentage    0\n",
       "day                       0\n",
       "month                     0\n",
       "year                      0\n",
       "dtype: int64"
      ]
     },
     "execution_count": 10,
     "metadata": {},
     "output_type": "execute_result"
    }
   ],
   "source": [
    "AAPL_df.isnull().sum()"
   ]
  },
  {
   "cell_type": "code",
   "execution_count": 11,
   "metadata": {},
   "outputs": [],
   "source": [
    "AAPL_X_classification_sameDay_train, AAPL_X_classification_sameDay_test, AAPL_Y_Binary_sameDay_train,AAPL_Y_Binary_sameDay_test = train_test_split(AAPL_X_classification, AAPL_Y_Binary_sameDay, test_size=0.2, random_state=2)"
   ]
  },
  {
   "cell_type": "code",
   "execution_count": 12,
   "metadata": {},
   "outputs": [],
   "source": [
    "AAPL_X_classification_previousDay_train, AAPL_X_classification_previousDay_test, AAPL_Y_Binary_previousDay_train,AAPL_Y_Binary_previousDay_test = train_test_split(AAPL_X_classification, AAPL_Y_Binary_previousDay, test_size=0.2, random_state=2)"
   ]
  },
  {
   "cell_type": "code",
   "execution_count": 13,
   "metadata": {},
   "outputs": [],
   "source": [
    "AAPL_X_regression_sameday_train, AAPL_X_regression_sameday_test, AAPL_Y_Percentage_sameDay_train, AAPL_Y_Percentage_sameDay_test = train_test_split(AAPL_X_regression, AAPL_Y_Percentage_sameDay, test_size=0.30, random_state=2)"
   ]
  },
  {
   "cell_type": "code",
   "execution_count": 14,
   "metadata": {},
   "outputs": [],
   "source": [
    "AAPL_X_regression_previousday_train, AAPL_X_regression_previousday_test, AAPL_Y_Percentage_previousDay_train, AAPL_Y_Percentage_previousDay_test = train_test_split(AAPL_X_regression, AAPL_Y_Percentage_previousDay, test_size=0.30, random_state=2)"
   ]
  },
  {
   "cell_type": "markdown",
   "metadata": {},
   "source": [
    "### Naive Bayes on Apple Dataset"
   ]
  },
  {
   "cell_type": "markdown",
   "metadata": {},
   "source": [
    "#### Prediction On Same Day Approach"
   ]
  },
  {
   "cell_type": "code",
   "execution_count": 17,
   "metadata": {},
   "outputs": [],
   "source": [
    "AAPL_sameDay_model = GaussianNB()\n",
    "AAPL_sameDay_model.fit(AAPL_X_classification_sameDay_train,AAPL_Y_Binary_sameDay_train)\n",
    "AAPL_sameDay_pred = AAPL_sameDay_model.predict(AAPL_X_classification_sameDay_test)"
   ]
  },
  {
   "cell_type": "markdown",
   "metadata": {},
   "source": [
    "#### Accuracy for same day approach"
   ]
  },
  {
   "cell_type": "code",
   "execution_count": 18,
   "metadata": {},
   "outputs": [
    {
     "name": "stdout",
     "output_type": "stream",
     "text": [
      "Accuray Score:  0.6571428571428571\n"
     ]
    }
   ],
   "source": [
    "print(\"Accuray Score: \",AAPL_sameDay_model.score(AAPL_X_classification_sameDay_test,AAPL_Y_Binary_sameDay_test))"
   ]
  },
  {
   "cell_type": "markdown",
   "metadata": {},
   "source": [
    "#### Confusion Matrix For Same Day"
   ]
  },
  {
   "cell_type": "code",
   "execution_count": 20,
   "metadata": {},
   "outputs": [
    {
     "name": "stdout",
     "output_type": "stream",
     "text": [
      "Confusion Matrix: \n",
      " [[23  0]\n",
      " [12  0]]\n",
      "\n",
      "\n",
      "Classification Report For Same day: \n",
      "               precision    recall  f1-score   support\n",
      "\n",
      "           0       0.66      1.00      0.79        23\n",
      "           1       0.00      0.00      0.00        12\n",
      "\n",
      "    accuracy                           0.66        35\n",
      "   macro avg       0.33      0.50      0.40        35\n",
      "weighted avg       0.43      0.66      0.52        35\n",
      "\n"
     ]
    },
    {
     "name": "stderr",
     "output_type": "stream",
     "text": [
      "C:\\Users\\Hadeel\\Anaconda3\\lib\\site-packages\\sklearn\\metrics\\classification.py:1437: UndefinedMetricWarning: Precision and F-score are ill-defined and being set to 0.0 in labels with no predicted samples.\n",
      "  'precision', 'predicted', average, warn_for)\n"
     ]
    }
   ],
   "source": [
    "print(\"Confusion Matrix: \\n\",confusion_matrix(AAPL_Y_Binary_sameDay_test, AAPL_sameDay_pred))\n",
    "print(\"\\n\")\n",
    "# Classification Report\n",
    "matrix = classification_report(AAPL_Y_Binary_sameDay_test, AAPL_sameDay_pred)\n",
    "print(\"Classification Report For Same day: \\n\",matrix)"
   ]
  },
  {
   "cell_type": "code",
   "execution_count": 22,
   "metadata": {},
   "outputs": [
    {
     "data": {
      "text/plain": [
       "(23, 0, 12, 0)"
      ]
     },
     "execution_count": 22,
     "metadata": {},
     "output_type": "execute_result"
    }
   ],
   "source": [
    "#Extracting TN,FP,FN,TN\n",
    "AAPL_sameDay_TN,AAPL_sameDay_FP,AAPL_sameDay_FN,AAPL_sameDay_TP = confusion_matrix(AAPL_Y_Binary_sameDay_test, AAPL_sameDay_pred).ravel()\n",
    "(AAPL_sameDay_TN,AAPL_sameDay_FP,AAPL_sameDay_FN,AAPL_sameDay_TP)"
   ]
  },
  {
   "cell_type": "markdown",
   "metadata": {},
   "source": [
    "#### Accuracy For Same Day with Confusion Matrix"
   ]
  },
  {
   "cell_type": "code",
   "execution_count": 23,
   "metadata": {},
   "outputs": [
    {
     "data": {
      "text/plain": [
       "0.6571428571428571"
      ]
     },
     "execution_count": 23,
     "metadata": {},
     "output_type": "execute_result"
    }
   ],
   "source": [
    "(AAPL_sameDay_TP + AAPL_sameDay_TN)/len(AAPL_X_classification_sameDay_test)"
   ]
  },
  {
   "cell_type": "markdown",
   "metadata": {},
   "source": [
    "#### Prediction on Previous Day Approach "
   ]
  },
  {
   "cell_type": "code",
   "execution_count": 25,
   "metadata": {},
   "outputs": [],
   "source": [
    "AAPL_previousDay_model = GaussianNB()\n",
    "AAPL_previousDay_model.fit(AAPL_X_classification_previousDay_train,AAPL_Y_Binary_previousDay_train)\n",
    "AAPL_previousDay_pred = AAPL_previousDay_model.predict(AAPL_X_classification_previousDay_test)"
   ]
  },
  {
   "cell_type": "markdown",
   "metadata": {},
   "source": [
    "### Accuracy"
   ]
  },
  {
   "cell_type": "code",
   "execution_count": 26,
   "metadata": {},
   "outputs": [
    {
     "name": "stdout",
     "output_type": "stream",
     "text": [
      "The accuracy is:  0.5714285714285714\n"
     ]
    }
   ],
   "source": [
    "print(\"The accuracy is: \",AAPL_previousDay_model.score(AAPL_X_classification_previousDay_test,AAPL_Y_Binary_previousDay_test))"
   ]
  },
  {
   "cell_type": "markdown",
   "metadata": {},
   "source": [
    "#### Confusion Matrix For Previous Day"
   ]
  },
  {
   "cell_type": "code",
   "execution_count": 27,
   "metadata": {},
   "outputs": [
    {
     "name": "stdout",
     "output_type": "stream",
     "text": [
      "Confusion Matrix: \n",
      " [[16  6]\n",
      " [ 9  4]]\n",
      "\n",
      "\n",
      "Classification Report For Previous day: \n",
      "               precision    recall  f1-score   support\n",
      "\n",
      "           0       0.64      0.73      0.68        22\n",
      "           1       0.40      0.31      0.35        13\n",
      "\n",
      "    accuracy                           0.57        35\n",
      "   macro avg       0.52      0.52      0.51        35\n",
      "weighted avg       0.55      0.57      0.56        35\n",
      "\n"
     ]
    }
   ],
   "source": [
    "print(\"Confusion Matrix: \\n\",confusion_matrix(AAPL_Y_Binary_previousDay_test, AAPL_previousDay_pred))\n",
    "print(\"\\n\")\n",
    "# Classification Report\n",
    "matrix = classification_report(AAPL_Y_Binary_previousDay_test, AAPL_previousDay_pred)\n",
    "print(\"Classification Report For Previous day: \\n\",matrix)\n"
   ]
  },
  {
   "cell_type": "markdown",
   "metadata": {},
   "source": [
    "#### Conclusion\n",
    "Accuracy on the previous Day approach is higher"
   ]
  },
  {
   "cell_type": "code",
   "execution_count": 28,
   "metadata": {},
   "outputs": [
    {
     "name": "stderr",
     "output_type": "stream",
     "text": [
      "C:\\Users\\Hadeel\\Anaconda3\\lib\\site-packages\\sklearn\\externals\\joblib\\__init__.py:15: DeprecationWarning: sklearn.externals.joblib is deprecated in 0.21 and will be removed in 0.23. Please import this functionality directly from joblib, which can be installed with: pip install joblib. If this warning is raised when loading pickled models, you may need to re-serialize those models with scikit-learn 0.21+.\n",
      "  warnings.warn(msg, category=DeprecationWarning)\n"
     ]
    },
    {
     "data": {
      "text/plain": [
       "['AAPL_previousDay_model.pkl']"
      ]
     },
     "execution_count": 28,
     "metadata": {},
     "output_type": "execute_result"
    }
   ],
   "source": [
    "from sklearn.externals import joblib\n",
    "\n",
    "# Save the model as a pickle in a file\n",
    "joblib.dump(AAPL_sameDay_model, 'AAPL_sameDay_model.pkl')\n",
    "joblib.dump(AAPL_previousDay_model, 'AAPL_previousDay_model.pkl')\n",
    "# Load the model from the file\n",
    "#knn_from_joblib = joblib.load('filename.pkl')\n",
    "# Use the loaded model to make predictions\n",
    "#knn_from_joblib.predict(X_test)\n"
   ]
  },
  {
   "cell_type": "code",
   "execution_count": null,
   "metadata": {},
   "outputs": [],
   "source": []
  },
  {
   "cell_type": "markdown",
   "metadata": {},
   "source": [
    "<br><br>"
   ]
  },
  {
   "cell_type": "markdown",
   "metadata": {},
   "source": [
    "<h1 style=\"text-align:center;color:red\"> AMAZON</h1>"
   ]
  },
  {
   "cell_type": "code",
   "execution_count": 19,
   "metadata": {},
   "outputs": [],
   "source": [
    "AMZN_df[\"day\"] = AMZN_df['Date'].map(lambda x: pd.to_datetime(x).day)\n",
    "AMZN_df[\"month\"] = AMZN_df['Date'].map(lambda x: pd.to_datetime(x).month)\n",
    "AMZN_df[\"year\"] = AMZN_df['Date'].map(lambda x: pd.to_datetime(x).year)"
   ]
  },
  {
   "cell_type": "code",
   "execution_count": 20,
   "metadata": {},
   "outputs": [],
   "source": [
    "AMZN_X_classification=AMZN_df[['day','month']]\n",
    "AMZN_X_regression=AMZN_df.drop([\"Open\",\"Close/Last\",\"SameDay_Binary\",\"PreviousDay_Binary\",\"SameDay_Percentage\",\"PreviousDay_Percentage\",\"year\",\"Date\"],axis =1 )\n",
    "AMZN_Y_Binary_sameDay = AMZN_df[\"SameDay_Binary\"]\n",
    "AMZN_Y_Binary_previousDay = AMZN_df[\"PreviousDay_Binary\"]\n",
    "AMZN_Y_Percentage_sameDay = AMZN_df[\"SameDay_Percentage\"]\n",
    "AMZN_Y_Percentage_previousDay = AMZN_df[\"PreviousDay_Percentage\"]"
   ]
  },
  {
   "cell_type": "code",
   "execution_count": 21,
   "metadata": {},
   "outputs": [
    {
     "data": {
      "text/plain": [
       "Date                      0\n",
       "Close/Last                0\n",
       "Volume                    0\n",
       "Open                      0\n",
       "High                      0\n",
       "Low                       0\n",
       "SameDay_Binary            0\n",
       "PreviousDay_Binary        0\n",
       "SameDay_Percentage        0\n",
       "PreviousDay_Percentage    0\n",
       "day                       0\n",
       "month                     0\n",
       "year                      0\n",
       "dtype: int64"
      ]
     },
     "execution_count": 21,
     "metadata": {},
     "output_type": "execute_result"
    }
   ],
   "source": [
    "AMZN_df.isna().sum()"
   ]
  },
  {
   "cell_type": "code",
   "execution_count": 22,
   "metadata": {},
   "outputs": [],
   "source": [
    "AMZN_X_classification_sameDay_train, AMZN_X_classification_sameDay_test, AMZN_Y_Binary_sameDay_train, AMZN_Y_Binary_sameDay_test = train_test_split(AMZN_X_classification, AMZN_Y_Binary_sameDay, test_size=0.30, random_state=2)"
   ]
  },
  {
   "cell_type": "code",
   "execution_count": 23,
   "metadata": {},
   "outputs": [],
   "source": [
    "AMZN_X_classification_previousDay_train, AMZN_X_classification_previousDay_test, AMZN_Y_Binary_previousDay_train,AMZN_Y_Binary_previousDay_test = train_test_split(AMZN_X_classification, AMZN_Y_Binary_previousDay, test_size=0.30, random_state=2)"
   ]
  },
  {
   "cell_type": "code",
   "execution_count": 24,
   "metadata": {},
   "outputs": [],
   "source": [
    "AMZN_X_regression_sameday_train, AMZN_X_regression_sameday_test, AMZN_Y_Percentage_sameDay_train, AMZN_Y_Percentage_sameDay_test = train_test_split(AMZN_X_regression, AMZN_Y_Percentage_sameDay, test_size=0.30, random_state=2)"
   ]
  },
  {
   "cell_type": "code",
   "execution_count": 25,
   "metadata": {},
   "outputs": [],
   "source": [
    "AMZN_X_regression_previousday_train, AMZN_X_regression_previousday_test, AMZN_Y_Percentage_previousDay_train, AMZN_Y_Percentage_previousDay_test = train_test_split(AMZN_X_regression, AMZN_Y_Percentage_previousDay, test_size=0.30, random_state=2)"
   ]
  },
  {
   "cell_type": "markdown",
   "metadata": {},
   "source": [
    "### Naive Bayes on Amazon Dataset"
   ]
  },
  {
   "cell_type": "markdown",
   "metadata": {},
   "source": [
    "#### Prediction On Same Day Approach"
   ]
  },
  {
   "cell_type": "code",
   "execution_count": 26,
   "metadata": {},
   "outputs": [],
   "source": [
    "AMZN_sameDay_model = GaussianNB()\n",
    "AMZN_sameDay_model.fit(AMZN_X_classification_sameDay_train,AMZN_Y_Binary_sameDay_train)\n",
    "AMZN_sameDay_pred = AMZN_sameDay_model.predict(AMZN_X_classification_sameDay_test)"
   ]
  },
  {
   "cell_type": "markdown",
   "metadata": {},
   "source": [
    "#### Accuracy for same day approach"
   ]
  },
  {
   "cell_type": "code",
   "execution_count": 27,
   "metadata": {},
   "outputs": [
    {
     "name": "stdout",
     "output_type": "stream",
     "text": [
      "Accuray Score:  0.6923076923076923\n"
     ]
    }
   ],
   "source": [
    "print(\"Accuray Score: \",AMZN_sameDay_model.score(AMZN_X_classification_sameDay_test,AMZN_Y_Binary_sameDay_test))"
   ]
  },
  {
   "cell_type": "markdown",
   "metadata": {},
   "source": [
    "#### Confusion Matrix For Same Day"
   ]
  },
  {
   "cell_type": "code",
   "execution_count": 28,
   "metadata": {},
   "outputs": [
    {
     "name": "stdout",
     "output_type": "stream",
     "text": [
      "Confusion Matrix: \n",
      " [[36  0]\n",
      " [16  0]]\n",
      "\n",
      "\n",
      "Classification Report For Same day: \n",
      "               precision    recall  f1-score   support\n",
      "\n",
      "           0       0.69      1.00      0.82        36\n",
      "           1       0.00      0.00      0.00        16\n",
      "\n",
      "    accuracy                           0.69        52\n",
      "   macro avg       0.35      0.50      0.41        52\n",
      "weighted avg       0.48      0.69      0.57        52\n",
      "\n"
     ]
    },
    {
     "name": "stderr",
     "output_type": "stream",
     "text": [
      "C:\\Users\\Hadeel\\Anaconda3\\lib\\site-packages\\sklearn\\metrics\\classification.py:1437: UndefinedMetricWarning: Precision and F-score are ill-defined and being set to 0.0 in labels with no predicted samples.\n",
      "  'precision', 'predicted', average, warn_for)\n"
     ]
    }
   ],
   "source": [
    "print(\"Confusion Matrix: \\n\",confusion_matrix(AMZN_Y_Binary_sameDay_test, AMZN_sameDay_pred))\n",
    "print(\"\\n\")\n",
    "# Classification Report\n",
    "matrix = classification_report(AMZN_Y_Binary_sameDay_test, AMZN_sameDay_pred)\n",
    "print(\"Classification Report For Same day: \\n\",matrix)"
   ]
  },
  {
   "cell_type": "code",
   "execution_count": 29,
   "metadata": {},
   "outputs": [
    {
     "data": {
      "text/plain": [
       "(36, 0, 16, 0)"
      ]
     },
     "execution_count": 29,
     "metadata": {},
     "output_type": "execute_result"
    }
   ],
   "source": [
    "#Extracting TN,FP,FN,TN\n",
    "AMZN_sameDay_TN,AMZN_sameDay_FP,AMZN_sameDay_FN,AMZN_sameDay_TP = confusion_matrix(AMZN_Y_Binary_sameDay_test, AMZN_sameDay_pred).ravel()\n",
    "(AMZN_sameDay_TN,AMZN_sameDay_FP,AMZN_sameDay_FN,AMZN_sameDay_TP)"
   ]
  },
  {
   "cell_type": "markdown",
   "metadata": {},
   "source": [
    "<br>"
   ]
  },
  {
   "cell_type": "code",
   "execution_count": 16,
   "metadata": {},
   "outputs": [],
   "source": [
    "import pickle\n",
    "pickle.dump(AMZN_sameDay_model ,open('final_Model.sav','wb'))"
   ]
  },
  {
   "cell_type": "markdown",
   "metadata": {},
   "source": [
    "#### Prediction on Previous Day Approach "
   ]
  },
  {
   "cell_type": "code",
   "execution_count": 30,
   "metadata": {},
   "outputs": [],
   "source": [
    "AMZN_previousDay_model = GaussianNB()\n",
    "AMZN_previousDay_model.fit(AMZN_X_classification_previousDay_train,AMZN_Y_Binary_previousDay_train)\n",
    "AMZN_previousDay_pred = AMZN_previousDay_model.predict(AMZN_X_classification_previousDay_test)"
   ]
  },
  {
   "cell_type": "markdown",
   "metadata": {},
   "source": [
    "### Accuracy"
   ]
  },
  {
   "cell_type": "code",
   "execution_count": 31,
   "metadata": {},
   "outputs": [
    {
     "name": "stdout",
     "output_type": "stream",
     "text": [
      "The accuracy is:  0.4807692307692308\n"
     ]
    }
   ],
   "source": [
    "print(\"The accuracy is: \",AMZN_previousDay_model.score(AMZN_X_classification_previousDay_test,AMZN_Y_Binary_previousDay_test))"
   ]
  },
  {
   "cell_type": "markdown",
   "metadata": {},
   "source": [
    "#### Confusion Matrix For Previous Day"
   ]
  },
  {
   "cell_type": "code",
   "execution_count": 32,
   "metadata": {},
   "outputs": [
    {
     "name": "stdout",
     "output_type": "stream",
     "text": [
      "Confusion Matrix: \n",
      " [[19 11]\n",
      " [16  6]]\n",
      "\n",
      "\n",
      "Classification Report For Previous day: \n",
      "               precision    recall  f1-score   support\n",
      "\n",
      "           0       0.54      0.63      0.58        30\n",
      "           1       0.35      0.27      0.31        22\n",
      "\n",
      "    accuracy                           0.48        52\n",
      "   macro avg       0.45      0.45      0.45        52\n",
      "weighted avg       0.46      0.48      0.47        52\n",
      "\n"
     ]
    }
   ],
   "source": [
    "print(\"Confusion Matrix: \\n\",confusion_matrix(AMZN_Y_Binary_previousDay_test, AMZN_previousDay_pred))\n",
    "print(\"\\n\")\n",
    "# Classification Report\n",
    "matrix = classification_report(AMZN_Y_Binary_previousDay_test, AMZN_previousDay_pred)\n",
    "print(\"Classification Report For Previous day: \\n\",matrix)\n"
   ]
  },
  {
   "cell_type": "markdown",
   "metadata": {},
   "source": [
    "\n",
    "#### Conclusion\n",
    "Accuracy on the Same Day approach is higher"
   ]
  },
  {
   "cell_type": "code",
   "execution_count": null,
   "metadata": {},
   "outputs": [],
   "source": []
  },
  {
   "cell_type": "code",
   "execution_count": 34,
   "metadata": {},
   "outputs": [
    {
     "data": {
      "text/plain": [
       "['final_model.pkl']"
      ]
     },
     "execution_count": 34,
     "metadata": {},
     "output_type": "execute_result"
    }
   ],
   "source": [
    "\n",
    "import joblib\n",
    "# Save the model as a pickle in a file\n",
    "joblib.dump(AMZN_sameDay_model, 'final_model.pkl')\n",
    "#joblib.dump(AMZN_previousDay_model, 'AMZN_previousDay_model.pkl')\n",
    "# Load the model from the file\n",
    "#knn_from_joblib = joblib.load('filename.pkl')\n",
    "# Use the loaded model to make predictions\n",
    "#knn_from_joblib.predict(X_test)\n"
   ]
  },
  {
   "cell_type": "markdown",
   "metadata": {},
   "source": [
    "<br> <br>"
   ]
  },
  {
   "cell_type": "markdown",
   "metadata": {},
   "source": [
    "<h1 style=\"text-align:center;color:red\"> IBM</h1>"
   ]
  },
  {
   "cell_type": "code",
   "execution_count": 44,
   "metadata": {
    "scrolled": true
   },
   "outputs": [
    {
     "data": {
      "text/html": [
       "<div>\n",
       "<style scoped>\n",
       "    .dataframe tbody tr th:only-of-type {\n",
       "        vertical-align: middle;\n",
       "    }\n",
       "\n",
       "    .dataframe tbody tr th {\n",
       "        vertical-align: top;\n",
       "    }\n",
       "\n",
       "    .dataframe thead th {\n",
       "        text-align: right;\n",
       "    }\n",
       "</style>\n",
       "<table border=\"1\" class=\"dataframe\">\n",
       "  <thead>\n",
       "    <tr style=\"text-align: right;\">\n",
       "      <th></th>\n",
       "      <th>Date</th>\n",
       "      <th>Close/Last</th>\n",
       "      <th>Volume</th>\n",
       "      <th>Open</th>\n",
       "      <th>High</th>\n",
       "      <th>Low</th>\n",
       "      <th>SameDay_Binary</th>\n",
       "      <th>PreviousDay_Binary</th>\n",
       "      <th>SameDay_Percentage</th>\n",
       "      <th>PreviousDay_Percentage</th>\n",
       "    </tr>\n",
       "  </thead>\n",
       "  <tbody>\n",
       "    <tr>\n",
       "      <td>0</td>\n",
       "      <td>2021-04-07</td>\n",
       "      <td>134.93</td>\n",
       "      <td>2976136.0</td>\n",
       "      <td>133.8400</td>\n",
       "      <td>134.9400</td>\n",
       "      <td>133.780</td>\n",
       "      <td>1</td>\n",
       "      <td>0</td>\n",
       "      <td>1</td>\n",
       "      <td>-1</td>\n",
       "    </tr>\n",
       "    <tr>\n",
       "      <td>1</td>\n",
       "      <td>2021-04-08</td>\n",
       "      <td>135.12</td>\n",
       "      <td>4087228.0</td>\n",
       "      <td>134.5700</td>\n",
       "      <td>135.6299</td>\n",
       "      <td>134.160</td>\n",
       "      <td>1</td>\n",
       "      <td>1</td>\n",
       "      <td>0</td>\n",
       "      <td>1</td>\n",
       "    </tr>\n",
       "    <tr>\n",
       "      <td>2</td>\n",
       "      <td>2021-04-09</td>\n",
       "      <td>135.73</td>\n",
       "      <td>3023916.0</td>\n",
       "      <td>134.8700</td>\n",
       "      <td>135.7400</td>\n",
       "      <td>134.710</td>\n",
       "      <td>1</td>\n",
       "      <td>1</td>\n",
       "      <td>1</td>\n",
       "      <td>1</td>\n",
       "    </tr>\n",
       "    <tr>\n",
       "      <td>3</td>\n",
       "      <td>2021-04-10</td>\n",
       "      <td>133.61</td>\n",
       "      <td>4811004.0</td>\n",
       "      <td>133.1625</td>\n",
       "      <td>134.0750</td>\n",
       "      <td>132.185</td>\n",
       "      <td>1</td>\n",
       "      <td>0</td>\n",
       "      <td>0</td>\n",
       "      <td>-1</td>\n",
       "    </tr>\n",
       "    <tr>\n",
       "      <td>4</td>\n",
       "      <td>2021-04-11</td>\n",
       "      <td>133.61</td>\n",
       "      <td>4811004.0</td>\n",
       "      <td>133.1625</td>\n",
       "      <td>134.0750</td>\n",
       "      <td>132.185</td>\n",
       "      <td>1</td>\n",
       "      <td>0</td>\n",
       "      <td>0</td>\n",
       "      <td>0</td>\n",
       "    </tr>\n",
       "  </tbody>\n",
       "</table>\n",
       "</div>"
      ],
      "text/plain": [
       "         Date  Close/Last     Volume      Open      High      Low  \\\n",
       "0  2021-04-07      134.93  2976136.0  133.8400  134.9400  133.780   \n",
       "1  2021-04-08      135.12  4087228.0  134.5700  135.6299  134.160   \n",
       "2  2021-04-09      135.73  3023916.0  134.8700  135.7400  134.710   \n",
       "3  2021-04-10      133.61  4811004.0  133.1625  134.0750  132.185   \n",
       "4  2021-04-11      133.61  4811004.0  133.1625  134.0750  132.185   \n",
       "\n",
       "   SameDay_Binary  PreviousDay_Binary  SameDay_Percentage  \\\n",
       "0               1                   0                   1   \n",
       "1               1                   1                   0   \n",
       "2               1                   1                   1   \n",
       "3               1                   0                   0   \n",
       "4               1                   0                   0   \n",
       "\n",
       "   PreviousDay_Percentage  \n",
       "0                      -1  \n",
       "1                       1  \n",
       "2                       1  \n",
       "3                      -1  \n",
       "4                       0  "
      ]
     },
     "execution_count": 44,
     "metadata": {},
     "output_type": "execute_result"
    }
   ],
   "source": [
    "IBM_df.head()"
   ]
  },
  {
   "cell_type": "code",
   "execution_count": 45,
   "metadata": {},
   "outputs": [],
   "source": [
    "IBM_df[\"day\"] = IBM_df['Date'].map(lambda x: pd.to_datetime(x).day)\n",
    "IBM_df[\"month\"] = IBM_df['Date'].map(lambda x: pd.to_datetime(x).month)\n",
    "IBM_df[\"year\"] = IBM_df['Date'].map(lambda x: pd.to_datetime(x).year)"
   ]
  },
  {
   "cell_type": "code",
   "execution_count": 46,
   "metadata": {},
   "outputs": [],
   "source": [
    "IBM_X_classification=IBM_df[['day','Open']]\n",
    "IBM_X_regression=IBM_df.drop([\"Open\",\"Close/Last\",\"SameDay_Binary\",\"PreviousDay_Binary\",\"SameDay_Percentage\",\"PreviousDay_Percentage\",\"year\",\"Date\"],axis =1 )\n",
    "IBM_Y_Binary_sameDay = IBM_df[\"SameDay_Binary\"]\n",
    "IBM_Y_Binary_previousDay = IBM_df[\"PreviousDay_Binary\"]\n",
    "IBM_Y_Percentage_sameDay = IBM_df[\"SameDay_Percentage\"]\n",
    "IBM_Y_Percentage_previousDay = IBM_df[\"PreviousDay_Percentage\"]"
   ]
  },
  {
   "cell_type": "code",
   "execution_count": 47,
   "metadata": {},
   "outputs": [
    {
     "data": {
      "text/plain": [
       "Date                      0\n",
       "Close/Last                0\n",
       "Volume                    0\n",
       "Open                      0\n",
       "High                      0\n",
       "Low                       0\n",
       "SameDay_Binary            0\n",
       "PreviousDay_Binary        0\n",
       "SameDay_Percentage        0\n",
       "PreviousDay_Percentage    0\n",
       "day                       0\n",
       "month                     0\n",
       "year                      0\n",
       "dtype: int64"
      ]
     },
     "execution_count": 47,
     "metadata": {},
     "output_type": "execute_result"
    }
   ],
   "source": [
    "IBM_df.isnull().sum()"
   ]
  },
  {
   "cell_type": "code",
   "execution_count": 48,
   "metadata": {},
   "outputs": [],
   "source": [
    "IBM_X_classification_sameDay_train, IBM_X_classification_sameDay_test, IBM_Y_Binary_sameDay_train, IBM_Y_Binary_sameDay_test = train_test_split(IBM_X_classification,IBM_Y_Binary_sameDay, test_size=0.30, random_state=2)"
   ]
  },
  {
   "cell_type": "code",
   "execution_count": 49,
   "metadata": {},
   "outputs": [],
   "source": [
    "IBM_X_classification_previousDay_train, IBM_X_classification_previousDay_test, IBM_Y_Binary_previousDay_train,IBM_Y_Binary_previousDay_test = train_test_split(IBM_X_classification, IBM_Y_Binary_previousDay, test_size=0.30, random_state=2)"
   ]
  },
  {
   "cell_type": "code",
   "execution_count": 50,
   "metadata": {},
   "outputs": [],
   "source": [
    "IBM_X_regression_sameday_train, IBM_X_regression_sameday_test, IBM_Y_Percentage_sameDay_train, IBM_Y_Percentage_sameDay_test = train_test_split(IBM_X_regression, IBM_Y_Percentage_sameDay, test_size=0.30, random_state=2)"
   ]
  },
  {
   "cell_type": "code",
   "execution_count": 51,
   "metadata": {},
   "outputs": [],
   "source": [
    "IBM_X_regression_previousday_train, IBM_X_regression_previousday_test, IBM_Y_Percentage_previousDay_train, IBM_Y_Percentage_previousDay_test = train_test_split(IBM_X_regression, IBM_Y_Percentage_previousDay, test_size=0.30, random_state=2)"
   ]
  },
  {
   "cell_type": "markdown",
   "metadata": {},
   "source": [
    "<br>"
   ]
  },
  {
   "cell_type": "markdown",
   "metadata": {},
   "source": [
    "### Naive Bayes on IBM Dataset"
   ]
  },
  {
   "cell_type": "markdown",
   "metadata": {},
   "source": [
    "#### Prediction On Same Day Approach"
   ]
  },
  {
   "cell_type": "code",
   "execution_count": 52,
   "metadata": {},
   "outputs": [],
   "source": [
    "IBM_sameDay_model = GaussianNB()\n",
    "IBM_sameDay_model.fit(IBM_X_classification_sameDay_train,IBM_Y_Binary_sameDay_train)\n",
    "IBM_sameDay_pred = IBM_sameDay_model.predict(IBM_X_classification_sameDay_test)"
   ]
  },
  {
   "cell_type": "markdown",
   "metadata": {},
   "source": [
    "#### Accuracy for same day approach"
   ]
  },
  {
   "cell_type": "code",
   "execution_count": 53,
   "metadata": {},
   "outputs": [
    {
     "name": "stdout",
     "output_type": "stream",
     "text": [
      "Accuray Score:  0.6346153846153846\n"
     ]
    }
   ],
   "source": [
    "print(\"Accuray Score: \",IBM_sameDay_model.score(IBM_X_classification_sameDay_test,IBM_Y_Binary_sameDay_test))"
   ]
  },
  {
   "cell_type": "markdown",
   "metadata": {},
   "source": [
    "#### Confusion Matrix For Same Day"
   ]
  },
  {
   "cell_type": "code",
   "execution_count": 54,
   "metadata": {},
   "outputs": [
    {
     "name": "stdout",
     "output_type": "stream",
     "text": [
      "Confusion Matrix: \n",
      " [[10 11]\n",
      " [ 8 23]]\n",
      "\n",
      "\n",
      "Classification Report For Same day: \n",
      "               precision    recall  f1-score   support\n",
      "\n",
      "           0       0.56      0.48      0.51        21\n",
      "           1       0.68      0.74      0.71        31\n",
      "\n",
      "    accuracy                           0.63        52\n",
      "   macro avg       0.62      0.61      0.61        52\n",
      "weighted avg       0.63      0.63      0.63        52\n",
      "\n"
     ]
    }
   ],
   "source": [
    "print(\"Confusion Matrix: \\n\",confusion_matrix(IBM_Y_Binary_sameDay_test, IBM_sameDay_pred))\n",
    "print(\"\\n\")\n",
    "# Classification Report\n",
    "matrix = classification_report(IBM_Y_Binary_sameDay_test, IBM_sameDay_pred)\n",
    "print(\"Classification Report For Same day: \\n\",matrix)"
   ]
  },
  {
   "cell_type": "code",
   "execution_count": 55,
   "metadata": {},
   "outputs": [
    {
     "data": {
      "text/plain": [
       "(10, 11, 8, 23)"
      ]
     },
     "execution_count": 55,
     "metadata": {},
     "output_type": "execute_result"
    }
   ],
   "source": [
    "#Extracting TN,FP,FN,TN\n",
    "IBM_sameDay_TN,IBM_sameDay_FP,IBM_sameDay_FN,IBM_sameDay_TP = confusion_matrix(IBM_Y_Binary_sameDay_test, IBM_sameDay_pred).ravel()\n",
    "(IBM_sameDay_TN,IBM_sameDay_FP,IBM_sameDay_FN,IBM_sameDay_TP)"
   ]
  },
  {
   "cell_type": "markdown",
   "metadata": {},
   "source": [
    "#### Accuracy For Same Day with Confusion Matrix"
   ]
  },
  {
   "cell_type": "code",
   "execution_count": 56,
   "metadata": {},
   "outputs": [
    {
     "data": {
      "text/plain": [
       "0.6346153846153846"
      ]
     },
     "execution_count": 56,
     "metadata": {},
     "output_type": "execute_result"
    }
   ],
   "source": [
    "(IBM_sameDay_TP + IBM_sameDay_TN)/len(IBM_X_classification_sameDay_test)"
   ]
  },
  {
   "cell_type": "markdown",
   "metadata": {},
   "source": [
    "#### Prediction on Previous Day Approach "
   ]
  },
  {
   "cell_type": "code",
   "execution_count": 57,
   "metadata": {},
   "outputs": [],
   "source": [
    "IBM_previousDay_model = GaussianNB()\n",
    "IBM_previousDay_model.fit(IBM_X_classification_previousDay_train,IBM_Y_Binary_previousDay_train)\n",
    "IBM_previousDay_pred = IBM_previousDay_model.predict(IBM_X_classification_previousDay_test)"
   ]
  },
  {
   "cell_type": "markdown",
   "metadata": {},
   "source": [
    "### Accuracy"
   ]
  },
  {
   "cell_type": "code",
   "execution_count": 58,
   "metadata": {},
   "outputs": [
    {
     "name": "stdout",
     "output_type": "stream",
     "text": [
      "The accuracy is:  0.6346153846153846\n"
     ]
    }
   ],
   "source": [
    "print(\"The accuracy is: \",IBM_previousDay_model.score(IBM_X_classification_previousDay_test,IBM_Y_Binary_previousDay_test))"
   ]
  },
  {
   "cell_type": "markdown",
   "metadata": {},
   "source": [
    "#### Confusion Matrix For Previous Day"
   ]
  },
  {
   "cell_type": "code",
   "execution_count": 59,
   "metadata": {},
   "outputs": [
    {
     "name": "stdout",
     "output_type": "stream",
     "text": [
      "Confusion Matrix: \n",
      " [[19 13]\n",
      " [ 6 14]]\n",
      "\n",
      "\n",
      "Classification Report For Previous day: \n",
      "               precision    recall  f1-score   support\n",
      "\n",
      "           0       0.76      0.59      0.67        32\n",
      "           1       0.52      0.70      0.60        20\n",
      "\n",
      "    accuracy                           0.63        52\n",
      "   macro avg       0.64      0.65      0.63        52\n",
      "weighted avg       0.67      0.63      0.64        52\n",
      "\n"
     ]
    }
   ],
   "source": [
    "print(\"Confusion Matrix: \\n\",confusion_matrix(IBM_Y_Binary_previousDay_test, IBM_previousDay_pred))\n",
    "print(\"\\n\")\n",
    "# Classification Report\n",
    "matrix = classification_report(IBM_Y_Binary_previousDay_test, IBM_previousDay_pred)\n",
    "print(\"Classification Report For Previous day: \\n\",matrix)\n"
   ]
  },
  {
   "cell_type": "markdown",
   "metadata": {},
   "source": [
    "#### Conclusion\n",
    "Accuracy on the previous Day and  same day approach is same"
   ]
  },
  {
   "cell_type": "markdown",
   "metadata": {},
   "source": [
    "<BR><BR>"
   ]
  },
  {
   "cell_type": "code",
   "execution_count": 60,
   "metadata": {},
   "outputs": [
    {
     "data": {
      "text/plain": [
       "['IBM_previousDay_model.pkl']"
      ]
     },
     "execution_count": 60,
     "metadata": {},
     "output_type": "execute_result"
    }
   ],
   "source": [
    "\n",
    "\n",
    "# Save the model as a pickle in a file\n",
    "joblib.dump(IBM_sameDay_model, 'IBM_sameDay_model.pkl')\n",
    "joblib.dump(IBM_previousDay_model, 'IBM_previousDay_model.pkl')\n",
    "# Load the model from the file\n",
    "#knn_from_joblib = joblib.load('filename.pkl')\n",
    "# Use the loaded model to make predictions\n",
    "#knn_from_joblib.predict(X_test)\n"
   ]
  },
  {
   "cell_type": "markdown",
   "metadata": {},
   "source": [
    "<h1 style=\"text-align:center;color:red\"> MICROSOFT</h1>"
   ]
  },
  {
   "cell_type": "code",
   "execution_count": 61,
   "metadata": {},
   "outputs": [
    {
     "data": {
      "text/html": [
       "<div>\n",
       "<style scoped>\n",
       "    .dataframe tbody tr th:only-of-type {\n",
       "        vertical-align: middle;\n",
       "    }\n",
       "\n",
       "    .dataframe tbody tr th {\n",
       "        vertical-align: top;\n",
       "    }\n",
       "\n",
       "    .dataframe thead th {\n",
       "        text-align: right;\n",
       "    }\n",
       "</style>\n",
       "<table border=\"1\" class=\"dataframe\">\n",
       "  <thead>\n",
       "    <tr style=\"text-align: right;\">\n",
       "      <th></th>\n",
       "      <th>Date</th>\n",
       "      <th>Close/Last</th>\n",
       "      <th>Volume</th>\n",
       "      <th>Open</th>\n",
       "      <th>High</th>\n",
       "      <th>Low</th>\n",
       "      <th>SameDay_Binary</th>\n",
       "      <th>PreviousDay_Binary</th>\n",
       "      <th>SameDay_Percentage</th>\n",
       "      <th>PreviousDay_Percentage</th>\n",
       "    </tr>\n",
       "  </thead>\n",
       "  <tbody>\n",
       "    <tr>\n",
       "      <td>0</td>\n",
       "      <td>2021-04-07</td>\n",
       "      <td>249.90</td>\n",
       "      <td>22719840.0</td>\n",
       "      <td>247.8100</td>\n",
       "      <td>250.930</td>\n",
       "      <td>247.19</td>\n",
       "      <td>1</td>\n",
       "      <td>0</td>\n",
       "      <td>1</td>\n",
       "      <td>-1</td>\n",
       "    </tr>\n",
       "    <tr>\n",
       "      <td>1</td>\n",
       "      <td>2021-04-08</td>\n",
       "      <td>253.25</td>\n",
       "      <td>23625200.0</td>\n",
       "      <td>252.7700</td>\n",
       "      <td>254.139</td>\n",
       "      <td>252.00</td>\n",
       "      <td>1</td>\n",
       "      <td>1</td>\n",
       "      <td>0</td>\n",
       "      <td>1</td>\n",
       "    </tr>\n",
       "    <tr>\n",
       "      <td>2</td>\n",
       "      <td>2021-04-09</td>\n",
       "      <td>255.85</td>\n",
       "      <td>24326830.0</td>\n",
       "      <td>252.8700</td>\n",
       "      <td>255.990</td>\n",
       "      <td>252.44</td>\n",
       "      <td>1</td>\n",
       "      <td>1</td>\n",
       "      <td>1</td>\n",
       "      <td>1</td>\n",
       "    </tr>\n",
       "    <tr>\n",
       "      <td>3</td>\n",
       "      <td>2021-04-10</td>\n",
       "      <td>255.75</td>\n",
       "      <td>25109805.0</td>\n",
       "      <td>256.0925</td>\n",
       "      <td>258.250</td>\n",
       "      <td>254.89</td>\n",
       "      <td>0</td>\n",
       "      <td>0</td>\n",
       "      <td>0</td>\n",
       "      <td>1</td>\n",
       "    </tr>\n",
       "    <tr>\n",
       "      <td>4</td>\n",
       "      <td>2021-04-11</td>\n",
       "      <td>255.75</td>\n",
       "      <td>25109805.0</td>\n",
       "      <td>256.0925</td>\n",
       "      <td>258.250</td>\n",
       "      <td>254.89</td>\n",
       "      <td>0</td>\n",
       "      <td>0</td>\n",
       "      <td>0</td>\n",
       "      <td>0</td>\n",
       "    </tr>\n",
       "  </tbody>\n",
       "</table>\n",
       "</div>"
      ],
      "text/plain": [
       "         Date  Close/Last      Volume      Open     High     Low  \\\n",
       "0  2021-04-07      249.90  22719840.0  247.8100  250.930  247.19   \n",
       "1  2021-04-08      253.25  23625200.0  252.7700  254.139  252.00   \n",
       "2  2021-04-09      255.85  24326830.0  252.8700  255.990  252.44   \n",
       "3  2021-04-10      255.75  25109805.0  256.0925  258.250  254.89   \n",
       "4  2021-04-11      255.75  25109805.0  256.0925  258.250  254.89   \n",
       "\n",
       "   SameDay_Binary  PreviousDay_Binary  SameDay_Percentage  \\\n",
       "0               1                   0                   1   \n",
       "1               1                   1                   0   \n",
       "2               1                   1                   1   \n",
       "3               0                   0                   0   \n",
       "4               0                   0                   0   \n",
       "\n",
       "   PreviousDay_Percentage  \n",
       "0                      -1  \n",
       "1                       1  \n",
       "2                       1  \n",
       "3                       1  \n",
       "4                       0  "
      ]
     },
     "execution_count": 61,
     "metadata": {},
     "output_type": "execute_result"
    }
   ],
   "source": [
    "MSFT_df.head()"
   ]
  },
  {
   "cell_type": "code",
   "execution_count": 62,
   "metadata": {},
   "outputs": [],
   "source": [
    "MSFT_df[\"day\"] = MSFT_df['Date'].map(lambda x: pd.to_datetime(x).day)\n",
    "MSFT_df[\"month\"] = MSFT_df['Date'].map(lambda x: pd.to_datetime(x).month)\n",
    "MSFT_df[\"year\"] = MSFT_df['Date'].map(lambda x: pd.to_datetime(x).year)"
   ]
  },
  {
   "cell_type": "code",
   "execution_count": 63,
   "metadata": {},
   "outputs": [],
   "source": [
    "MSFT_X_classification=MSFT_df[['day','Open']]\n",
    "MSFT_X_regression=MSFT_df.drop([\"Open\",\"Close/Last\",\"SameDay_Binary\",\"PreviousDay_Binary\",\"SameDay_Percentage\",\"PreviousDay_Percentage\",\"year\",\"Date\"],axis =1 )\n",
    "MSFT_Y_Binary_sameDay = MSFT_df[\"SameDay_Binary\"]\n",
    "MSFT_Y_Binary_previousDay = MSFT_df[\"PreviousDay_Binary\"]\n",
    "MSFT_Y_Percentage_sameDay = MSFT_df[\"SameDay_Percentage\"]\n",
    "MSFT_Y_Percentage_previousDay = MSFT_df[\"PreviousDay_Percentage\"]"
   ]
  },
  {
   "cell_type": "code",
   "execution_count": 64,
   "metadata": {},
   "outputs": [
    {
     "data": {
      "text/plain": [
       "Date                      0\n",
       "Close/Last                0\n",
       "Volume                    0\n",
       "Open                      0\n",
       "High                      0\n",
       "Low                       0\n",
       "SameDay_Binary            0\n",
       "PreviousDay_Binary        0\n",
       "SameDay_Percentage        0\n",
       "PreviousDay_Percentage    0\n",
       "day                       0\n",
       "month                     0\n",
       "year                      0\n",
       "dtype: int64"
      ]
     },
     "execution_count": 64,
     "metadata": {},
     "output_type": "execute_result"
    }
   ],
   "source": [
    "MSFT_df.isna().sum()"
   ]
  },
  {
   "cell_type": "code",
   "execution_count": 65,
   "metadata": {},
   "outputs": [],
   "source": [
    "MSFT_X_classification_sameDay_train, MSFT_X_classification_sameDay_test, MSFT_Y_Binary_sameDay_train, MSFT_Y_Binary_sameDay_test = train_test_split(MSFT_X_classification, MSFT_Y_Binary_sameDay, test_size=0.30, random_state=2)"
   ]
  },
  {
   "cell_type": "code",
   "execution_count": 66,
   "metadata": {},
   "outputs": [],
   "source": [
    "MSFT_X_classification_previousDay_train, MSFT_X_classification_previousDay_test, MSFT_Y_Binary_previousDay_train,MSFT_Y_Binary_previousDay_test = train_test_split(MSFT_X_classification, MSFT_Y_Binary_previousDay, test_size=0.30, random_state=2)"
   ]
  },
  {
   "cell_type": "code",
   "execution_count": 67,
   "metadata": {},
   "outputs": [],
   "source": [
    "MSFT_X_regression_sameday_train,MSFT_X_regression_sameday_test, MSFT_Y_Percentage_sameDay_train, MSFT_Y_Percentage_sameDay_test = train_test_split(MSFT_X_regression, MSFT_Y_Percentage_sameDay, test_size=0.30, random_state=2)"
   ]
  },
  {
   "cell_type": "code",
   "execution_count": 68,
   "metadata": {},
   "outputs": [],
   "source": [
    "MSFT_X_regression_previousday_train, MSFT_X_regression_previousday_test, MSFT_Y_Percentage_previousDay_train, MSFT_Y_Percentage_previousDay_test = train_test_split(MSFT_X_regression, MSFT_Y_Percentage_previousDay, test_size=0.30, random_state=2)"
   ]
  },
  {
   "cell_type": "markdown",
   "metadata": {},
   "source": [
    "### Naive Bayes on Microsoft Dataset"
   ]
  },
  {
   "cell_type": "markdown",
   "metadata": {},
   "source": [
    "#### Prediction On Same Day Approach"
   ]
  },
  {
   "cell_type": "code",
   "execution_count": 69,
   "metadata": {},
   "outputs": [],
   "source": [
    "MSFT_sameDay_model = GaussianNB()\n",
    "MSFT_sameDay_model.fit(MSFT_X_classification_sameDay_train,MSFT_Y_Binary_sameDay_train)\n",
    "MSFT_sameDay_pred = MSFT_sameDay_model.predict(MSFT_X_classification_sameDay_test)"
   ]
  },
  {
   "cell_type": "markdown",
   "metadata": {},
   "source": [
    "#### Accuracy for same day approach"
   ]
  },
  {
   "cell_type": "code",
   "execution_count": 70,
   "metadata": {},
   "outputs": [
    {
     "name": "stdout",
     "output_type": "stream",
     "text": [
      "Accuray Score:  0.5576923076923077\n"
     ]
    }
   ],
   "source": [
    "print(\"Accuray Score: \",MSFT_sameDay_model.score(MSFT_X_classification_sameDay_test,MSFT_Y_Binary_sameDay_test))"
   ]
  },
  {
   "cell_type": "markdown",
   "metadata": {},
   "source": [
    "#### Confusion Matrix For Same Day"
   ]
  },
  {
   "cell_type": "code",
   "execution_count": 71,
   "metadata": {},
   "outputs": [
    {
     "name": "stdout",
     "output_type": "stream",
     "text": [
      "Confusion Matrix: \n",
      " [[24  5]\n",
      " [18  5]]\n",
      "\n",
      "\n",
      "Classification Report For Same day: \n",
      "               precision    recall  f1-score   support\n",
      "\n",
      "           0       0.57      0.83      0.68        29\n",
      "           1       0.50      0.22      0.30        23\n",
      "\n",
      "    accuracy                           0.56        52\n",
      "   macro avg       0.54      0.52      0.49        52\n",
      "weighted avg       0.54      0.56      0.51        52\n",
      "\n"
     ]
    }
   ],
   "source": [
    "print(\"Confusion Matrix: \\n\",confusion_matrix(MSFT_Y_Binary_sameDay_test, MSFT_sameDay_pred))\n",
    "print(\"\\n\")\n",
    "# Classification Report\n",
    "matrix = classification_report(MSFT_Y_Binary_sameDay_test, MSFT_sameDay_pred)\n",
    "print(\"Classification Report For Same day: \\n\",matrix)"
   ]
  },
  {
   "cell_type": "code",
   "execution_count": 72,
   "metadata": {},
   "outputs": [
    {
     "data": {
      "text/plain": [
       "(24, 5, 18, 5)"
      ]
     },
     "execution_count": 72,
     "metadata": {},
     "output_type": "execute_result"
    }
   ],
   "source": [
    "#Extracting TN,FP,FN,TN\n",
    "MSFT_sameDay_TN,MSFT_sameDay_FP,MSFT_sameDay_FN,MSFT_sameDay_TP = confusion_matrix(MSFT_Y_Binary_sameDay_test, MSFT_sameDay_pred).ravel()\n",
    "(MSFT_sameDay_TN,MSFT_sameDay_FP,MSFT_sameDay_FN,MSFT_sameDay_TP)"
   ]
  },
  {
   "cell_type": "markdown",
   "metadata": {},
   "source": [
    "#### Accuracy For Same Day with Confusion Matrix"
   ]
  },
  {
   "cell_type": "code",
   "execution_count": 73,
   "metadata": {},
   "outputs": [
    {
     "data": {
      "text/plain": [
       "0.5576923076923077"
      ]
     },
     "execution_count": 73,
     "metadata": {},
     "output_type": "execute_result"
    }
   ],
   "source": [
    "(MSFT_sameDay_TP + MSFT_sameDay_TN)/len(MSFT_X_classification_sameDay_test)"
   ]
  },
  {
   "cell_type": "markdown",
   "metadata": {},
   "source": [
    "#### Prediction on Previous Day Approach "
   ]
  },
  {
   "cell_type": "code",
   "execution_count": 74,
   "metadata": {},
   "outputs": [],
   "source": [
    "MSFT_previousDay_model = GaussianNB()\n",
    "MSFT_previousDay_model.fit(MSFT_X_classification_previousDay_train,MSFT_Y_Binary_previousDay_train)\n",
    "MSFT_previousDay_pred = MSFT_previousDay_model.predict(MSFT_X_classification_previousDay_test)"
   ]
  },
  {
   "cell_type": "markdown",
   "metadata": {},
   "source": [
    "### Accuracy"
   ]
  },
  {
   "cell_type": "code",
   "execution_count": 75,
   "metadata": {},
   "outputs": [
    {
     "name": "stdout",
     "output_type": "stream",
     "text": [
      "The accuracy is:  0.5576923076923077\n"
     ]
    }
   ],
   "source": [
    "print(\"The accuracy is: \",MSFT_previousDay_model.score(MSFT_X_classification_previousDay_test,MSFT_Y_Binary_previousDay_test))"
   ]
  },
  {
   "cell_type": "markdown",
   "metadata": {},
   "source": [
    "#### Confusion Matrix For Previous Day"
   ]
  },
  {
   "cell_type": "code",
   "execution_count": 76,
   "metadata": {},
   "outputs": [
    {
     "name": "stdout",
     "output_type": "stream",
     "text": [
      "Confusion Matrix: \n",
      " [[20  7]\n",
      " [16  9]]\n",
      "\n",
      "\n",
      "Classification Report For Previous day: \n",
      "               precision    recall  f1-score   support\n",
      "\n",
      "           0       0.56      0.74      0.63        27\n",
      "           1       0.56      0.36      0.44        25\n",
      "\n",
      "    accuracy                           0.56        52\n",
      "   macro avg       0.56      0.55      0.54        52\n",
      "weighted avg       0.56      0.56      0.54        52\n",
      "\n"
     ]
    }
   ],
   "source": [
    "print(\"Confusion Matrix: \\n\",confusion_matrix(MSFT_Y_Binary_previousDay_test, MSFT_previousDay_pred))\n",
    "print(\"\\n\")\n",
    "# Classification Report\n",
    "matrix = classification_report(MSFT_Y_Binary_previousDay_test, MSFT_previousDay_pred)\n",
    "print(\"Classification Report For Previous day: \\n\",matrix)\n"
   ]
  },
  {
   "cell_type": "markdown",
   "metadata": {},
   "source": [
    "#### Conclusion\n",
    "Accuracy on the previous Day approach and Same day is same"
   ]
  },
  {
   "cell_type": "code",
   "execution_count": 77,
   "metadata": {},
   "outputs": [
    {
     "data": {
      "text/plain": [
       "['MSFT_previousDay_model.pkl']"
      ]
     },
     "execution_count": 77,
     "metadata": {},
     "output_type": "execute_result"
    }
   ],
   "source": [
    "\n",
    "\n",
    "# Save the model as a pickle in a file\n",
    "joblib.dump(MSFT_sameDay_model, 'MSFT_sameDay_model.pkl')\n",
    "joblib.dump(MSFT_previousDay_model, 'MSFT_previousDay_model.pkl')\n",
    "# Load the model from the file\n",
    "#knn_from_joblib = joblib.load('filename.pkl')\n",
    "# Use the loaded model to make predictions\n",
    "#knn_from_joblib.predict(X_test)\n"
   ]
  },
  {
   "cell_type": "markdown",
   "metadata": {},
   "source": [
    "<BR><BR>"
   ]
  },
  {
   "cell_type": "markdown",
   "metadata": {},
   "source": [
    "<h1 style=\"text-align:center;color:red\"> TESLA</h1>"
   ]
  },
  {
   "cell_type": "code",
   "execution_count": 78,
   "metadata": {},
   "outputs": [
    {
     "data": {
      "text/html": [
       "<div>\n",
       "<style scoped>\n",
       "    .dataframe tbody tr th:only-of-type {\n",
       "        vertical-align: middle;\n",
       "    }\n",
       "\n",
       "    .dataframe tbody tr th {\n",
       "        vertical-align: top;\n",
       "    }\n",
       "\n",
       "    .dataframe thead th {\n",
       "        text-align: right;\n",
       "    }\n",
       "</style>\n",
       "<table border=\"1\" class=\"dataframe\">\n",
       "  <thead>\n",
       "    <tr style=\"text-align: right;\">\n",
       "      <th></th>\n",
       "      <th>Date</th>\n",
       "      <th>Close/Last</th>\n",
       "      <th>Volume</th>\n",
       "      <th>Open</th>\n",
       "      <th>High</th>\n",
       "      <th>Low</th>\n",
       "      <th>SameDay_Binary</th>\n",
       "      <th>PreviousDay_Binary</th>\n",
       "      <th>SameDay_Percentage</th>\n",
       "      <th>PreviousDay_Percentage</th>\n",
       "    </tr>\n",
       "  </thead>\n",
       "  <tbody>\n",
       "    <tr>\n",
       "      <td>0</td>\n",
       "      <td>2021-04-07</td>\n",
       "      <td>670.970</td>\n",
       "      <td>26309430.0</td>\n",
       "      <td>687.00</td>\n",
       "      <td>691.3800</td>\n",
       "      <td>667.840</td>\n",
       "      <td>0</td>\n",
       "      <td>0</td>\n",
       "      <td>-1</td>\n",
       "      <td>-1</td>\n",
       "    </tr>\n",
       "    <tr>\n",
       "      <td>1</td>\n",
       "      <td>2021-04-08</td>\n",
       "      <td>683.800</td>\n",
       "      <td>23924330.0</td>\n",
       "      <td>677.38</td>\n",
       "      <td>689.5499</td>\n",
       "      <td>671.645</td>\n",
       "      <td>1</td>\n",
       "      <td>1</td>\n",
       "      <td>1</td>\n",
       "      <td>0</td>\n",
       "    </tr>\n",
       "    <tr>\n",
       "      <td>2</td>\n",
       "      <td>2021-04-09</td>\n",
       "      <td>677.020</td>\n",
       "      <td>21437090.0</td>\n",
       "      <td>677.77</td>\n",
       "      <td>680.9700</td>\n",
       "      <td>669.430</td>\n",
       "      <td>0</td>\n",
       "      <td>0</td>\n",
       "      <td>0</td>\n",
       "      <td>0</td>\n",
       "    </tr>\n",
       "    <tr>\n",
       "      <td>3</td>\n",
       "      <td>2021-04-10</td>\n",
       "      <td>717.105</td>\n",
       "      <td>39076550.0</td>\n",
       "      <td>728.20</td>\n",
       "      <td>742.7950</td>\n",
       "      <td>705.060</td>\n",
       "      <td>0</td>\n",
       "      <td>1</td>\n",
       "      <td>-1</td>\n",
       "      <td>1</td>\n",
       "    </tr>\n",
       "    <tr>\n",
       "      <td>4</td>\n",
       "      <td>2021-04-11</td>\n",
       "      <td>717.105</td>\n",
       "      <td>39076550.0</td>\n",
       "      <td>728.20</td>\n",
       "      <td>742.7950</td>\n",
       "      <td>705.060</td>\n",
       "      <td>0</td>\n",
       "      <td>0</td>\n",
       "      <td>-1</td>\n",
       "      <td>-1</td>\n",
       "    </tr>\n",
       "  </tbody>\n",
       "</table>\n",
       "</div>"
      ],
      "text/plain": [
       "         Date  Close/Last      Volume    Open      High      Low  \\\n",
       "0  2021-04-07     670.970  26309430.0  687.00  691.3800  667.840   \n",
       "1  2021-04-08     683.800  23924330.0  677.38  689.5499  671.645   \n",
       "2  2021-04-09     677.020  21437090.0  677.77  680.9700  669.430   \n",
       "3  2021-04-10     717.105  39076550.0  728.20  742.7950  705.060   \n",
       "4  2021-04-11     717.105  39076550.0  728.20  742.7950  705.060   \n",
       "\n",
       "   SameDay_Binary  PreviousDay_Binary  SameDay_Percentage  \\\n",
       "0               0                   0                  -1   \n",
       "1               1                   1                   1   \n",
       "2               0                   0                   0   \n",
       "3               0                   1                  -1   \n",
       "4               0                   0                  -1   \n",
       "\n",
       "   PreviousDay_Percentage  \n",
       "0                      -1  \n",
       "1                       0  \n",
       "2                       0  \n",
       "3                       1  \n",
       "4                      -1  "
      ]
     },
     "execution_count": 78,
     "metadata": {},
     "output_type": "execute_result"
    }
   ],
   "source": [
    "TSLA_df.head()"
   ]
  },
  {
   "cell_type": "code",
   "execution_count": 79,
   "metadata": {},
   "outputs": [],
   "source": [
    "TSLA_df[\"day\"] = TSLA_df['Date'].map(lambda x: pd.to_datetime(x).day)\n",
    "TSLA_df[\"month\"] = TSLA_df['Date'].map(lambda x: pd.to_datetime(x).month)\n",
    "TSLA_df[\"year\"] = TSLA_df['Date'].map(lambda x: pd.to_datetime(x).year)"
   ]
  },
  {
   "cell_type": "code",
   "execution_count": 80,
   "metadata": {},
   "outputs": [],
   "source": [
    "TSLA_X_classification=TSLA_df[['day','Open']]\n",
    "TSLA_X_regression=TSLA_df.drop([\"Open\",\"Close/Last\",\"SameDay_Binary\",\"PreviousDay_Binary\",\"SameDay_Percentage\",\"PreviousDay_Percentage\",\"year\",\"Date\"],axis =1 )\n",
    "TSLA_Y_Binary_sameDay = TSLA_df[\"SameDay_Binary\"]\n",
    "TSLA_Y_Binary_previousDay = TSLA_df[\"PreviousDay_Binary\"]\n",
    "TSLA_Y_Percentage_sameDay = TSLA_df[\"SameDay_Percentage\"]\n",
    "TSLA_Y_Percentage_previousDay = TSLA_df[\"PreviousDay_Percentage\"]"
   ]
  },
  {
   "cell_type": "code",
   "execution_count": 81,
   "metadata": {},
   "outputs": [
    {
     "data": {
      "text/plain": [
       "Date                      0\n",
       "Close/Last                0\n",
       "Volume                    0\n",
       "Open                      0\n",
       "High                      0\n",
       "Low                       0\n",
       "SameDay_Binary            0\n",
       "PreviousDay_Binary        0\n",
       "SameDay_Percentage        0\n",
       "PreviousDay_Percentage    0\n",
       "day                       0\n",
       "month                     0\n",
       "year                      0\n",
       "dtype: int64"
      ]
     },
     "execution_count": 81,
     "metadata": {},
     "output_type": "execute_result"
    }
   ],
   "source": [
    "TSLA_df.isna().sum()"
   ]
  },
  {
   "cell_type": "code",
   "execution_count": 82,
   "metadata": {},
   "outputs": [],
   "source": [
    "TSLA_X_classification_sameDay_train, TSLA_X_classification_sameDay_test, TSLA_Y_Binary_sameDay_train, TSLA_Y_Binary_sameDay_test = train_test_split(TSLA_X_classification, TSLA_Y_Binary_sameDay, test_size=0.30, random_state=2)"
   ]
  },
  {
   "cell_type": "code",
   "execution_count": 83,
   "metadata": {},
   "outputs": [],
   "source": [
    "TSLA_X_classification_previousDay_train, TSLA_X_classification_previousDay_test, TSLA_Y_Binary_previousDay_train,TSLA_Y_Binary_previousDay_test = train_test_split(TSLA_X_classification, TSLA_Y_Binary_previousDay, test_size=0.30, random_state=2)"
   ]
  },
  {
   "cell_type": "code",
   "execution_count": 84,
   "metadata": {},
   "outputs": [],
   "source": [
    "TSLA_X_regression_sameday_train, TSLA_X_regression_sameday_test, TSLA_Y_Percentage_sameDay_train, TSLA_Y_Percentage_sameDay_test = train_test_split(TSLA_X_regression, TSLA_Y_Percentage_sameDay, test_size=0.30, random_state=2)"
   ]
  },
  {
   "cell_type": "code",
   "execution_count": 85,
   "metadata": {},
   "outputs": [],
   "source": [
    "TSLA_X_regression_previousday_train, TSLA_X_regression_previousday_test, TSLA_Y_Percentage_previousDay_train, TSLA_Y_Percentage_previousDay_test = train_test_split(TSLA_X_regression, TSLA_Y_Percentage_previousDay, test_size=0.30, random_state=2)"
   ]
  },
  {
   "cell_type": "markdown",
   "metadata": {},
   "source": [
    "### Naive Bayes on Tesla Dataset"
   ]
  },
  {
   "cell_type": "markdown",
   "metadata": {},
   "source": [
    "#### Prediction On Same Day Approach"
   ]
  },
  {
   "cell_type": "code",
   "execution_count": 86,
   "metadata": {},
   "outputs": [],
   "source": [
    "TSLA_sameDay_model = GaussianNB()\n",
    "TSLA_sameDay_model.fit(TSLA_X_classification_sameDay_train,TSLA_Y_Binary_sameDay_train)\n",
    "TSLA_sameDay_pred = TSLA_sameDay_model.predict(TSLA_X_classification_sameDay_test)"
   ]
  },
  {
   "cell_type": "markdown",
   "metadata": {},
   "source": [
    "#### Accuracy for same day approach"
   ]
  },
  {
   "cell_type": "code",
   "execution_count": 87,
   "metadata": {},
   "outputs": [
    {
     "name": "stdout",
     "output_type": "stream",
     "text": [
      "Accuray Score:  0.6538461538461539\n"
     ]
    }
   ],
   "source": [
    "print(\"Accuray Score: \",TSLA_sameDay_model.score(TSLA_X_classification_sameDay_test,TSLA_Y_Binary_sameDay_test))"
   ]
  },
  {
   "cell_type": "markdown",
   "metadata": {},
   "source": [
    "#### Confusion Matrix For Same Day"
   ]
  },
  {
   "cell_type": "code",
   "execution_count": 88,
   "metadata": {},
   "outputs": [
    {
     "name": "stdout",
     "output_type": "stream",
     "text": [
      "Confusion Matrix: \n",
      " [[28  4]\n",
      " [14  6]]\n",
      "\n",
      "\n",
      "Classification Report For Same day: \n",
      "               precision    recall  f1-score   support\n",
      "\n",
      "           0       0.67      0.88      0.76        32\n",
      "           1       0.60      0.30      0.40        20\n",
      "\n",
      "    accuracy                           0.65        52\n",
      "   macro avg       0.63      0.59      0.58        52\n",
      "weighted avg       0.64      0.65      0.62        52\n",
      "\n"
     ]
    }
   ],
   "source": [
    "print(\"Confusion Matrix: \\n\",confusion_matrix(TSLA_Y_Binary_sameDay_test, TSLA_sameDay_pred))\n",
    "print(\"\\n\")\n",
    "# Classification Report\n",
    "matrix = classification_report(TSLA_Y_Binary_sameDay_test, TSLA_sameDay_pred)\n",
    "print(\"Classification Report For Same day: \\n\",matrix)"
   ]
  },
  {
   "cell_type": "code",
   "execution_count": 89,
   "metadata": {},
   "outputs": [
    {
     "data": {
      "text/plain": [
       "(28, 4, 14, 6)"
      ]
     },
     "execution_count": 89,
     "metadata": {},
     "output_type": "execute_result"
    }
   ],
   "source": [
    "#Extracting TN,FP,FN,TN\n",
    "TSLA_sameDay_TN,TSLA_sameDay_FP,TSLA_sameDay_FN,TSLA_sameDay_TP = confusion_matrix(TSLA_Y_Binary_sameDay_test, TSLA_sameDay_pred).ravel()\n",
    "(TSLA_sameDay_TN,TSLA_sameDay_FP,TSLA_sameDay_FN,TSLA_sameDay_TP)"
   ]
  },
  {
   "cell_type": "markdown",
   "metadata": {},
   "source": [
    "#### Accuracy For Same Day with Confusion Matrix"
   ]
  },
  {
   "cell_type": "code",
   "execution_count": 90,
   "metadata": {},
   "outputs": [
    {
     "data": {
      "text/plain": [
       "0.6538461538461539"
      ]
     },
     "execution_count": 90,
     "metadata": {},
     "output_type": "execute_result"
    }
   ],
   "source": [
    "(TSLA_sameDay_TP + TSLA_sameDay_TN)/len(TSLA_X_classification_sameDay_test)"
   ]
  },
  {
   "cell_type": "markdown",
   "metadata": {},
   "source": [
    "#### Prediction on Previous Day Approach "
   ]
  },
  {
   "cell_type": "code",
   "execution_count": 91,
   "metadata": {},
   "outputs": [],
   "source": [
    "TSLA_previousDay_model = GaussianNB()\n",
    "TSLA_previousDay_model.fit(TSLA_X_classification_previousDay_train,TSLA_Y_Binary_previousDay_train)\n",
    "TSLA_previousDay_pred = TSLA_previousDay_model.predict(TSLA_X_classification_previousDay_test)"
   ]
  },
  {
   "cell_type": "markdown",
   "metadata": {},
   "source": [
    "### Accuracy"
   ]
  },
  {
   "cell_type": "code",
   "execution_count": 92,
   "metadata": {},
   "outputs": [
    {
     "name": "stdout",
     "output_type": "stream",
     "text": [
      "The accuracy is:  0.5\n"
     ]
    }
   ],
   "source": [
    "print(\"The accuracy is: \",TSLA_previousDay_model.score(TSLA_X_classification_previousDay_test,TSLA_Y_Binary_previousDay_test))"
   ]
  },
  {
   "cell_type": "markdown",
   "metadata": {},
   "source": [
    "#### Confusion Matrix For Previous Day"
   ]
  },
  {
   "cell_type": "code",
   "execution_count": 93,
   "metadata": {},
   "outputs": [
    {
     "name": "stdout",
     "output_type": "stream",
     "text": [
      "Confusion Matrix: \n",
      " [[26  0]\n",
      " [26  0]]\n",
      "\n",
      "\n",
      "Classification Report For Previous day: \n",
      "               precision    recall  f1-score   support\n",
      "\n",
      "           0       0.50      1.00      0.67        26\n",
      "           1       0.00      0.00      0.00        26\n",
      "\n",
      "    accuracy                           0.50        52\n",
      "   macro avg       0.25      0.50      0.33        52\n",
      "weighted avg       0.25      0.50      0.33        52\n",
      "\n"
     ]
    },
    {
     "name": "stderr",
     "output_type": "stream",
     "text": [
      "C:\\Users\\Hadeel\\Anaconda3\\lib\\site-packages\\sklearn\\metrics\\classification.py:1437: UndefinedMetricWarning: Precision and F-score are ill-defined and being set to 0.0 in labels with no predicted samples.\n",
      "  'precision', 'predicted', average, warn_for)\n"
     ]
    }
   ],
   "source": [
    "print(\"Confusion Matrix: \\n\",confusion_matrix(TSLA_Y_Binary_previousDay_test, TSLA_previousDay_pred))\n",
    "print(\"\\n\")\n",
    "# Classification Report\n",
    "matrix = classification_report(TSLA_Y_Binary_previousDay_test, TSLA_previousDay_pred)\n",
    "print(\"Classification Report For Previous day: \\n\",matrix)\n"
   ]
  },
  {
   "cell_type": "markdown",
   "metadata": {},
   "source": [
    "#### Conclusion\n",
    "Accuracy on the Same  Day approach is higher"
   ]
  },
  {
   "cell_type": "code",
   "execution_count": 94,
   "metadata": {},
   "outputs": [
    {
     "data": {
      "text/plain": [
       "['TSLA_previousDay_model.pkl']"
      ]
     },
     "execution_count": 94,
     "metadata": {},
     "output_type": "execute_result"
    }
   ],
   "source": [
    "\n",
    "\n",
    "# Save the model as a pickle in a file\n",
    "joblib.dump(TSLA_sameDay_model, 'TSLA_sameDay_model.pkl')\n",
    "joblib.dump(TSLA_previousDay_model, 'TSLA_previousDay_model.pkl')\n",
    "# Load the model from the file\n",
    "#knn_from_joblib = joblib.load('filename.pkl')\n",
    "# Use the loaded model to make predictions\n",
    "#knn_from_joblib.predict(X_test)\n"
   ]
  },
  {
   "cell_type": "code",
   "execution_count": null,
   "metadata": {},
   "outputs": [],
   "source": []
  }
 ],
 "metadata": {
  "kernelspec": {
   "display_name": "Python 3",
   "language": "python",
   "name": "python3"
  },
  "language_info": {
   "codemirror_mode": {
    "name": "ipython",
    "version": 3
   },
   "file_extension": ".py",
   "mimetype": "text/x-python",
   "name": "python",
   "nbconvert_exporter": "python",
   "pygments_lexer": "ipython3",
   "version": "3.7.4"
  }
 },
 "nbformat": 4,
 "nbformat_minor": 2
}
