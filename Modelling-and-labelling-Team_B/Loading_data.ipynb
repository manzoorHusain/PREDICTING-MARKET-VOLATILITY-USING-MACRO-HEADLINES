{
 "cells": [
  {
   "cell_type": "markdown",
   "metadata": {},
   "source": [
    "# AAPL"
   ]
  },
  {
   "cell_type": "code",
   "execution_count": 1,
   "metadata": {},
   "outputs": [],
   "source": [
    "import pandas as pd\n",
    "AAPL_df=pd.read_csv('Labeled_Data_modeling/AAPL_modeling_data.csv')"
   ]
  },
  {
   "cell_type": "code",
   "execution_count": 2,
   "metadata": {},
   "outputs": [],
   "source": [
    "from sklearn.model_selection import train_test_split"
   ]
  },
  {
   "cell_type": "code",
   "execution_count": 3,
   "metadata": {},
   "outputs": [],
   "source": [
    "AAPL_X_classification=AAPL_df['Date']\n",
    "AAPL_X_regression=AAPL_df.drop([\"Open\",\"Close/Last\",\"SameDay_Binary\",\"PreviousDay_Binary\",\"SameDay_Percentage\",\"PreviousDay_Percentage\"],axis =1 )\n",
    "AAPL_Y_Binary_sameDay = AAPL_df[\"SameDay_Binary\"]\n",
    "AAPL_Y_Binary_previousDay = AAPL_df[\"PreviousDay_Binary\"]\n",
    "AAPL_Y_Percentage_sameDay = AAPL_df[\"SameDay_Percentage\"]\n",
    "AAPL_Y_Percentage_previousDay = AAPL_df[\"PreviousDay_Percentage\"]"
   ]
  },
  {
   "cell_type": "code",
   "execution_count": 4,
   "metadata": {},
   "outputs": [],
   "source": [
    "AAPL_X_classification_sameDay_train, AAPL_X_classification_sameDay_test, AAPL_Y_Binary_sameDay_train, AAPL_Y_Binary_sameDay_test = train_test_split(AAPL_X_classification, AAPL_Y_Binary_sameDay, test_size=0.30, random_state=2)"
   ]
  },
  {
   "cell_type": "code",
   "execution_count": 5,
   "metadata": {},
   "outputs": [],
   "source": [
    "AAPL_X_classification_previousDay_train, AAPL_X_classification_previousDay_test, AAPL_Y_Binary_previousDay_train,AAPL_Y_Binary_previousDay_test = train_test_split(AAPL_X_classification, AAPL_Y_Binary_previousDay, test_size=0.30, random_state=2)"
   ]
  },
  {
   "cell_type": "code",
   "execution_count": 6,
   "metadata": {},
   "outputs": [],
   "source": [
    "AAPL_X_regression_sameday_train, AAPL_X_regression_sameday_test, AAPL_Y_Percentage_sameDay_train, AAPL_Y_Percentage_sameDay_test = train_test_split(AAPL_X_regression, AAPL_Y_Percentage_sameDay, test_size=0.30, random_state=2)"
   ]
  },
  {
   "cell_type": "code",
   "execution_count": 7,
   "metadata": {},
   "outputs": [],
   "source": [
    "AAPL_X_regression_previousday_train, AAPL_X_regression_previousday_test, AAPL_Y_Percentage_previousDay_train, AAPL_Y_Percentage_previousDay_test = train_test_split(AAPL_X_regression, AAPL_Y_Percentage_previousDay, test_size=0.30, random_state=2)"
   ]
  },
  {
   "cell_type": "markdown",
   "metadata": {},
   "source": [
    "# AMZN"
   ]
  },
  {
   "cell_type": "code",
   "execution_count": 8,
   "metadata": {},
   "outputs": [],
   "source": [
    "AMZN_df=pd.read_csv('Labeled_Data_modeling/AMZN_modeling_data.csv')"
   ]
  },
  {
   "cell_type": "code",
   "execution_count": 9,
   "metadata": {},
   "outputs": [],
   "source": [
    "AMZN_X_classification=AMZN_df['Date']\n",
    "AMZN_X_regression=AMZN_df.drop([\"Open\",\"Close/Last\",\"SameDay_Binary\",\"PreviousDay_Binary\",\"SameDay_Percentage\",\"PreviousDay_Percentage\"],axis =1 )\n",
    "AMZN_Y_Binary_sameDay = AMZN_df[\"SameDay_Binary\"]\n",
    "AMZN_Y_Binary_previousDay = AMZN_df[\"PreviousDay_Binary\"]\n",
    "AMZN_Y_Percentage_sameDay = AMZN_df[\"SameDay_Percentage\"]\n",
    "AMZN_Y_Percentage_previousDay = AMZN_df[\"PreviousDay_Percentage\"]"
   ]
  },
  {
   "cell_type": "code",
   "execution_count": 10,
   "metadata": {},
   "outputs": [],
   "source": [
    "AMZN_X_classification_sameDay_train, AMZN_X_classification_sameDay_test, AMZN_Y_Binary_sameDay_train, AMZN_Y_Binary_sameDay_test = train_test_split(AMZN_X_classification, AMZN_Y_Binary_sameDay, test_size=0.30, random_state=2)"
   ]
  },
  {
   "cell_type": "code",
   "execution_count": 11,
   "metadata": {},
   "outputs": [],
   "source": [
    "AMZN_X_classification_previousDay_train, AMZN_X_classification_previousDay_test, AMZN_Y_Binary_previousDay_train,AMZN_Y_Binary_previousDay_test = train_test_split(AMZN_X_classification, AMZN_Y_Binary_previousDay, test_size=0.30, random_state=2)"
   ]
  },
  {
   "cell_type": "code",
   "execution_count": 12,
   "metadata": {},
   "outputs": [],
   "source": [
    "AMZN_X_regression_sameday_train, AMZN_X_regression_sameday_test, AMZN_Y_Percentage_sameDay_train, AMZN_Y_Percentage_sameDay_test = train_test_split(AMZN_X_regression, AMZN_Y_Percentage_sameDay, test_size=0.30, random_state=2)"
   ]
  },
  {
   "cell_type": "code",
   "execution_count": 13,
   "metadata": {},
   "outputs": [],
   "source": [
    "AMZN_X_regression_previousday_train, AMZN_X_regression_previousday_test, AMZN_Y_Percentage_previousDay_train, AMZN_Y_Percentage_previousDay_test = train_test_split(AMZN_X_regression, AMZN_Y_Percentage_previousDay, test_size=0.30, random_state=2)"
   ]
  },
  {
   "cell_type": "markdown",
   "metadata": {},
   "source": [
    "# IBM"
   ]
  },
  {
   "cell_type": "code",
   "execution_count": 14,
   "metadata": {},
   "outputs": [],
   "source": [
    "IBM_df=pd.read_csv('Labeled_Data_modeling/IBM_modeling_data.csv')"
   ]
  },
  {
   "cell_type": "code",
   "execution_count": 15,
   "metadata": {},
   "outputs": [],
   "source": [
    "IBM_X_classification=IBM_df['Date']\n",
    "IBM_X_regression=IBM_df.drop([\"Open\",\"Close/Last\",\"SameDay_Binary\",\"PreviousDay_Binary\",\"SameDay_Percentage\",\"PreviousDay_Percentage\"],axis =1 )\n",
    "IBM_Y_Binary_sameDay = IBM_df[\"SameDay_Binary\"]\n",
    "IBM_Y_Binary_previousDay = IBM_df[\"PreviousDay_Binary\"]\n",
    "IBM_Y_Percentage_sameDay = IBM_df[\"SameDay_Percentage\"]\n",
    "IBM_Y_Percentage_previousDay = IBM_df[\"PreviousDay_Percentage\"]"
   ]
  },
  {
   "cell_type": "code",
   "execution_count": 16,
   "metadata": {},
   "outputs": [],
   "source": [
    "IBM_X_classification_sameDay_train, IBM_X_classification_sameDay_test, IBM_Y_Binary_sameDay_train, IBM_Y_Binary_sameDay_test = train_test_split(IBM_X_classification,IBM_Y_Binary_sameDay, test_size=0.30, random_state=2)"
   ]
  },
  {
   "cell_type": "code",
   "execution_count": 17,
   "metadata": {},
   "outputs": [],
   "source": [
    "IBM_X_classification_previousDay_train, IBM_X_classification_previousDay_test, IBM_Y_Binary_previousDay_train,IBM_Y_Binary_previousDay_test = train_test_split(IBM_X_classification, IBM_Y_Binary_previousDay, test_size=0.30, random_state=2)"
   ]
  },
  {
   "cell_type": "code",
   "execution_count": 18,
   "metadata": {},
   "outputs": [],
   "source": [
    "IBM_X_regression_sameday_train, IBM_X_regression_sameday_test, IBM_Y_Percentage_sameDay_train, IBM_Y_Percentage_sameDay_test = train_test_split(IBM_X_regression, IBM_Y_Percentage_sameDay, test_size=0.30, random_state=2)"
   ]
  },
  {
   "cell_type": "code",
   "execution_count": 19,
   "metadata": {},
   "outputs": [],
   "source": [
    "IBM_X_regression_previousday_train, IBM_X_regression_previousday_test, IBM_Y_Percentage_previousDay_train, IBM_Y_Percentage_previousDay_test = train_test_split(IBM_X_regression, IBM_Y_Percentage_previousDay, test_size=0.30, random_state=2)"
   ]
  },
  {
   "cell_type": "markdown",
   "metadata": {},
   "source": [
    "# MSFT"
   ]
  },
  {
   "cell_type": "code",
   "execution_count": 20,
   "metadata": {},
   "outputs": [],
   "source": [
    "MSFT_df=pd.read_csv('Labeled_Data_modeling/MSFT_modeling_data.csv')"
   ]
  },
  {
   "cell_type": "code",
   "execution_count": 21,
   "metadata": {},
   "outputs": [],
   "source": [
    "MSFT_X_classification=MSFT_df['Date']\n",
    "MSFT_X_regression=MSFT_df.drop([\"Open\",\"Close/Last\",\"SameDay_Binary\",\"PreviousDay_Binary\",\"SameDay_Percentage\",\"PreviousDay_Percentage\"],axis =1 )\n",
    "MSFT_Y_Binary_sameDay = MSFT_df[\"SameDay_Binary\"]\n",
    "MSFT_Y_Binary_previousDay = MSFT_df[\"PreviousDay_Binary\"]\n",
    "MSFT_Y_Percentage_sameDay = MSFT_df[\"SameDay_Percentage\"]\n",
    "MSFT_Y_Percentage_previousDay = MSFT_df[\"PreviousDay_Percentage\"]"
   ]
  },
  {
   "cell_type": "code",
   "execution_count": 22,
   "metadata": {},
   "outputs": [],
   "source": [
    "MSFT_X_classification_sameDay_train, MSFT_X_classification_sameDay_test, MSFT_Y_Binary_sameDay_train, MSFT_Y_Binary_sameDay_test = train_test_split(MSFT_X_classification, MSFT_Y_Binary_sameDay, test_size=0.30, random_state=2)"
   ]
  },
  {
   "cell_type": "code",
   "execution_count": 23,
   "metadata": {},
   "outputs": [],
   "source": [
    "MSFT_X_classification_previousDay_train, MSFT_X_classification_previousDay_test, MSFT_Y_Binary_previousDay_train,MSFT_Y_Binary_previousDay_test = train_test_split(MSFT_X_classification, MSFT_Y_Binary_previousDay, test_size=0.30, random_state=2)"
   ]
  },
  {
   "cell_type": "code",
   "execution_count": 24,
   "metadata": {},
   "outputs": [],
   "source": [
    "MSFT_X_regression_sameday_train,MSFT_X_regression_sameday_test, MSFT_Y_Percentage_sameDay_train, MSFT_Y_Percentage_sameDay_test = train_test_split(MSFT_X_regression, MSFT_Y_Percentage_sameDay, test_size=0.30, random_state=2)"
   ]
  },
  {
   "cell_type": "code",
   "execution_count": 25,
   "metadata": {},
   "outputs": [],
   "source": [
    "MSFT_X_regression_previousday_train, MSFT_X_regression_previousday_test, MSFT_Y_Percentage_previousDay_train, MSFT_Y_Percentage_previousDay_test = train_test_split(MSFT_X_regression, MSFT_Y_Percentage_previousDay, test_size=0.30, random_state=2)"
   ]
  },
  {
   "cell_type": "markdown",
   "metadata": {},
   "source": [
    "# TSLA"
   ]
  },
  {
   "cell_type": "code",
   "execution_count": 26,
   "metadata": {},
   "outputs": [],
   "source": [
    "TSLA_df=pd.read_csv('Labeled_Data_modeling/TSLA_modeling_data.csv')"
   ]
  },
  {
   "cell_type": "code",
   "execution_count": 27,
   "metadata": {},
   "outputs": [],
   "source": [
    "TSLA_X_classification=TSLA_df['Date']\n",
    "TSLA_X_regression=TSLA_df.drop([\"Open\",\"Close/Last\",\"SameDay_Binary\",\"PreviousDay_Binary\",\"SameDay_Percentage\",\"PreviousDay_Percentage\"],axis =1 )\n",
    "TSLA_Y_Binary_sameDay = TSLA_df[\"SameDay_Binary\"]\n",
    "TSLA_Y_Binary_previousDay = TSLA_df[\"PreviousDay_Binary\"]\n",
    "TSLA_Y_Percentage_sameDay = TSLA_df[\"SameDay_Percentage\"]\n",
    "TSLA_Y_Percentage_previousDay =TSLA_df[\"PreviousDay_Percentage\"]"
   ]
  },
  {
   "cell_type": "code",
   "execution_count": 28,
   "metadata": {},
   "outputs": [],
   "source": [
    "TSLA_X_classification_sameDay_train, TSLA_X_classification_sameDay_test, TSLA_Y_Binary_sameDay_train, TSLA_Y_Binary_sameDay_test = train_test_split(TSLA_X_classification, TSLA_Y_Binary_sameDay, test_size=0.30, random_state=2)"
   ]
  },
  {
   "cell_type": "code",
   "execution_count": 29,
   "metadata": {},
   "outputs": [],
   "source": [
    "TSLA_X_classification_previousDay_train, TSLA_X_classification_previousDay_test, TSLA_Y_Binary_previousDay_train,TSLA_Y_Binary_previousDay_test = train_test_split(TSLA_X_classification, TSLA_Y_Binary_previousDay, test_size=0.30, random_state=2)"
   ]
  },
  {
   "cell_type": "code",
   "execution_count": 30,
   "metadata": {},
   "outputs": [],
   "source": [
    "TSLA_X_regression_sameday_train, TSLA_X_regression_sameday_test, TSLA_Y_Percentage_sameDay_train, TSLA_Y_Percentage_sameDay_test = train_test_split(TSLA_X_regression, TSLA_Y_Percentage_sameDay, test_size=0.30, random_state=2)"
   ]
  },
  {
   "cell_type": "code",
   "execution_count": 31,
   "metadata": {},
   "outputs": [],
   "source": [
    "TSLA_X_regression_previousday_train, TSLA_X_regression_previousday_test, TSLA_Y_Percentage_previousDay_train, TSLA_Y_Percentage_previousDay_test = train_test_split(TSLA_X_regression, TSLA_Y_Percentage_previousDay, test_size=0.30, random_state=2)"
   ]
  },
  {
   "cell_type": "code",
   "execution_count": null,
   "metadata": {},
   "outputs": [],
   "source": []
  }
 ],
 "metadata": {
  "kernelspec": {
   "display_name": "Python 3",
   "language": "python",
   "name": "python3"
  },
  "language_info": {
   "codemirror_mode": {
    "name": "ipython",
    "version": 3
   },
   "file_extension": ".py",
   "mimetype": "text/x-python",
   "name": "python",
   "nbconvert_exporter": "python",
   "pygments_lexer": "ipython3",
   "version": "3.7.4"
  }
 },
 "nbformat": 4,
 "nbformat_minor": 2
}
