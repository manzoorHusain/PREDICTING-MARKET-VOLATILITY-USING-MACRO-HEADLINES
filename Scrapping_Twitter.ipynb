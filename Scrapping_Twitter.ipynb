{
 "cells": [
  {
   "cell_type": "code",
   "execution_count": 1,
   "metadata": {},
   "outputs": [],
   "source": [
    "import snscrape.modules.twitter as sntwitter\n",
    "import pandas as pd"
   ]
  },
  {
   "cell_type": "code",
   "execution_count": 2,
   "metadata": {},
   "outputs": [],
   "source": [
    "tweets_scraped=[]\n",
    "for i,tweet in enumerate(sntwitter.TwitterSearchScraper('KO since:2021-04-01 until:2021-09-20 lang:en').get_items()):\n",
    "    if i>5000:\n",
    "        break\n",
    "    tweets_scraped.append([tweet.date , tweet.content])"
   ]
  },
  {
   "cell_type": "code",
   "execution_count": 3,
   "metadata": {},
   "outputs": [],
   "source": [
    "\n",
    "for i,tweet in enumerate(sntwitter.TwitterSearchScraper('AXP since:2021-04-01 until:2021-09-20 lang:en').get_items()):\n",
    "    if i>5000:\n",
    "        break\n",
    "    tweets_scraped.append([tweet.date , tweet.content])"
   ]
  },
  {
   "cell_type": "code",
   "execution_count": 4,
   "metadata": {},
   "outputs": [],
   "source": [
    "\n",
    "for i,tweet in enumerate(sntwitter.TwitterSearchScraper('MCD since:2021-04-01 until:2021-09-20 lang:en').get_items()):\n",
    "    if i>5000:\n",
    "        break\n",
    "    tweets_scraped.append([tweet.date , tweet.content])"
   ]
  },
  {
   "cell_type": "code",
   "execution_count": 5,
   "metadata": {},
   "outputs": [],
   "source": [
    "\n",
    "for i,tweet in enumerate(sntwitter.TwitterSearchScraper('IBM since:2021-04-01 until:2021-09-20 lang:en').get_items()):\n",
    "    if i>5000:\n",
    "        break\n",
    "    tweets_scraped.append([tweet.date , tweet.content])"
   ]
  },
  {
   "cell_type": "code",
   "execution_count": 6,
   "metadata": {},
   "outputs": [],
   "source": [
    "\n",
    "for i,tweet in enumerate(sntwitter.TwitterSearchScraper('NKE since:2021-04-01 until:2021-09-20 lang:en').get_items()):\n",
    "    if i>5000:\n",
    "        break\n",
    "    tweets_scraped.append([tweet.date , tweet.content])"
   ]
  },
  {
   "cell_type": "code",
   "execution_count": 7,
   "metadata": {},
   "outputs": [],
   "source": [
    "dataframe = pd.DataFrame(tweets_scraped) \n",
    "dataframe=dataframe.reset_index(drop=True)\n",
    "dataframe.to_csv(\"Scraped_data.csv\")"
   ]
  }
 ],
 "metadata": {
  "kernelspec": {
   "display_name": "Python 3",
   "language": "python",
   "name": "python3"
  },
  "language_info": {
   "codemirror_mode": {
    "name": "ipython",
    "version": 3
   },
   "file_extension": ".py",
   "mimetype": "text/x-python",
   "name": "python",
   "nbconvert_exporter": "python",
   "pygments_lexer": "ipython3",
   "version": "3.7.4"
  }
 },
 "nbformat": 4,
 "nbformat_minor": 2
}
